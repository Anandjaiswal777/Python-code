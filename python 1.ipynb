{
  "nbformat": 4,
  "nbformat_minor": 0,
  "metadata": {
    "colab": {
      "provenance": []
    },
    "kernelspec": {
      "name": "python3",
      "display_name": "Python 3"
    },
    "language_info": {
      "name": "python"
    }
  },
  "cells": [
    {
      "cell_type": "markdown",
      "source": [
        "#alrthmetic operators"
      ],
      "metadata": {
        "id": "NYs_ouujho-b"
      }
    },
    {
      "cell_type": "markdown",
      "source": [
        "#Addition"
      ],
      "metadata": {
        "id": "KqVULzc-0HcH"
      }
    },
    {
      "cell_type": "code",
      "source": [
        "a=10\n",
        "b=20\n",
        "c=a+b"
      ],
      "metadata": {
        "id": "J-mDXDwBDDmd"
      },
      "execution_count": null,
      "outputs": []
    },
    {
      "cell_type": "code",
      "source": [
        "c"
      ],
      "metadata": {
        "colab": {
          "base_uri": "https://localhost:8080/"
        },
        "id": "Q1MiWn48DaeX",
        "outputId": "0a8381ff-f4af-4042-b315-0a43cff4e8d4"
      },
      "execution_count": null,
      "outputs": [
        {
          "output_type": "execute_result",
          "data": {
            "text/plain": [
              "30"
            ]
          },
          "metadata": {},
          "execution_count": 4
        }
      ]
    },
    {
      "cell_type": "code",
      "source": [
        "p=20\n",
        "q=20\n",
        "r=p+q"
      ],
      "metadata": {
        "id": "TwX05JPQDdDP"
      },
      "execution_count": null,
      "outputs": []
    },
    {
      "cell_type": "code",
      "source": [
        "r"
      ],
      "metadata": {
        "colab": {
          "base_uri": "https://localhost:8080/"
        },
        "id": "SJ6d9fQNDndW",
        "outputId": "f4a9b335-de52-49e1-9c76-045f2e4352f2"
      },
      "execution_count": null,
      "outputs": [
        {
          "output_type": "execute_result",
          "data": {
            "text/plain": [
              "40"
            ]
          },
          "metadata": {},
          "execution_count": 6
        }
      ]
    },
    {
      "cell_type": "markdown",
      "source": [
        "#Subtraction  "
      ],
      "metadata": {
        "id": "Oo6CfM5W0Uwe"
      }
    },
    {
      "cell_type": "code",
      "source": [
        "a=20\n",
        "b=10\n",
        "c=a-b"
      ],
      "metadata": {
        "id": "pa1DBqZAD2cF"
      },
      "execution_count": null,
      "outputs": []
    },
    {
      "cell_type": "code",
      "source": [
        "c"
      ],
      "metadata": {
        "colab": {
          "base_uri": "https://localhost:8080/"
        },
        "id": "aXFalvH8EBoC",
        "outputId": "6f847bde-ea14-401c-81ba-6748604be150"
      },
      "execution_count": null,
      "outputs": [
        {
          "output_type": "execute_result",
          "data": {
            "text/plain": [
              "10"
            ]
          },
          "metadata": {},
          "execution_count": 9
        }
      ]
    },
    {
      "cell_type": "markdown",
      "source": [
        "#Multiplication"
      ],
      "metadata": {
        "id": "UNEkkODA0dOx"
      }
    },
    {
      "cell_type": "code",
      "source": [
        "a=10\n",
        "b=20\n",
        "a*b"
      ],
      "metadata": {
        "colab": {
          "base_uri": "https://localhost:8080/"
        },
        "id": "wMAVhwJfECN6",
        "outputId": "ae95b314-3c43-4f87-c2a2-386ebd90f2e1"
      },
      "execution_count": null,
      "outputs": [
        {
          "output_type": "execute_result",
          "data": {
            "text/plain": [
              "200"
            ]
          },
          "metadata": {},
          "execution_count": 10
        }
      ]
    },
    {
      "cell_type": "markdown",
      "source": [
        "#Division"
      ],
      "metadata": {
        "id": "TKbHm0Wg0iu0"
      }
    },
    {
      "cell_type": "code",
      "source": [
        "a=10\n",
        "b=20\n",
        "a/b"
      ],
      "metadata": {
        "colab": {
          "base_uri": "https://localhost:8080/"
        },
        "id": "NyHOfKnZEJyR",
        "outputId": "6fc63992-9e26-46cb-ae31-63a4a27553d2"
      },
      "execution_count": null,
      "outputs": [
        {
          "output_type": "execute_result",
          "data": {
            "text/plain": [
              "0.5"
            ]
          },
          "metadata": {},
          "execution_count": 11
        }
      ]
    },
    {
      "cell_type": "markdown",
      "source": [
        "#floor divison"
      ],
      "metadata": {
        "id": "moJKAVq40pmH"
      }
    },
    {
      "cell_type": "code",
      "source": [
        "c=5//2"
      ],
      "metadata": {
        "id": "93aed9fzF_X7"
      },
      "execution_count": null,
      "outputs": []
    },
    {
      "cell_type": "code",
      "source": [
        "c"
      ],
      "metadata": {
        "colab": {
          "base_uri": "https://localhost:8080/"
        },
        "id": "mQpsmTW4GkP1",
        "outputId": "63a8ff19-396a-48a8-841f-b8c6b20b0f45"
      },
      "execution_count": null,
      "outputs": [
        {
          "output_type": "execute_result",
          "data": {
            "text/plain": [
              "2"
            ]
          },
          "metadata": {},
          "execution_count": 20
        }
      ]
    },
    {
      "cell_type": "markdown",
      "source": [
        "#moduls"
      ],
      "metadata": {
        "id": "-rAQgbMH0w6w"
      }
    },
    {
      "cell_type": "code",
      "source": [
        "a=5\n",
        "b=4"
      ],
      "metadata": {
        "id": "ZA2MnoTkGwHh"
      },
      "execution_count": null,
      "outputs": []
    },
    {
      "cell_type": "code",
      "source": [
        "a%b"
      ],
      "metadata": {
        "colab": {
          "base_uri": "https://localhost:8080/"
        },
        "id": "c-led5Y4HAS_",
        "outputId": "401ec7d6-13fb-4360-a587-1c236779456b"
      },
      "execution_count": null,
      "outputs": [
        {
          "output_type": "execute_result",
          "data": {
            "text/plain": [
              "1"
            ]
          },
          "metadata": {},
          "execution_count": 23
        }
      ]
    },
    {
      "cell_type": "markdown",
      "source": [
        "#exopenation"
      ],
      "metadata": {
        "id": "Wy5TZ3N102Ef"
      }
    },
    {
      "cell_type": "code",
      "source": [
        "a=2\n",
        "b=5\n",
        "a**b"
      ],
      "metadata": {
        "colab": {
          "base_uri": "https://localhost:8080/"
        },
        "id": "1uoGV17_M4zd",
        "outputId": "959a9164-3cf5-4886-c7af-5299e04c0948"
      },
      "execution_count": null,
      "outputs": [
        {
          "output_type": "execute_result",
          "data": {
            "text/plain": [
              "32"
            ]
          },
          "metadata": {},
          "execution_count": 25
        }
      ]
    },
    {
      "cell_type": "code",
      "source": [
        "x=100"
      ],
      "metadata": {
        "id": "RmHlef9rNQd4"
      },
      "execution_count": null,
      "outputs": []
    },
    {
      "cell_type": "markdown",
      "source": [
        "#addition Assignment"
      ],
      "metadata": {
        "id": "BH0bRykC07Ue"
      }
    },
    {
      "cell_type": "code",
      "source": [
        "x=x+20"
      ],
      "metadata": {
        "id": "zHTA_C6HNy93"
      },
      "execution_count": null,
      "outputs": []
    },
    {
      "cell_type": "code",
      "source": [
        "x"
      ],
      "metadata": {
        "colab": {
          "base_uri": "https://localhost:8080/"
        },
        "id": "8HlHixurORju",
        "outputId": "ff5e21fb-026d-4edb-ac01-ded2ddfbf9ea"
      },
      "execution_count": null,
      "outputs": [
        {
          "output_type": "execute_result",
          "data": {
            "text/plain": [
              "120"
            ]
          },
          "metadata": {},
          "execution_count": 29
        }
      ]
    },
    {
      "cell_type": "code",
      "source": [
        "x+=100"
      ],
      "metadata": {
        "id": "qFU-ZyLXOTgV"
      },
      "execution_count": null,
      "outputs": []
    },
    {
      "cell_type": "code",
      "source": [
        "x"
      ],
      "metadata": {
        "colab": {
          "base_uri": "https://localhost:8080/"
        },
        "id": "Z5TQSpilOZc6",
        "outputId": "83596c56-d241-4b92-83e3-185887fe1ddf"
      },
      "execution_count": null,
      "outputs": [
        {
          "output_type": "execute_result",
          "data": {
            "text/plain": [
              "220"
            ]
          },
          "metadata": {},
          "execution_count": 31
        }
      ]
    },
    {
      "cell_type": "code",
      "source": [
        "y=100"
      ],
      "metadata": {
        "id": "7_4FfsVQOrHJ"
      },
      "execution_count": null,
      "outputs": []
    },
    {
      "cell_type": "code",
      "source": [
        "y-=30"
      ],
      "metadata": {
        "id": "2iMNp4TBO6Sc"
      },
      "execution_count": null,
      "outputs": []
    },
    {
      "cell_type": "code",
      "source": [
        "y"
      ],
      "metadata": {
        "colab": {
          "base_uri": "https://localhost:8080/"
        },
        "id": "AlEeQu8EO9Aa",
        "outputId": "94bbd32f-6b3b-4dcd-83f8-f377f4936c3b"
      },
      "execution_count": null,
      "outputs": [
        {
          "output_type": "execute_result",
          "data": {
            "text/plain": [
              "70"
            ]
          },
          "metadata": {},
          "execution_count": 36
        }
      ]
    },
    {
      "cell_type": "code",
      "source": [
        "y=100\n",
        "y*=30"
      ],
      "metadata": {
        "id": "t4yr8i7MO9rL"
      },
      "execution_count": null,
      "outputs": []
    },
    {
      "cell_type": "code",
      "source": [
        "y"
      ],
      "metadata": {
        "colab": {
          "base_uri": "https://localhost:8080/"
        },
        "id": "-dXGEqWGPDE8",
        "outputId": "0f79ad1e-eb39-46a4-b9b6-34ea922dde2c"
      },
      "execution_count": null,
      "outputs": [
        {
          "output_type": "execute_result",
          "data": {
            "text/plain": [
              "3000"
            ]
          },
          "metadata": {},
          "execution_count": 41
        }
      ]
    },
    {
      "cell_type": "code",
      "source": [
        "y=100\n",
        "y/=30\n",
        "y"
      ],
      "metadata": {
        "colab": {
          "base_uri": "https://localhost:8080/"
        },
        "id": "_NB5fEM0PECK",
        "outputId": "0331ae86-ba19-4bd6-fa7c-beb64c1acccd"
      },
      "execution_count": null,
      "outputs": [
        {
          "output_type": "execute_result",
          "data": {
            "text/plain": [
              "3.3333333333333335"
            ]
          },
          "metadata": {},
          "execution_count": 42
        }
      ]
    },
    {
      "cell_type": "code",
      "source": [
        "y=100\n",
        "y%=3\n",
        "y"
      ],
      "metadata": {
        "colab": {
          "base_uri": "https://localhost:8080/"
        },
        "id": "mk6fqEeGPIYo",
        "outputId": "c705e47d-8871-4fec-95f1-7624a51eb347"
      },
      "execution_count": null,
      "outputs": [
        {
          "output_type": "execute_result",
          "data": {
            "text/plain": [
              "1"
            ]
          },
          "metadata": {},
          "execution_count": 43
        }
      ]
    },
    {
      "cell_type": "code",
      "source": [
        "y=10\n",
        "y//=3\n",
        "y"
      ],
      "metadata": {
        "colab": {
          "base_uri": "https://localhost:8080/"
        },
        "id": "E5e-91CZQCwC",
        "outputId": "84fcb930-d50b-4092-c914-6a5858f3200e"
      },
      "execution_count": null,
      "outputs": [
        {
          "output_type": "execute_result",
          "data": {
            "text/plain": [
              "3"
            ]
          },
          "metadata": {},
          "execution_count": 44
        }
      ]
    },
    {
      "cell_type": "code",
      "source": [
        "y=100\n",
        "y**=5\n",
        "y"
      ],
      "metadata": {
        "colab": {
          "base_uri": "https://localhost:8080/"
        },
        "id": "FOgkWTkKQTyy",
        "outputId": "bbab0e1f-5880-44b6-ccbe-8a4c68913972"
      },
      "execution_count": null,
      "outputs": [
        {
          "output_type": "execute_result",
          "data": {
            "text/plain": [
              "10000000000"
            ]
          },
          "metadata": {},
          "execution_count": 46
        }
      ]
    },
    {
      "cell_type": "markdown",
      "source": [
        "#equal to"
      ],
      "metadata": {
        "id": "_VVDpAxw1Ecn"
      }
    },
    {
      "cell_type": "code",
      "source": [
        "a=5\n",
        "b=10\n",
        "a==b"
      ],
      "metadata": {
        "colab": {
          "base_uri": "https://localhost:8080/"
        },
        "id": "wod4oI12RAhi",
        "outputId": "9af6c3fe-a23b-4b3f-ce89-b8708f9b30cf"
      },
      "execution_count": null,
      "outputs": [
        {
          "output_type": "execute_result",
          "data": {
            "text/plain": [
              "False"
            ]
          },
          "metadata": {},
          "execution_count": 48
        }
      ]
    },
    {
      "cell_type": "code",
      "source": [
        "a=5\n",
        "b=5\n",
        "a==b"
      ],
      "metadata": {
        "colab": {
          "base_uri": "https://localhost:8080/"
        },
        "id": "3eqZdY86RGPt",
        "outputId": "c7b99b69-6bbf-45ac-a4c4-d2c3fc9dfaa5"
      },
      "execution_count": null,
      "outputs": [
        {
          "output_type": "execute_result",
          "data": {
            "text/plain": [
              "True"
            ]
          },
          "metadata": {},
          "execution_count": 49
        }
      ]
    },
    {
      "cell_type": "markdown",
      "source": [
        "#not equal to"
      ],
      "metadata": {
        "id": "Xh0EIXC71JIx"
      }
    },
    {
      "cell_type": "code",
      "source": [
        "a=5\n",
        "b=6\n",
        "a!=b"
      ],
      "metadata": {
        "colab": {
          "base_uri": "https://localhost:8080/"
        },
        "id": "gQ0-GxXeROhs",
        "outputId": "a11ac091-1ae6-4e2a-b941-2d5c8e3233ec"
      },
      "execution_count": null,
      "outputs": [
        {
          "output_type": "execute_result",
          "data": {
            "text/plain": [
              "True"
            ]
          },
          "metadata": {},
          "execution_count": 52
        }
      ]
    },
    {
      "cell_type": "code",
      "source": [
        "a=10\n",
        "b=50\n",
        "a<b"
      ],
      "metadata": {
        "colab": {
          "base_uri": "https://localhost:8080/"
        },
        "id": "YO95GHkFRTaa",
        "outputId": "3f60e4c3-7a1c-4fac-b251-e3e89c08d525"
      },
      "execution_count": null,
      "outputs": [
        {
          "output_type": "execute_result",
          "data": {
            "text/plain": [
              "True"
            ]
          },
          "metadata": {},
          "execution_count": 53
        }
      ]
    },
    {
      "cell_type": "code",
      "source": [
        "a=40\n",
        "b=80\n",
        "a>b"
      ],
      "metadata": {
        "colab": {
          "base_uri": "https://localhost:8080/"
        },
        "id": "tgNzjlhTR524",
        "outputId": "ea247ac5-e63e-4574-8934-48113dc19c69"
      },
      "execution_count": null,
      "outputs": [
        {
          "output_type": "execute_result",
          "data": {
            "text/plain": [
              "False"
            ]
          },
          "metadata": {},
          "execution_count": 54
        }
      ]
    },
    {
      "cell_type": "code",
      "source": [
        "20<=40"
      ],
      "metadata": {
        "colab": {
          "base_uri": "https://localhost:8080/"
        },
        "id": "zpLSlMsTR_dm",
        "outputId": "306376ac-c2a7-49eb-da65-33802190a647"
      },
      "execution_count": null,
      "outputs": [
        {
          "output_type": "execute_result",
          "data": {
            "text/plain": [
              "True"
            ]
          },
          "metadata": {},
          "execution_count": 57
        }
      ]
    },
    {
      "cell_type": "code",
      "source": [
        "5>=5"
      ],
      "metadata": {
        "colab": {
          "base_uri": "https://localhost:8080/"
        },
        "id": "gwf8uJFLSj8c",
        "outputId": "a28a876c-ef40-41be-cc7b-b63f88fabf78"
      },
      "execution_count": null,
      "outputs": [
        {
          "output_type": "execute_result",
          "data": {
            "text/plain": [
              "True"
            ]
          },
          "metadata": {},
          "execution_count": 56
        }
      ]
    },
    {
      "cell_type": "code",
      "source": [
        "a=5\n",
        "b=10\n",
        "c=20"
      ],
      "metadata": {
        "id": "UdOEOnfOTZje"
      },
      "execution_count": null,
      "outputs": []
    },
    {
      "cell_type": "code",
      "source": [
        "a<b and b<c"
      ],
      "metadata": {
        "colab": {
          "base_uri": "https://localhost:8080/"
        },
        "id": "vxXId0z-VPXr",
        "outputId": "6558bfb1-ab83-4979-fd52-da89da937a67"
      },
      "execution_count": null,
      "outputs": [
        {
          "output_type": "execute_result",
          "data": {
            "text/plain": [
              "True"
            ]
          },
          "metadata": {},
          "execution_count": 61
        }
      ]
    },
    {
      "cell_type": "code",
      "source": [
        "a<b or b<c"
      ],
      "metadata": {
        "colab": {
          "base_uri": "https://localhost:8080/"
        },
        "id": "sGpaJkfEVbtj",
        "outputId": "cf0b42ba-bfa9-474a-df64-e3c41a0fa52b"
      },
      "execution_count": null,
      "outputs": [
        {
          "output_type": "execute_result",
          "data": {
            "text/plain": [
              "True"
            ]
          },
          "metadata": {},
          "execution_count": 62
        }
      ]
    },
    {
      "cell_type": "code",
      "source": [
        "not x==b"
      ],
      "metadata": {
        "colab": {
          "base_uri": "https://localhost:8080/"
        },
        "id": "9prd-APkVoj4",
        "outputId": "c9173c36-560c-4c5f-e333-4c59ec2bd7f9"
      },
      "execution_count": null,
      "outputs": [
        {
          "output_type": "execute_result",
          "data": {
            "text/plain": [
              "True"
            ]
          },
          "metadata": {},
          "execution_count": 63
        }
      ]
    },
    {
      "cell_type": "code",
      "source": [
        "x=\"my name is anand\""
      ],
      "metadata": {
        "id": "WSVT16-5VwLf"
      },
      "execution_count": null,
      "outputs": []
    },
    {
      "cell_type": "code",
      "source": [
        "\"an\" in x"
      ],
      "metadata": {
        "colab": {
          "base_uri": "https://localhost:8080/"
        },
        "id": "KQM6yhQAWR1n",
        "outputId": "4c369fd4-4090-4d30-d359-1f96697483c4"
      },
      "execution_count": null,
      "outputs": [
        {
          "output_type": "execute_result",
          "data": {
            "text/plain": [
              "True"
            ]
          },
          "metadata": {},
          "execution_count": 67
        }
      ]
    },
    {
      "cell_type": "code",
      "source": [
        "\"r\" not in x"
      ],
      "metadata": {
        "colab": {
          "base_uri": "https://localhost:8080/"
        },
        "id": "0ZAzuPDQWUAc",
        "outputId": "d270c678-6f41-469b-c430-2e7999fd0896"
      },
      "execution_count": null,
      "outputs": [
        {
          "output_type": "execute_result",
          "data": {
            "text/plain": [
              "True"
            ]
          },
          "metadata": {},
          "execution_count": 74
        }
      ]
    },
    {
      "cell_type": "code",
      "source": [
        "x=23\n",
        "y=23"
      ],
      "metadata": {
        "id": "S7D_WZ4aWf9R"
      },
      "execution_count": null,
      "outputs": []
    },
    {
      "cell_type": "code",
      "source": [
        "x==y"
      ],
      "metadata": {
        "colab": {
          "base_uri": "https://localhost:8080/"
        },
        "id": "jZzE44RVX3O7",
        "outputId": "6ed047ab-6a5d-4a6f-dbf2-50d651353075"
      },
      "execution_count": null,
      "outputs": [
        {
          "output_type": "execute_result",
          "data": {
            "text/plain": [
              "True"
            ]
          },
          "metadata": {},
          "execution_count": 76
        }
      ]
    },
    {
      "cell_type": "code",
      "source": [
        "x is  y"
      ],
      "metadata": {
        "colab": {
          "base_uri": "https://localhost:8080/"
        },
        "id": "_Ir3FKwPX5Mk",
        "outputId": "f72082fa-14de-4b6e-ce3c-94c08cee3f32"
      },
      "execution_count": null,
      "outputs": [
        {
          "output_type": "execute_result",
          "data": {
            "text/plain": [
              "False"
            ]
          },
          "metadata": {},
          "execution_count": 83
        }
      ]
    },
    {
      "cell_type": "code",
      "source": [
        "x=5\n",
        "y=8"
      ],
      "metadata": {
        "id": "u-mOxdPiX8Vn"
      },
      "execution_count": null,
      "outputs": []
    },
    {
      "cell_type": "code",
      "source": [
        "x==y"
      ],
      "metadata": {
        "colab": {
          "base_uri": "https://localhost:8080/"
        },
        "id": "t5HSAWtSYGYe",
        "outputId": "53de87fa-4e1b-40b3-b501-10f9ab578d1d"
      },
      "execution_count": null,
      "outputs": [
        {
          "output_type": "execute_result",
          "data": {
            "text/plain": [
              "False"
            ]
          },
          "metadata": {},
          "execution_count": 81
        }
      ]
    },
    {
      "cell_type": "code",
      "source": [
        "x is not y"
      ],
      "metadata": {
        "colab": {
          "base_uri": "https://localhost:8080/"
        },
        "id": "1-RfHyNXYHbP",
        "outputId": "2127e53e-5026-4bb6-9c50-aa4f673d6807"
      },
      "execution_count": null,
      "outputs": [
        {
          "output_type": "execute_result",
          "data": {
            "text/plain": [
              "True"
            ]
          },
          "metadata": {},
          "execution_count": 85
        }
      ]
    },
    {
      "cell_type": "markdown",
      "source": [
        "#conditional Statement"
      ],
      "metadata": {
        "id": "pohjP_-A1S_B"
      }
    },
    {
      "cell_type": "markdown",
      "source": [
        "# if"
      ],
      "metadata": {
        "id": "wLjhFZJ61Wjf"
      }
    },
    {
      "cell_type": "code",
      "source": [
        "age=20\n",
        "if age>18:\n",
        "  print(\"Welcome\")"
      ],
      "metadata": {
        "id": "uBF8kNuJZAsg",
        "colab": {
          "base_uri": "https://localhost:8080/"
        },
        "outputId": "f446a7b3-a600-4d35-f46b-07aba3b70ca7"
      },
      "execution_count": null,
      "outputs": [
        {
          "output_type": "stream",
          "name": "stdout",
          "text": [
            "Welcome\n"
          ]
        }
      ]
    },
    {
      "cell_type": "code",
      "source": [
        "cls=7\n",
        "if cls>6:\n",
        "  print('hello')"
      ],
      "metadata": {
        "colab": {
          "base_uri": "https://localhost:8080/"
        },
        "id": "QOzpFiusYyrL",
        "outputId": "1fd7fae7-a3cb-437d-e978-8288298c94f3"
      },
      "execution_count": null,
      "outputs": [
        {
          "output_type": "stream",
          "name": "stdout",
          "text": [
            "hello\n"
          ]
        }
      ]
    },
    {
      "cell_type": "markdown",
      "source": [
        "# else"
      ],
      "metadata": {
        "id": "QUeqN1gE1fM4"
      }
    },
    {
      "cell_type": "code",
      "source": [
        "age=12\n",
        "if age>18:\n",
        "  print(\"You can vote\")\n",
        "else:\n",
        "  print(\"you can vote\")"
      ],
      "metadata": {
        "colab": {
          "base_uri": "https://localhost:8080/"
        },
        "id": "GqSuEkzXkC5-",
        "outputId": "02057418-24f9-4d60-f72a-684580966c00"
      },
      "execution_count": null,
      "outputs": [
        {
          "output_type": "stream",
          "name": "stdout",
          "text": [
            "you can vote\n"
          ]
        }
      ]
    },
    {
      "cell_type": "code",
      "source": [
        "age=20\n",
        "if age>=10:\n",
        "  print(\"Age is even\")\n",
        "else:\n",
        "  print(\"Age is odd\")"
      ],
      "metadata": {
        "colab": {
          "base_uri": "https://localhost:8080/"
        },
        "id": "OLw3hq92lwMS",
        "outputId": "d5bcb3e9-b1a1-4add-803a-bb6bc659bc6f"
      },
      "execution_count": null,
      "outputs": [
        {
          "output_type": "stream",
          "name": "stdout",
          "text": [
            "Age is even\n"
          ]
        }
      ]
    },
    {
      "cell_type": "code",
      "source": [
        "num=10\n",
        "if num%2==0:\n",
        "  print(\"Even\")\n",
        "else:\n",
        "  print(\"odd\")"
      ],
      "metadata": {
        "colab": {
          "base_uri": "https://localhost:8080/"
        },
        "id": "7Iq7Y2FjvMEP",
        "outputId": "d785d6ab-225d-454e-a7bc-9d036c2f77e1"
      },
      "execution_count": null,
      "outputs": [
        {
          "output_type": "stream",
          "name": "stdout",
          "text": [
            "Even\n"
          ]
        }
      ]
    },
    {
      "cell_type": "code",
      "source": [
        "num=int(input(\"what is the value\"))\n",
        "if num/2:\n",
        "  print(\"Even\")\n",
        "else:\n",
        "  print(\"Odd\")"
      ],
      "metadata": {
        "colab": {
          "base_uri": "https://localhost:8080/"
        },
        "id": "vZ6T0JV8pTZy",
        "outputId": "bc9b1b44-aece-4ddd-82a4-15f2fe959ddd"
      },
      "execution_count": null,
      "outputs": [
        {
          "output_type": "stream",
          "name": "stdout",
          "text": [
            "what is the value10\n",
            "Even\n"
          ]
        }
      ]
    },
    {
      "cell_type": "code",
      "source": [
        "age=int(input(\"Enter your age\"))"
      ],
      "metadata": {
        "colab": {
          "base_uri": "https://localhost:8080/"
        },
        "id": "KvOcLP4tpv9P",
        "outputId": "92b879d1-fbfe-47b3-da08-05462e94a1c1"
      },
      "execution_count": null,
      "outputs": [
        {
          "name": "stdout",
          "output_type": "stream",
          "text": [
            "Enter your age24\n"
          ]
        }
      ]
    },
    {
      "cell_type": "code",
      "source": [
        "a=\"hello my name is anand\""
      ],
      "metadata": {
        "id": "YwocZEmTrdb5"
      },
      "execution_count": null,
      "outputs": []
    },
    {
      "cell_type": "code",
      "source": [
        "a=input(\"enter the name\")"
      ],
      "metadata": {
        "colab": {
          "base_uri": "https://localhost:8080/"
        },
        "id": "Kkh1hUzwtTaM",
        "outputId": "cde56a70-6d71-442e-f63e-c3f83b93d597"
      },
      "execution_count": null,
      "outputs": [
        {
          "name": "stdout",
          "output_type": "stream",
          "text": [
            "enter the nameanand\n"
          ]
        }
      ]
    },
    {
      "cell_type": "code",
      "source": [
        "a=input(\"enter the name\")\n",
        "if \"anand\" in a :\n",
        "  print(\"yes\")\n",
        "else:\n",
        "  print(\"no\")"
      ],
      "metadata": {
        "colab": {
          "base_uri": "https://localhost:8080/"
        },
        "id": "LyUDHMLAuCd2",
        "outputId": "64bd8fa5-6132-446a-978a-c86336aab038"
      },
      "execution_count": null,
      "outputs": [
        {
          "output_type": "stream",
          "name": "stdout",
          "text": [
            "enter the namejivesh\n",
            "no\n"
          ]
        }
      ]
    },
    {
      "cell_type": "markdown",
      "source": [
        "#elif"
      ],
      "metadata": {
        "id": "ujfuUlsc1rvg"
      }
    },
    {
      "cell_type": "code",
      "source": [
        "age+int(input(\"enter your age  \"))\n",
        "if age<18:\n",
        "  print(\"you are in school\")\n",
        "elif age>=18 and age<=26:\n",
        "  print(\"you are in college\")\n",
        "elif age<26 and age<=60:\n",
        "  print(\"you are working in a job\")\n",
        "else:\n",
        "  print(\"you are retired\")"
      ],
      "metadata": {
        "colab": {
          "base_uri": "https://localhost:8080/"
        },
        "id": "jlsja67Hw4gh",
        "outputId": "d9a5c418-6f3c-4dff-8cb0-198c8746d23d"
      },
      "execution_count": null,
      "outputs": [
        {
          "output_type": "stream",
          "name": "stdout",
          "text": [
            "enter your age  24\n",
            "you are in college\n"
          ]
        }
      ]
    },
    {
      "cell_type": "code",
      "source": [
        "user=int(input(\"Enter the value\"))\n",
        "if user >10:\n",
        "  print(\"positive\")\n",
        "elif user<=0:\n",
        "  print(\"zero\")\n",
        "else:\n",
        "  print(\"negative\")\n"
      ],
      "metadata": {
        "colab": {
          "base_uri": "https://localhost:8080/"
        },
        "id": "SffkyOwgxf0f",
        "outputId": "55f6de69-185b-4be1-d32b-43a08fc51589"
      },
      "execution_count": null,
      "outputs": [
        {
          "output_type": "stream",
          "name": "stdout",
          "text": [
            "Enter the value7\n",
            "negative\n"
          ]
        }
      ]
    },
    {
      "cell_type": "code",
      "source": [
        "year=int(input(\"Enter the year\"))\n",
        "if year%4==0 or year%100==0 or year%400==0:\n",
        "  print(\"leap year\")\n",
        "else:\n",
        "  print(\"not a leap year\")\n"
      ],
      "metadata": {
        "colab": {
          "base_uri": "https://localhost:8080/"
        },
        "id": "OwlGhV4noZ5s",
        "outputId": "cfce0660-7be6-4aec-b821-d18a0077a47f"
      },
      "execution_count": null,
      "outputs": [
        {
          "output_type": "stream",
          "name": "stdout",
          "text": [
            "Enter the year2024\n",
            "leap year\n"
          ]
        }
      ]
    },
    {
      "cell_type": "code",
      "source": [
        "grade=int(input(\"Enter the marks\"))\n",
        "if grade>90:\n",
        "  print(\"A\")\n",
        "elif grade>=80 and grade<=90:\n",
        "  print(\"B\")\n",
        "elif grade>=70 and grade<=80:\n",
        "  print(\"C\")\n",
        "elif grade>=60 and grade<=70:\n",
        "  print(\"D\")\n",
        "elif grade>=50 and grade<=60:\n",
        "  print(\"E\")\n",
        "else:\n",
        "  print(\"fail\")"
      ],
      "metadata": {
        "colab": {
          "base_uri": "https://localhost:8080/"
        },
        "id": "XbiJCHzxuybM",
        "outputId": "47d2bdce-143a-4d13-dc6d-33019a79f12e"
      },
      "execution_count": null,
      "outputs": [
        {
          "output_type": "stream",
          "name": "stdout",
          "text": [
            "Enter the marks65\n",
            "D\n"
          ]
        }
      ]
    },
    {
      "cell_type": "code",
      "source": [
        "a=input(\"Enter the vovels \")\n",
        "vovels =\"A,E,I,O,U\"\n",
        "if a in vovels:\n",
        "  print(\"vovels\")\n",
        "else:\n",
        "  print(\"not vovels\")"
      ],
      "metadata": {
        "colab": {
          "base_uri": "https://localhost:8080/"
        },
        "id": "TdW6U1FLw021",
        "outputId": "977390f6-20cf-4951-dc4d-4e4d01859a7e"
      },
      "execution_count": null,
      "outputs": [
        {
          "output_type": "stream",
          "name": "stdout",
          "text": [
            "Enter the vovels a\n",
            "not vovels\n"
          ]
        }
      ]
    },
    {
      "cell_type": "code",
      "source": [
        "char=input(\"Enter the character to check\")\n",
        "if char in \"aeiouAeiou\":\n",
        "  print(\"char is vovel\")\n",
        "else:\n",
        "  print(\"char is not vovel\")"
      ],
      "metadata": {
        "colab": {
          "base_uri": "https://localhost:8080/"
        },
        "id": "BqF4FtBI1q-Y",
        "outputId": "63f80267-5319-4786-99a3-036c58eff6db"
      },
      "execution_count": null,
      "outputs": [
        {
          "output_type": "stream",
          "name": "stdout",
          "text": [
            "Enter the character to checka\n",
            "char is vovel\n"
          ]
        }
      ]
    },
    {
      "cell_type": "code",
      "source": [
        "num=(input(\"Enter the mobile number \"))\n",
        "if len(num)==10:\n",
        "  print(\"corrrect number\")\n",
        "else:\n",
        "  print(\"incorrect number\")\n"
      ],
      "metadata": {
        "colab": {
          "base_uri": "https://localhost:8080/"
        },
        "id": "Wpp7Ksbn4Sa0",
        "outputId": "6986187b-bff8-4d11-bb39-6e8b7e1e8daf"
      },
      "execution_count": null,
      "outputs": [
        {
          "output_type": "stream",
          "name": "stdout",
          "text": [
            "Enter the mobile number 9767546362\n",
            "corrrect number\n"
          ]
        }
      ]
    },
    {
      "cell_type": "code",
      "source": [
        "char=input(\"Enter\")"
      ],
      "metadata": {
        "colab": {
          "base_uri": "https://localhost:8080/"
        },
        "id": "pYnSTbXv67ui",
        "outputId": "a330ac5c-211e-4a9a-aba2-c5f73dba1702"
      },
      "execution_count": null,
      "outputs": [
        {
          "name": "stdout",
          "output_type": "stream",
          "text": [
            "Entera\n"
          ]
        }
      ]
    },
    {
      "cell_type": "markdown",
      "source": [
        "#loops"
      ],
      "metadata": {
        "id": "QxZVfVjQ10jR"
      }
    },
    {
      "cell_type": "markdown",
      "source": [
        "#for loop"
      ],
      "metadata": {
        "id": "z3Ff9TZi120l"
      }
    },
    {
      "cell_type": "code",
      "source": [
        "a=\"anand jaiswal\"\n",
        "for i in a:\n",
        "  print(i)"
      ],
      "metadata": {
        "colab": {
          "base_uri": "https://localhost:8080/"
        },
        "id": "6H3Ikwxk8kwN",
        "outputId": "4a098936-f4ac-430c-c10b-e222e5684194"
      },
      "execution_count": null,
      "outputs": [
        {
          "output_type": "stream",
          "name": "stdout",
          "text": [
            "a\n",
            "n\n",
            "a\n",
            "n\n",
            "d\n",
            " \n",
            "j\n",
            "a\n",
            "i\n",
            "s\n",
            "w\n",
            "a\n",
            "l\n"
          ]
        }
      ]
    },
    {
      "cell_type": "code",
      "source": [
        "x=\"anand jaiswal\"\n",
        "count=0\n",
        "for i in x:\n",
        "  if i==\"a\" or i==\"e\" or i==\"i\" or i==\"o\" or i==\"u\":\n",
        "    count=count+1\n",
        "print(count)"
      ],
      "metadata": {
        "colab": {
          "base_uri": "https://localhost:8080/"
        },
        "id": "MXLIIiG69apF",
        "outputId": "3549ebc5-ff70-49a9-dc5f-3fa90d7155ee"
      },
      "execution_count": null,
      "outputs": [
        {
          "output_type": "stream",
          "name": "stdout",
          "text": [
            "5\n"
          ]
        }
      ]
    },
    {
      "cell_type": "code",
      "source": [
        "for i in range(1,11):\n",
        "  print(i)"
      ],
      "metadata": {
        "colab": {
          "base_uri": "https://localhost:8080/"
        },
        "id": "xKPhO6wTAFoJ",
        "outputId": "47f1abbf-20c6-4c08-9e49-c02cc3921a19"
      },
      "execution_count": null,
      "outputs": [
        {
          "output_type": "stream",
          "name": "stdout",
          "text": [
            "1\n",
            "2\n",
            "3\n",
            "4\n",
            "5\n",
            "6\n",
            "7\n",
            "8\n",
            "9\n",
            "10\n"
          ]
        }
      ]
    },
    {
      "cell_type": "code",
      "source": [
        "number=int(input(\"Enter any number in table \"))  # tables\n",
        "for i in range(1,11,):\n",
        "  print(i*number)"
      ],
      "metadata": {
        "colab": {
          "base_uri": "https://localhost:8080/"
        },
        "id": "2LVBjmXwEJiX",
        "outputId": "f986024d-51e8-48d4-8ff7-2a416bdd2602"
      },
      "execution_count": null,
      "outputs": [
        {
          "output_type": "stream",
          "name": "stdout",
          "text": [
            "Enter any number in table 5\n",
            "5\n",
            "10\n",
            "15\n",
            "20\n",
            "25\n",
            "30\n",
            "35\n",
            "40\n",
            "45\n",
            "50\n"
          ]
        }
      ]
    },
    {
      "cell_type": "code",
      "source": [
        "number=int(input(\"Enter any number \"))\n",
        "for i in range(1,11):\n",
        "  print(i**3)     # Even"
      ],
      "metadata": {
        "colab": {
          "base_uri": "https://localhost:8080/"
        },
        "id": "xmBx19mwEwDW",
        "outputId": "cf4efc41-cb89-4583-f8ba-3d9490df242a"
      },
      "execution_count": null,
      "outputs": [
        {
          "output_type": "stream",
          "name": "stdout",
          "text": [
            "Enter any number 2\n",
            "1\n",
            "8\n",
            "27\n",
            "64\n",
            "125\n",
            "216\n",
            "343\n",
            "512\n",
            "729\n",
            "1000\n"
          ]
        }
      ]
    },
    {
      "cell_type": "code",
      "source": [
        "a=int(input(\"Enter !st number\"))\n",
        "b=int(input(\"Enter 2nd number\"))\n",
        "for i in range(a,b):\n",
        "  print(i**3)"
      ],
      "metadata": {
        "colab": {
          "base_uri": "https://localhost:8080/"
        },
        "id": "p1oLXYLoHLYS",
        "outputId": "7ffeb690-82b9-4300-ab17-5182bb227d68"
      },
      "execution_count": null,
      "outputs": [
        {
          "output_type": "stream",
          "name": "stdout",
          "text": [
            "Enter !st number3\n",
            "Enter 2nd number4\n",
            "27\n"
          ]
        }
      ]
    },
    {
      "cell_type": "code",
      "source": [
        "sum=0\n",
        "for i in range(2,21,2):\n",
        "  sum=sum+i\n",
        "print(sum)"
      ],
      "metadata": {
        "colab": {
          "base_uri": "https://localhost:8080/"
        },
        "id": "0ZR8BmzNID71",
        "outputId": "92f3f288-75ce-4662-8eed-2d6206b33314"
      },
      "execution_count": null,
      "outputs": [
        {
          "output_type": "stream",
          "name": "stdout",
          "text": [
            "110\n"
          ]
        }
      ]
    },
    {
      "cell_type": "code",
      "source": [
        "password = input(\"enter the password :\")\n",
        "if len(password) < 8:\n",
        "    print(\"password is too short\")\n",
        "elif password.islower():\n",
        "    print(\"password is too weak\")\n",
        "else :\n",
        "    print(\"password is strong\")"
      ],
      "metadata": {
        "colab": {
          "base_uri": "https://localhost:8080/"
        },
        "id": "iqLpRsdkN1LC",
        "outputId": "e6047dc1-1573-4ef4-b539-3dc8ec87deff"
      },
      "execution_count": null,
      "outputs": [
        {
          "output_type": "stream",
          "name": "stdout",
          "text": [
            "enter the password :Anand@123\n",
            "password is strong\n"
          ]
        }
      ]
    },
    {
      "cell_type": "code",
      "source": [
        "x=\"hello world\"\n",
        "for i in enumerate(x):\n",
        "  print(i)"
      ],
      "metadata": {
        "colab": {
          "base_uri": "https://localhost:8080/"
        },
        "id": "rNklxg5ERe6h",
        "outputId": "7faeb319-7901-4491-9343-4626632ecfce"
      },
      "execution_count": null,
      "outputs": [
        {
          "output_type": "stream",
          "name": "stdout",
          "text": [
            "(0, 'h')\n",
            "(1, 'e')\n",
            "(2, 'l')\n",
            "(3, 'l')\n",
            "(4, 'o')\n",
            "(5, ' ')\n",
            "(6, 'w')\n",
            "(7, 'o')\n",
            "(8, 'r')\n",
            "(9, 'l')\n",
            "(10, 'd')\n"
          ]
        }
      ]
    },
    {
      "cell_type": "code",
      "source": [
        "for i in range(1,11,2):\n",
        "  print(i,\"odd num\")\n",
        "for i  in range(0,11,2):\n",
        "  print(i,\"even num\")"
      ],
      "metadata": {
        "colab": {
          "base_uri": "https://localhost:8080/"
        },
        "id": "iV9Y48YQD7Ff",
        "outputId": "0d673ac3-26f4-4b1d-90d4-ba39e0052c47"
      },
      "execution_count": null,
      "outputs": [
        {
          "output_type": "stream",
          "name": "stdout",
          "text": [
            "1 odd num\n",
            "3 odd num\n",
            "5 odd num\n",
            "7 odd num\n",
            "9 odd num\n",
            "0 even num\n",
            "2 even num\n",
            "4 even num\n",
            "6 even num\n",
            "8 even num\n",
            "10 even num\n"
          ]
        }
      ]
    },
    {
      "cell_type": "code",
      "source": [
        "for i in range(1,11):\n",
        "  if i%2==0:\n",
        "    print(i,\"even\")\n",
        "  else:\n",
        "    print(i,\"odd\")"
      ],
      "metadata": {
        "colab": {
          "base_uri": "https://localhost:8080/"
        },
        "id": "RTTuZHPnI5q2",
        "outputId": "d2ade47c-a959-4c4e-8328-063ece240302"
      },
      "execution_count": null,
      "outputs": [
        {
          "output_type": "stream",
          "name": "stdout",
          "text": [
            "1 odd\n",
            "2 even\n",
            "3 odd\n",
            "4 even\n",
            "5 odd\n",
            "6 even\n",
            "7 odd\n",
            "8 even\n",
            "9 odd\n",
            "10 even\n"
          ]
        }
      ]
    },
    {
      "cell_type": "code",
      "source": [
        "for i in range(1,11):\n",
        " if i==6:\n",
        "     break\n",
        " print(i)"
      ],
      "metadata": {
        "colab": {
          "base_uri": "https://localhost:8080/"
        },
        "id": "6PeAXFS2Jnsb",
        "outputId": "607c5ff0-6341-4c7d-e2d4-a4ab65086e92"
      },
      "execution_count": null,
      "outputs": [
        {
          "output_type": "stream",
          "name": "stdout",
          "text": [
            "1\n",
            "2\n",
            "3\n",
            "4\n",
            "5\n"
          ]
        }
      ]
    },
    {
      "cell_type": "code",
      "source": [
        "for i in range(1,11):\n",
        "  if i==6:\n",
        "      continue\n",
        "  print(i)"
      ],
      "metadata": {
        "colab": {
          "base_uri": "https://localhost:8080/"
        },
        "id": "uZfFqSFkOC_x",
        "outputId": "cf87cc84-d295-4f02-fce6-5a04b6f6b580"
      },
      "execution_count": null,
      "outputs": [
        {
          "output_type": "stream",
          "name": "stdout",
          "text": [
            "1\n",
            "2\n",
            "3\n",
            "4\n",
            "5\n",
            "7\n",
            "8\n",
            "9\n",
            "10\n"
          ]
        }
      ]
    },
    {
      "cell_type": "code",
      "source": [
        "a=\"xyz\"\n",
        "for i in a:\n",
        "   pass"
      ],
      "metadata": {
        "id": "KrsHrND0O2eF"
      },
      "execution_count": null,
      "outputs": []
    },
    {
      "cell_type": "markdown",
      "source": [
        "#while loop"
      ],
      "metadata": {
        "id": "oVR3daA52OyB"
      }
    },
    {
      "cell_type": "code",
      "source": [
        "x=0\n",
        "while x<10:\n",
        "  print(x)\n",
        "  x+=1\n"
      ],
      "metadata": {
        "colab": {
          "base_uri": "https://localhost:8080/"
        },
        "id": "FyKTUdnpRLYe",
        "outputId": "632fca75-96bc-4476-fe89-0c9fd9ab0ad9"
      },
      "execution_count": null,
      "outputs": [
        {
          "output_type": "stream",
          "name": "stdout",
          "text": [
            "0\n",
            "1\n",
            "2\n",
            "3\n",
            "4\n",
            "5\n",
            "6\n",
            "7\n",
            "8\n",
            "9\n"
          ]
        }
      ]
    },
    {
      "cell_type": "code",
      "source": [
        "x=1\n",
        "while x<=10:\n",
        "  if x%2==0:\n",
        "    print(x)\n",
        "  x+=1"
      ],
      "metadata": {
        "colab": {
          "base_uri": "https://localhost:8080/"
        },
        "id": "EwnXVtdHR4do",
        "outputId": "a95d3b0e-39f4-4368-f5d0-96e537da1560"
      },
      "execution_count": null,
      "outputs": [
        {
          "output_type": "stream",
          "name": "stdout",
          "text": [
            "2\n",
            "4\n",
            "6\n",
            "8\n",
            "10\n"
          ]
        }
      ]
    },
    {
      "cell_type": "code",
      "source": [
        "a=\"my name is anand\"\n",
        "i=0\n",
        "while i<len(a):\n",
        "  print(a[i], end=\"\")\n",
        "  i+=1"
      ],
      "metadata": {
        "colab": {
          "base_uri": "https://localhost:8080/"
        },
        "id": "el1-tz9-WCh6",
        "outputId": "9cc7d6e9-35c8-4cc2-c5d0-b2c27da365a0"
      },
      "execution_count": null,
      "outputs": [
        {
          "output_type": "stream",
          "name": "stdout",
          "text": [
            "my name is anand"
          ]
        }
      ]
    },
    {
      "cell_type": "code",
      "source": [
        "# nested loops"
      ],
      "metadata": {
        "id": "qytASm3ZXE5O"
      },
      "execution_count": null,
      "outputs": []
    },
    {
      "cell_type": "code",
      "source": [
        "for i in range(1,6):\n",
        "  for j in range(1,i+1):\n",
        "    print(j,end=\" \")\n",
        "  print()"
      ],
      "metadata": {
        "colab": {
          "base_uri": "https://localhost:8080/"
        },
        "id": "zy2CPNEfwKxW",
        "outputId": "466d9526-4fd1-4b2b-8c11-393239665c0a"
      },
      "execution_count": null,
      "outputs": [
        {
          "output_type": "stream",
          "name": "stdout",
          "text": [
            "1 \n",
            "1 2 \n",
            "1 2 3 \n",
            "1 2 3 4 \n",
            "1 2 3 4 5 \n"
          ]
        }
      ]
    },
    {
      "cell_type": "code",
      "source": [
        "for i in range(1,6):\n",
        "  print(i,end=\"\")"
      ],
      "metadata": {
        "colab": {
          "base_uri": "https://localhost:8080/"
        },
        "id": "J35juzsqzeGI",
        "outputId": "048772cb-a276-4909-87d5-3ea48722bcfd"
      },
      "execution_count": null,
      "outputs": [
        {
          "output_type": "stream",
          "name": "stdout",
          "text": [
            "12345"
          ]
        }
      ]
    },
    {
      "cell_type": "code",
      "source": [
        "for i in range(1,6):\n",
        "  for j in range(1,i+1):\n",
        "    print(\"#\",end=\" \")\n",
        "  print()"
      ],
      "metadata": {
        "colab": {
          "base_uri": "https://localhost:8080/"
        },
        "id": "Rmcifpx91Vqx",
        "outputId": "c23d1927-8b77-4bb9-bb87-180a875545a2"
      },
      "execution_count": null,
      "outputs": [
        {
          "output_type": "stream",
          "name": "stdout",
          "text": [
            "# \n",
            "# # \n",
            "# # # \n",
            "# # # # \n",
            "# # # # # \n"
          ]
        }
      ]
    },
    {
      "cell_type": "code",
      "source": [
        "for i in range(1,6):\n",
        "  for j in range(1,i+1):\n",
        "    print(j,end=\" \\n\")\n",
        "  print()"
      ],
      "metadata": {
        "colab": {
          "base_uri": "https://localhost:8080/"
        },
        "id": "rvDZXE3M3fXl",
        "outputId": "b183d53f-d08b-4639-ef52-3995c911ac21"
      },
      "execution_count": null,
      "outputs": [
        {
          "output_type": "stream",
          "name": "stdout",
          "text": [
            "1 \n",
            "\n",
            "1 \n",
            "2 \n",
            "\n",
            "1 \n",
            "2 \n",
            "3 \n",
            "\n",
            "1 \n",
            "2 \n",
            "3 \n",
            "4 \n",
            "\n",
            "1 \n",
            "2 \n",
            "3 \n",
            "4 \n",
            "5 \n",
            "\n"
          ]
        }
      ]
    },
    {
      "cell_type": "code",
      "source": [
        "for i in range(5,0,-1):\n",
        "  print(i)"
      ],
      "metadata": {
        "colab": {
          "base_uri": "https://localhost:8080/"
        },
        "id": "e_3FuEWR4MnZ",
        "outputId": "eb4468f9-fce9-4d19-cce5-ea674c4cfb96"
      },
      "execution_count": null,
      "outputs": [
        {
          "output_type": "stream",
          "name": "stdout",
          "text": [
            "5\n",
            "4\n",
            "3\n",
            "2\n",
            "1\n"
          ]
        }
      ]
    },
    {
      "cell_type": "code",
      "source": [
        "for i in range(5,0,-1):     # reverse\n",
        "  for j in range(i, 0, -1):\n",
        "    print(j, end=\" \")\n",
        "  print()"
      ],
      "metadata": {
        "colab": {
          "base_uri": "https://localhost:8080/"
        },
        "id": "8-Q59qPE5arH",
        "outputId": "1bc02350-fde0-46b6-82ce-3e73539babb0"
      },
      "execution_count": null,
      "outputs": [
        {
          "output_type": "stream",
          "name": "stdout",
          "text": [
            "5 4 3 2 1 \n",
            "4 3 2 1 \n",
            "3 2 1 \n",
            "2 1 \n",
            "1 \n"
          ]
        }
      ]
    },
    {
      "cell_type": "code",
      "source": [
        "for i in range(5, 0, -1):\n",
        "  for j in range(i, 0, -1):\n",
        "    print(i,end=\" \")\n",
        "  print()"
      ],
      "metadata": {
        "colab": {
          "base_uri": "https://localhost:8080/"
        },
        "id": "dLvDi2JK5yR9",
        "outputId": "a17a4cd3-7f0a-464f-f455-57a71d1b70d7"
      },
      "execution_count": null,
      "outputs": [
        {
          "output_type": "stream",
          "name": "stdout",
          "text": [
            "5 5 5 5 5 \n",
            "4 4 4 4 \n",
            "3 3 3 \n",
            "2 2 \n",
            "1 \n"
          ]
        }
      ]
    },
    {
      "cell_type": "code",
      "source": [
        "for i in range(5,0,-1):\n",
        "  for j in range(i, 0, -1):\n",
        "    print(\"#\", end=\" \")\n",
        "  print()"
      ],
      "metadata": {
        "colab": {
          "base_uri": "https://localhost:8080/"
        },
        "id": "iFWwRu0V6XNV",
        "outputId": "cc4d8d9c-12d7-4748-f624-d3f66d987f9c"
      },
      "execution_count": null,
      "outputs": [
        {
          "output_type": "stream",
          "name": "stdout",
          "text": [
            "# # # # # \n",
            "# # # # \n",
            "# # # \n",
            "# # \n",
            "# \n"
          ]
        }
      ]
    },
    {
      "cell_type": "code",
      "source": [
        "for i in range(1,6):\n",
        "  for j in range(1,10):  # rectangle\n",
        "    print(j,end=\" \")\n",
        "  print()"
      ],
      "metadata": {
        "colab": {
          "base_uri": "https://localhost:8080/"
        },
        "id": "glPB_taz8d6i",
        "outputId": "88b7c5e2-d0d1-43d8-b1ae-3b5aada869c9"
      },
      "execution_count": null,
      "outputs": [
        {
          "output_type": "stream",
          "name": "stdout",
          "text": [
            "1 2 3 4 5 6 7 8 9 \n",
            "1 2 3 4 5 6 7 8 9 \n",
            "1 2 3 4 5 6 7 8 9 \n",
            "1 2 3 4 5 6 7 8 9 \n",
            "1 2 3 4 5 6 7 8 9 \n"
          ]
        }
      ]
    },
    {
      "cell_type": "code",
      "source": [
        " for i in range(1,6):\n",
        "  for j in range(1,10,2):  # square\n",
        "    print(j,end=\" \")\n",
        "  print()"
      ],
      "metadata": {
        "colab": {
          "base_uri": "https://localhost:8080/"
        },
        "id": "vYwtPKvR-93N",
        "outputId": "5171aacd-72a7-45d9-b534-8e1aacfdc0d5"
      },
      "execution_count": null,
      "outputs": [
        {
          "output_type": "stream",
          "name": "stdout",
          "text": [
            "1 3 5 7 9 \n",
            "1 3 5 7 9 \n",
            "1 3 5 7 9 \n",
            "1 3 5 7 9 \n",
            "1 3 5 7 9 \n"
          ]
        }
      ]
    },
    {
      "cell_type": "code",
      "source": [
        "for i in range(10):  # trangles\n",
        "  for j in range(10-i):\n",
        "    print(\" \",end=\" \")\n",
        "  for j in range(i):\n",
        "    print(\"*\",end=\" \")\n",
        "  for j in range(i):\n",
        "    print(\"*\",end=\" \")\n",
        "  print(\"*\")"
      ],
      "metadata": {
        "id": "dgvoVcURAGYy",
        "colab": {
          "base_uri": "https://localhost:8080/"
        },
        "outputId": "4813c7e4-4177-4609-ab77-8b2f5f7b65a6"
      },
      "execution_count": null,
      "outputs": [
        {
          "output_type": "stream",
          "name": "stdout",
          "text": [
            "                    *\n",
            "                  * * *\n",
            "                * * * * *\n",
            "              * * * * * * *\n",
            "            * * * * * * * * *\n",
            "          * * * * * * * * * * *\n",
            "        * * * * * * * * * * * * *\n",
            "      * * * * * * * * * * * * * * *\n",
            "    * * * * * * * * * * * * * * * * *\n",
            "  * * * * * * * * * * * * * * * * * * *\n"
          ]
        }
      ]
    },
    {
      "cell_type": "code",
      "source": [
        "n=10\n",
        "for i in range(1,11):   #trangles\n",
        "  print(\" \"*n,end=\" \")\n",
        "  print(\"* \"*(i))\n",
        "  n-=1"
      ],
      "metadata": {
        "colab": {
          "base_uri": "https://localhost:8080/"
        },
        "id": "t2y4ttkOgT_8",
        "outputId": "13f51654-fa86-4a55-d777-43c19383d966"
      },
      "execution_count": null,
      "outputs": [
        {
          "output_type": "stream",
          "name": "stdout",
          "text": [
            "           * \n",
            "          * * \n",
            "         * * * \n",
            "        * * * * \n",
            "       * * * * * \n",
            "      * * * * * * \n",
            "     * * * * * * * \n",
            "    * * * * * * * * \n",
            "   * * * * * * * * * \n",
            "  * * * * * * * * * * \n"
          ]
        }
      ]
    },
    {
      "cell_type": "code",
      "source": [
        "n=10\n",
        "for i in range(1, 6):\n",
        "    for j in range(1,2):\n",
        "       print(' '*n, end=' ') # repeat space for n times\n",
        "       for k in range (1,i+1):\n",
        "          print(\"*\",end=' ')\n",
        "    n-=1\n",
        "    print()"
      ],
      "metadata": {
        "colab": {
          "base_uri": "https://localhost:8080/"
        },
        "id": "29Gpjsi1zI-9",
        "outputId": "42f151f4-9d35-471f-cce9-c4240f63eebc"
      },
      "execution_count": null,
      "outputs": [
        {
          "output_type": "stream",
          "name": "stdout",
          "text": [
            "           * \n",
            "          * * \n",
            "         * * * \n",
            "        * * * * \n",
            "       * * * * * \n"
          ]
        }
      ]
    },
    {
      "cell_type": "code",
      "source": [
        "a=5\n",
        "for i in range(0,a):\n",
        "  for j in range(0,a-i):\n",
        "    print(end=\" \")\n",
        "  for k in range(0,i+1):\n",
        "    print(\"*\",end=\" \")\n",
        "  print()"
      ],
      "metadata": {
        "colab": {
          "base_uri": "https://localhost:8080/"
        },
        "id": "XOpdlxNp49Cc",
        "outputId": "dd9a2bfd-ae09-4013-e484-fa607c7e2ce8"
      },
      "execution_count": null,
      "outputs": [
        {
          "output_type": "stream",
          "name": "stdout",
          "text": [
            "    * \n",
            "   * * \n",
            "  * * * \n",
            " * * * * \n",
            "* * * * * \n"
          ]
        }
      ]
    },
    {
      "cell_type": "markdown",
      "source": [
        "# data structures"
      ],
      "metadata": {
        "id": "VpE2CDkX2gry"
      }
    },
    {
      "cell_type": "code",
      "source": [
        "a=1,2,3"
      ],
      "metadata": {
        "id": "vs4LGiqD7u7Z"
      },
      "execution_count": null,
      "outputs": []
    },
    {
      "cell_type": "code",
      "source": [
        "type(a)"
      ],
      "metadata": {
        "colab": {
          "base_uri": "https://localhost:8080/"
        },
        "id": "7Kr_-OYp8Yc5",
        "outputId": "a4675210-718c-4110-8103-22346173f8f5"
      },
      "execution_count": null,
      "outputs": [
        {
          "output_type": "execute_result",
          "data": {
            "text/plain": [
              "tuple"
            ]
          },
          "metadata": {},
          "execution_count": 32
        }
      ]
    },
    {
      "cell_type": "markdown",
      "source": [
        " mutable :- changes kar skta hai\n",
        "- iist\n",
        "- set\n",
        "- dictionary"
      ],
      "metadata": {
        "id": "tGVt2iC22m9U"
      }
    },
    {
      "cell_type": "markdown",
      "source": [
        " immutable :- cannot changes\n",
        "- tuple\n",
        "- string\n",
        "- number"
      ],
      "metadata": {
        "id": "rVpZY_P426AO"
      }
    },
    {
      "cell_type": "markdown",
      "source": [
        "# list"
      ],
      "metadata": {
        "id": "aWo3RjP13CjF"
      }
    },
    {
      "cell_type": "code",
      "source": [
        "a=[\"anand\",1,2,3,2.2,True,4+2j]\n",
        "type(a)"
      ],
      "metadata": {
        "colab": {
          "base_uri": "https://localhost:8080/"
        },
        "id": "4QsirNfW9-nN",
        "outputId": "8809d016-fd91-4bbc-ee07-ae06f60e18fb"
      },
      "execution_count": null,
      "outputs": [
        {
          "output_type": "execute_result",
          "data": {
            "text/plain": [
              "list"
            ]
          },
          "metadata": {},
          "execution_count": 37
        }
      ]
    },
    {
      "cell_type": "markdown",
      "source": [
        "# ordered\n",
        "# indexing :- +ve and -ve"
      ],
      "metadata": {
        "id": "c4xRRy3a3ISD"
      }
    },
    {
      "cell_type": "code",
      "source": [
        "a"
      ],
      "metadata": {
        "colab": {
          "base_uri": "https://localhost:8080/"
        },
        "id": "n81RO1qd-9nU",
        "outputId": "5e924741-83ce-423b-87bb-5b500273366d"
      },
      "execution_count": null,
      "outputs": [
        {
          "output_type": "execute_result",
          "data": {
            "text/plain": [
              "['anand', 1, 2, 3, 2.2, True, (4+2j)]"
            ]
          },
          "metadata": {},
          "execution_count": 40
        }
      ]
    },
    {
      "cell_type": "code",
      "source": [
        "a[0]"
      ],
      "metadata": {
        "colab": {
          "base_uri": "https://localhost:8080/",
          "height": 36
        },
        "id": "2E810HjQ_cNR",
        "outputId": "34b36e65-77a7-4d97-8941-79d9f16b41f3"
      },
      "execution_count": null,
      "outputs": [
        {
          "output_type": "execute_result",
          "data": {
            "text/plain": [
              "'anand'"
            ],
            "application/vnd.google.colaboratory.intrinsic+json": {
              "type": "string"
            }
          },
          "metadata": {},
          "execution_count": 41
        }
      ]
    },
    {
      "cell_type": "code",
      "source": [
        "a[5]"
      ],
      "metadata": {
        "colab": {
          "base_uri": "https://localhost:8080/"
        },
        "id": "GF0P2rVDAjVZ",
        "outputId": "c4e2624a-2fc7-42f0-d56d-13292a36d635"
      },
      "execution_count": null,
      "outputs": [
        {
          "output_type": "execute_result",
          "data": {
            "text/plain": [
              "True"
            ]
          },
          "metadata": {},
          "execution_count": 44
        }
      ]
    },
    {
      "cell_type": "code",
      "source": [
        "a[-3]"
      ],
      "metadata": {
        "colab": {
          "base_uri": "https://localhost:8080/"
        },
        "id": "DvAfhcN8Ammd",
        "outputId": "5af0b38b-d6d9-4987-8457-ca98ef1754ad"
      },
      "execution_count": null,
      "outputs": [
        {
          "output_type": "execute_result",
          "data": {
            "text/plain": [
              "2.2"
            ]
          },
          "metadata": {},
          "execution_count": 45
        }
      ]
    },
    {
      "cell_type": "code",
      "source": [
        "a[-4]"
      ],
      "metadata": {
        "colab": {
          "base_uri": "https://localhost:8080/"
        },
        "id": "Wo8zgTexAqXc",
        "outputId": "4e637ba6-af59-452a-909b-27fca3593994"
      },
      "execution_count": null,
      "outputs": [
        {
          "output_type": "execute_result",
          "data": {
            "text/plain": [
              "3"
            ]
          },
          "metadata": {},
          "execution_count": 46
        }
      ]
    },
    {
      "cell_type": "markdown",
      "source": [
        "# slicing"
      ],
      "metadata": {
        "id": "AsMBhGdR3OXu"
      }
    },
    {
      "cell_type": "code",
      "source": [
        "a"
      ],
      "metadata": {
        "colab": {
          "base_uri": "https://localhost:8080/"
        },
        "id": "w3WXUdlfAgET",
        "outputId": "948f8563-2754-4d95-e5f5-eac71c86521f"
      },
      "execution_count": null,
      "outputs": [
        {
          "output_type": "execute_result",
          "data": {
            "text/plain": [
              "['anand', 1, 2, 3, 2.2, True, (4+2j)]"
            ]
          },
          "metadata": {},
          "execution_count": 47
        }
      ]
    },
    {
      "cell_type": "markdown",
      "source": [
        " a[#start index: end index : step size]"
      ],
      "metadata": {
        "id": "CX8UtKvt3Su0"
      }
    },
    {
      "cell_type": "code",
      "source": [
        "a[1:4:1]"
      ],
      "metadata": {
        "colab": {
          "base_uri": "https://localhost:8080/"
        },
        "id": "hpUdQ_eZBzYP",
        "outputId": "fb1e2e8d-6761-442f-9880-7b7cc9d56a6d"
      },
      "execution_count": null,
      "outputs": [
        {
          "output_type": "execute_result",
          "data": {
            "text/plain": [
              "[1, 2, 3]"
            ]
          },
          "metadata": {},
          "execution_count": 50
        }
      ]
    },
    {
      "cell_type": "code",
      "source": [
        "a=[1,2,3,4,5,6,7,8,9,10,11,12]\n",
        "a[0:9:2] #odd"
      ],
      "metadata": {
        "colab": {
          "base_uri": "https://localhost:8080/"
        },
        "id": "idoAHxXxCDQg",
        "outputId": "0b476df4-8b7c-4358-bacd-57c5fc4c5978"
      },
      "execution_count": null,
      "outputs": [
        {
          "output_type": "execute_result",
          "data": {
            "text/plain": [
              "[1, 3, 5, 7, 9]"
            ]
          },
          "metadata": {},
          "execution_count": 51
        }
      ]
    },
    {
      "cell_type": "code",
      "source": [
        "a=[1,2,3,4,5,6,7,8,9,10,11,12]\n",
        "a[1:11:2] #even"
      ],
      "metadata": {
        "colab": {
          "base_uri": "https://localhost:8080/"
        },
        "id": "IfHoMtuzDMNx",
        "outputId": "e97f9e7e-31be-4684-c762-46568fdce331"
      },
      "execution_count": null,
      "outputs": [
        {
          "output_type": "execute_result",
          "data": {
            "text/plain": [
              "[2, 4, 6, 8, 10]"
            ]
          },
          "metadata": {},
          "execution_count": 55
        }
      ]
    },
    {
      "cell_type": "code",
      "source": [
        "a=[1,2,3,4,5,6,7,8,9,10,11,12]\n",
        "a[-1:-13:-1] # reverse"
      ],
      "metadata": {
        "colab": {
          "base_uri": "https://localhost:8080/"
        },
        "id": "PfmMkj2mDV4L",
        "outputId": "1f2276ed-62e4-439d-d8e8-0adbf21aebca"
      },
      "execution_count": null,
      "outputs": [
        {
          "output_type": "execute_result",
          "data": {
            "text/plain": [
              "[12, 11, 10, 9, 8, 7, 6, 5, 4, 3, 2, 1]"
            ]
          },
          "metadata": {},
          "execution_count": 56
        }
      ]
    },
    {
      "cell_type": "code",
      "source": [
        "a[-3:-9:-1]"
      ],
      "metadata": {
        "colab": {
          "base_uri": "https://localhost:8080/"
        },
        "id": "ag8cgTSREH4O",
        "outputId": "5c2b0026-1472-4228-aae0-c279bd045249"
      },
      "execution_count": null,
      "outputs": [
        {
          "output_type": "execute_result",
          "data": {
            "text/plain": [
              "[10, 9, 8, 7, 6, 5]"
            ]
          },
          "metadata": {},
          "execution_count": 57
        }
      ]
    },
    {
      "cell_type": "code",
      "source": [
        "a=[\"abc\",\"def\",\"ghi\",\"ijk\"]"
      ],
      "metadata": {
        "id": "yfH3qKrPEtFK"
      },
      "execution_count": null,
      "outputs": []
    },
    {
      "cell_type": "code",
      "source": [
        "a[1]"
      ],
      "metadata": {
        "colab": {
          "base_uri": "https://localhost:8080/",
          "height": 36
        },
        "id": "HQ_S2cb8JmwF",
        "outputId": "858d155e-c830-4404-9b71-fa2d42a7ef0a"
      },
      "execution_count": null,
      "outputs": [
        {
          "output_type": "execute_result",
          "data": {
            "text/plain": [
              "'def'"
            ],
            "application/vnd.google.colaboratory.intrinsic+json": {
              "type": "string"
            }
          },
          "metadata": {},
          "execution_count": 59
        }
      ]
    },
    {
      "cell_type": "code",
      "source": [
        "a[0][1]"
      ],
      "metadata": {
        "colab": {
          "base_uri": "https://localhost:8080/",
          "height": 36
        },
        "id": "FPYDDWhTJt5f",
        "outputId": "d8831ece-2b8b-4982-d2df-8da46bc6d333"
      },
      "execution_count": null,
      "outputs": [
        {
          "output_type": "execute_result",
          "data": {
            "text/plain": [
              "'b'"
            ],
            "application/vnd.google.colaboratory.intrinsic+json": {
              "type": "string"
            }
          },
          "metadata": {},
          "execution_count": 60
        }
      ]
    },
    {
      "cell_type": "code",
      "source": [
        "a[0][1:3]"
      ],
      "metadata": {
        "colab": {
          "base_uri": "https://localhost:8080/",
          "height": 36
        },
        "id": "N2BCS5IoJ5-c",
        "outputId": "fc218e26-c9f7-4bc3-954c-289c3f36c823"
      },
      "execution_count": null,
      "outputs": [
        {
          "output_type": "execute_result",
          "data": {
            "text/plain": [
              "'bc'"
            ],
            "application/vnd.google.colaboratory.intrinsic+json": {
              "type": "string"
            }
          },
          "metadata": {},
          "execution_count": 61
        }
      ]
    },
    {
      "cell_type": "code",
      "source": [
        "a=[1,2,3,44,'Seven mentor','4,5,6,7']  #list"
      ],
      "metadata": {
        "id": "NPNU0VMEKMhT"
      },
      "execution_count": null,
      "outputs": []
    },
    {
      "cell_type": "code",
      "source": [
        "a[-3]"
      ],
      "metadata": {
        "colab": {
          "base_uri": "https://localhost:8080/"
        },
        "id": "moLpX6i4Aj3a",
        "outputId": "63f2032d-97cf-40f3-c594-7cd8218d12cb"
      },
      "execution_count": null,
      "outputs": [
        {
          "output_type": "execute_result",
          "data": {
            "text/plain": [
              "44"
            ]
          },
          "metadata": {},
          "execution_count": 4
        }
      ]
    },
    {
      "cell_type": "code",
      "source": [
        "a[-1][2]"
      ],
      "metadata": {
        "colab": {
          "base_uri": "https://localhost:8080/",
          "height": 36
        },
        "id": "EIcEgxWYAwbh",
        "outputId": "11ebd75d-e08d-4319-82e5-ef4fe493cd0f"
      },
      "execution_count": null,
      "outputs": [
        {
          "output_type": "execute_result",
          "data": {
            "text/plain": [
              "'5'"
            ],
            "application/vnd.google.colaboratory.intrinsic+json": {
              "type": "string"
            }
          },
          "metadata": {},
          "execution_count": 12
        }
      ]
    },
    {
      "cell_type": "code",
      "source": [
        "a[-2][0:5]"
      ],
      "metadata": {
        "colab": {
          "base_uri": "https://localhost:8080/",
          "height": 36
        },
        "id": "MkpRkiMlAshi",
        "outputId": "77bd2be2-0248-4975-b930-387bb37e5a97"
      },
      "execution_count": null,
      "outputs": [
        {
          "output_type": "execute_result",
          "data": {
            "text/plain": [
              "'Seven'"
            ],
            "application/vnd.google.colaboratory.intrinsic+json": {
              "type": "string"
            }
          },
          "metadata": {},
          "execution_count": 7
        }
      ]
    },
    {
      "cell_type": "code",
      "source": [
        "a"
      ],
      "metadata": {
        "colab": {
          "base_uri": "https://localhost:8080/"
        },
        "id": "4LiNee3tBJSO",
        "outputId": "23fdd5be-eb39-4b67-9065-ecac5925a139"
      },
      "execution_count": null,
      "outputs": [
        {
          "output_type": "execute_result",
          "data": {
            "text/plain": [
              "[1, 2, 3, 44, 'Seven mentor', '4,5,6,7']"
            ]
          },
          "metadata": {},
          "execution_count": 8
        }
      ]
    },
    {
      "cell_type": "code",
      "source": [
        "a[-1][-3]"
      ],
      "metadata": {
        "colab": {
          "base_uri": "https://localhost:8080/",
          "height": 36
        },
        "id": "cBdiVVLqBWO3",
        "outputId": "e8da6a1a-0b8b-40e7-a87a-29a16977985d"
      },
      "execution_count": null,
      "outputs": [
        {
          "output_type": "execute_result",
          "data": {
            "text/plain": [
              "'6'"
            ],
            "application/vnd.google.colaboratory.intrinsic+json": {
              "type": "string"
            }
          },
          "metadata": {},
          "execution_count": 10
        }
      ]
    },
    {
      "cell_type": "code",
      "source": [
        "a[-1][4]"
      ],
      "metadata": {
        "colab": {
          "base_uri": "https://localhost:8080/",
          "height": 36
        },
        "id": "KauLO_tDCZI4",
        "outputId": "13c7719d-20f3-43bd-bf9c-34f1058346b7"
      },
      "execution_count": null,
      "outputs": [
        {
          "output_type": "execute_result",
          "data": {
            "text/plain": [
              "'6'"
            ],
            "application/vnd.google.colaboratory.intrinsic+json": {
              "type": "string"
            }
          },
          "metadata": {},
          "execution_count": 13
        }
      ]
    },
    {
      "cell_type": "code",
      "source": [
        "b=a[-1][4]"
      ],
      "metadata": {
        "id": "pj5QOynyCpJW"
      },
      "execution_count": null,
      "outputs": []
    },
    {
      "cell_type": "code",
      "source": [
        "b"
      ],
      "metadata": {
        "colab": {
          "base_uri": "https://localhost:8080/",
          "height": 36
        },
        "id": "IkUTTs_CC1G0",
        "outputId": "f6bbc389-3d3f-4406-826e-fe08e8c73a00"
      },
      "execution_count": null,
      "outputs": [
        {
          "output_type": "execute_result",
          "data": {
            "text/plain": [
              "'6'"
            ],
            "application/vnd.google.colaboratory.intrinsic+json": {
              "type": "string"
            }
          },
          "metadata": {},
          "execution_count": 15
        }
      ]
    },
    {
      "cell_type": "code",
      "source": [
        "type(b)"
      ],
      "metadata": {
        "colab": {
          "base_uri": "https://localhost:8080/"
        },
        "id": "kcgqXNEjC6yl",
        "outputId": "1d0413a2-0dec-49bd-8bd5-2dda7e8851bc"
      },
      "execution_count": null,
      "outputs": [
        {
          "output_type": "execute_result",
          "data": {
            "text/plain": [
              "str"
            ]
          },
          "metadata": {},
          "execution_count": 16
        }
      ]
    },
    {
      "cell_type": "code",
      "source": [
        "float(b)"
      ],
      "metadata": {
        "colab": {
          "base_uri": "https://localhost:8080/"
        },
        "id": "EcrjQB5TC-MS",
        "outputId": "3dc0df14-3a8b-41f8-8050-7d4a40c99256"
      },
      "execution_count": null,
      "outputs": [
        {
          "output_type": "execute_result",
          "data": {
            "text/plain": [
              "6.0"
            ]
          },
          "metadata": {},
          "execution_count": 17
        }
      ]
    },
    {
      "cell_type": "code",
      "source": [
        "c=['apple','banana','guava','orange']   #slicing"
      ],
      "metadata": {
        "id": "DisJea4oDQbC"
      },
      "execution_count": null,
      "outputs": []
    },
    {
      "cell_type": "code",
      "source": [
        "c[0:3:1]"
      ],
      "metadata": {
        "colab": {
          "base_uri": "https://localhost:8080/"
        },
        "id": "buWNgu0cD2YE",
        "outputId": "1349a6bf-1c5b-4351-e6ee-89e2d109a720"
      },
      "execution_count": null,
      "outputs": [
        {
          "output_type": "execute_result",
          "data": {
            "text/plain": [
              "['apple', 'banana', 'guava']"
            ]
          },
          "metadata": {},
          "execution_count": 19
        }
      ]
    },
    {
      "cell_type": "code",
      "source": [
        "c[0][1:3]"
      ],
      "metadata": {
        "colab": {
          "base_uri": "https://localhost:8080/",
          "height": 36
        },
        "id": "H8hdkhz9D6Uw",
        "outputId": "530f5a42-c0dc-44db-a839-b284ce3d5583"
      },
      "execution_count": null,
      "outputs": [
        {
          "output_type": "execute_result",
          "data": {
            "text/plain": [
              "'pp'"
            ],
            "application/vnd.google.colaboratory.intrinsic+json": {
              "type": "string"
            }
          },
          "metadata": {},
          "execution_count": 25
        }
      ]
    },
    {
      "cell_type": "code",
      "source": [
        "d=['1,2,3,4, 6,7,8']"
      ],
      "metadata": {
        "id": "pgVeYfNxENy2"
      },
      "execution_count": null,
      "outputs": []
    },
    {
      "cell_type": "code",
      "source": [
        "d[0][9]"
      ],
      "metadata": {
        "colab": {
          "base_uri": "https://localhost:8080/",
          "height": 36
        },
        "id": "R2GqgweqE-g_",
        "outputId": "bc44e008-5f04-4977-b4ff-61d33f4ec56d"
      },
      "execution_count": null,
      "outputs": [
        {
          "output_type": "execute_result",
          "data": {
            "text/plain": [
              "'6'"
            ],
            "application/vnd.google.colaboratory.intrinsic+json": {
              "type": "string"
            }
          },
          "metadata": {},
          "execution_count": 38
        }
      ]
    },
    {
      "cell_type": "markdown",
      "source": [
        "#mutable"
      ],
      "metadata": {
        "id": "4R3GGa3e3h1N"
      }
    },
    {
      "cell_type": "code",
      "source": [
        "a=[1,2,3,4]"
      ],
      "metadata": {
        "id": "9AjrkF8fGPG1"
      },
      "execution_count": null,
      "outputs": []
    },
    {
      "cell_type": "code",
      "source": [
        "a[0]='anand'"
      ],
      "metadata": {
        "id": "pvbuZcsiGZCW"
      },
      "execution_count": null,
      "outputs": []
    },
    {
      "cell_type": "code",
      "source": [
        "a"
      ],
      "metadata": {
        "colab": {
          "base_uri": "https://localhost:8080/"
        },
        "id": "Z34qUnSPGbrv",
        "outputId": "b036dfd7-44bf-4ae7-8556-50f1ec9b3f40"
      },
      "execution_count": null,
      "outputs": [
        {
          "output_type": "execute_result",
          "data": {
            "text/plain": [
              "['anand', 2, 3, 4]"
            ]
          },
          "metadata": {},
          "execution_count": 42
        }
      ]
    },
    {
      "cell_type": "markdown",
      "source": [
        "duplicate kr skta hai"
      ],
      "metadata": {
        "id": "Tkz5N5Gq3ysi"
      }
    },
    {
      "cell_type": "code",
      "source": [
        "b=[1,1,2,2,2,2] # duplicate kr skta hai"
      ],
      "metadata": {
        "id": "mxcxJbD7GcUC"
      },
      "execution_count": null,
      "outputs": []
    },
    {
      "cell_type": "code",
      "source": [
        "b"
      ],
      "metadata": {
        "colab": {
          "base_uri": "https://localhost:8080/"
        },
        "id": "yjbOkFYxHAR1",
        "outputId": "789350bc-285d-444d-f8e4-368ec4048086"
      },
      "execution_count": null,
      "outputs": [
        {
          "output_type": "execute_result",
          "data": {
            "text/plain": [
              "[1, 1, 2, 2, 2, 2]"
            ]
          },
          "metadata": {},
          "execution_count": 44
        }
      ]
    },
    {
      "cell_type": "code",
      "source": [
        "a=[11,12,13,114,155]"
      ],
      "metadata": {
        "id": "BfRQUmp2HBZZ"
      },
      "execution_count": null,
      "outputs": []
    },
    {
      "cell_type": "code",
      "source": [
        "a"
      ],
      "metadata": {
        "colab": {
          "base_uri": "https://localhost:8080/"
        },
        "id": "OhMxwz5bIm7l",
        "outputId": "7287cb76-fffd-438f-96d1-31100f35a626"
      },
      "execution_count": null,
      "outputs": [
        {
          "output_type": "execute_result",
          "data": {
            "text/plain": [
              "[11, 12, 13, 114, 155]"
            ]
          },
          "metadata": {},
          "execution_count": 46
        }
      ]
    },
    {
      "cell_type": "markdown",
      "source": [
        "  #append add kr skta hai by default last element add krta"
      ],
      "metadata": {
        "id": "sdWqrZgv33Xx"
      }
    },
    {
      "cell_type": "code",
      "source": [
        "a.append(200)   #append add kr skta hai by default last element add krta"
      ],
      "metadata": {
        "id": "18KAlffQIn1j"
      },
      "execution_count": null,
      "outputs": []
    },
    {
      "cell_type": "code",
      "source": [
        "a.append(\"xyz\")"
      ],
      "metadata": {
        "id": "AllTJPxVIsHj"
      },
      "execution_count": null,
      "outputs": []
    },
    {
      "cell_type": "code",
      "source": [
        "a"
      ],
      "metadata": {
        "colab": {
          "base_uri": "https://localhost:8080/"
        },
        "id": "FIW4KX9WIzfP",
        "outputId": "e82c0117-faa7-45a5-d41d-1aa140addcfa"
      },
      "execution_count": null,
      "outputs": [
        {
          "output_type": "execute_result",
          "data": {
            "text/plain": [
              "[11, 12, 13, 114, 155, 200, 'xyz']"
            ]
          },
          "metadata": {},
          "execution_count": 49
        }
      ]
    },
    {
      "cell_type": "code",
      "source": [
        "a.append(True)"
      ],
      "metadata": {
        "id": "GjPnHd6_I0bJ"
      },
      "execution_count": null,
      "outputs": []
    },
    {
      "cell_type": "code",
      "source": [
        "a"
      ],
      "metadata": {
        "colab": {
          "base_uri": "https://localhost:8080/"
        },
        "id": "rue7xiLuI9ox",
        "outputId": "c4883cdb-e803-46e2-dbf0-f6de1b2190f5"
      },
      "execution_count": null,
      "outputs": [
        {
          "output_type": "execute_result",
          "data": {
            "text/plain": [
              "[11, 12, 13, 114, 155, 200, 'xyz', True]"
            ]
          },
          "metadata": {},
          "execution_count": 51
        }
      ]
    },
    {
      "cell_type": "code",
      "source": [
        "a.append(1.1)"
      ],
      "metadata": {
        "id": "NwnVmbpaI-NR"
      },
      "execution_count": null,
      "outputs": []
    },
    {
      "cell_type": "code",
      "source": [
        "a"
      ],
      "metadata": {
        "colab": {
          "base_uri": "https://localhost:8080/"
        },
        "id": "ndG70vpfJZ_7",
        "outputId": "fca2d9cf-214a-4487-e15e-4523337a9ff3"
      },
      "execution_count": null,
      "outputs": [
        {
          "output_type": "execute_result",
          "data": {
            "text/plain": [
              "[11, 12, 13, 114, 155, 200, 'xyz', True, 200, 1.1]"
            ]
          },
          "metadata": {},
          "execution_count": 54
        }
      ]
    },
    {
      "cell_type": "code",
      "source": [
        "# insert"
      ],
      "metadata": {
        "id": "fvvzDOR6Jakl"
      },
      "execution_count": null,
      "outputs": []
    },
    {
      "cell_type": "markdown",
      "source": [
        "  #insert add kr skta ek element k jaga pe"
      ],
      "metadata": {
        "id": "Ll3F9IvZ3_5X"
      }
    },
    {
      "cell_type": "code",
      "source": [
        "a.insert(1,\"abc\")   #insert add kr skta ek element k jaga pe"
      ],
      "metadata": {
        "id": "Z24tsdluJf4x"
      },
      "execution_count": null,
      "outputs": []
    },
    {
      "cell_type": "code",
      "source": [
        "a"
      ],
      "metadata": {
        "colab": {
          "base_uri": "https://localhost:8080/"
        },
        "id": "hryu7uhxKJJQ",
        "outputId": "ba1145d4-833c-4060-8991-c7bfda137a24"
      },
      "execution_count": null,
      "outputs": [
        {
          "output_type": "execute_result",
          "data": {
            "text/plain": [
              "[11, 'abc', 12, 13, 114, 155, 200, 'xyz', True, 200, 1.1]"
            ]
          },
          "metadata": {},
          "execution_count": 58
        }
      ]
    },
    {
      "cell_type": "code",
      "source": [
        "a.insert(0,25)"
      ],
      "metadata": {
        "id": "oSyiFDosKQz4"
      },
      "execution_count": null,
      "outputs": []
    },
    {
      "cell_type": "code",
      "source": [
        "a"
      ],
      "metadata": {
        "colab": {
          "base_uri": "https://localhost:8080/"
        },
        "id": "45XnSWazKqxK",
        "outputId": "c0a27403-5f4f-48ec-afcb-3bf815366dce"
      },
      "execution_count": null,
      "outputs": [
        {
          "output_type": "execute_result",
          "data": {
            "text/plain": [
              "[25, 11, 'abc', 12, 13, 114, 155, 200, 'xyz', True, 200, 1.1]"
            ]
          },
          "metadata": {},
          "execution_count": 60
        }
      ]
    },
    {
      "cell_type": "code",
      "source": [
        "a.insert(-3,345)"
      ],
      "metadata": {
        "id": "u-F198DiKr5n"
      },
      "execution_count": null,
      "outputs": []
    },
    {
      "cell_type": "code",
      "source": [
        "a"
      ],
      "metadata": {
        "colab": {
          "base_uri": "https://localhost:8080/"
        },
        "id": "Fub7gZ6UK9u8",
        "outputId": "15189713-88cb-4359-e3c8-5ec43312694b"
      },
      "execution_count": null,
      "outputs": [
        {
          "output_type": "execute_result",
          "data": {
            "text/plain": [
              "[25, 11, 'abc', 12, 13, 114, 155, 200, 'xyz', 345, True, 200, 1.1]"
            ]
          },
          "metadata": {},
          "execution_count": 62
        }
      ]
    },
    {
      "cell_type": "code",
      "source": [
        "a.insert(3,\"anand\")"
      ],
      "metadata": {
        "id": "kY65tFkoK-UT"
      },
      "execution_count": null,
      "outputs": []
    },
    {
      "cell_type": "code",
      "source": [
        "a"
      ],
      "metadata": {
        "colab": {
          "base_uri": "https://localhost:8080/"
        },
        "id": "rupZ3IZPLRYn",
        "outputId": "ee4268e0-1b79-4a88-8f09-34ac8e7536b1"
      },
      "execution_count": null,
      "outputs": [
        {
          "output_type": "execute_result",
          "data": {
            "text/plain": [
              "[25, 11, 'abc', 'anand', 12, 13, 114, 155, 200, 'xyz', 345, True, 200, 1.1]"
            ]
          },
          "metadata": {},
          "execution_count": 65
        }
      ]
    },
    {
      "cell_type": "markdown",
      "source": [
        "  #pop delete krta hai element"
      ],
      "metadata": {
        "id": "ECUChUH84F0R"
      }
    },
    {
      "cell_type": "code",
      "source": [
        "a.pop(-1)   #pop delete krta hai element"
      ],
      "metadata": {
        "colab": {
          "base_uri": "https://localhost:8080/"
        },
        "id": "15WQ_uv8LUoz",
        "outputId": "b5a11be6-6a89-480e-cd46-45a977ac8b3d"
      },
      "execution_count": null,
      "outputs": [
        {
          "output_type": "execute_result",
          "data": {
            "text/plain": [
              "1.1"
            ]
          },
          "metadata": {},
          "execution_count": 66
        }
      ]
    },
    {
      "cell_type": "code",
      "source": [
        "a.pop(1)"
      ],
      "metadata": {
        "colab": {
          "base_uri": "https://localhost:8080/"
        },
        "id": "3cLrQCAmMZoT",
        "outputId": "0d9534d7-21ed-47d2-ff2f-50f411e02d96"
      },
      "execution_count": null,
      "outputs": [
        {
          "output_type": "execute_result",
          "data": {
            "text/plain": [
              "11"
            ]
          },
          "metadata": {},
          "execution_count": 67
        }
      ]
    },
    {
      "cell_type": "code",
      "source": [
        "a"
      ],
      "metadata": {
        "colab": {
          "base_uri": "https://localhost:8080/"
        },
        "id": "yCavc6lYMgWe",
        "outputId": "aa384570-7bdd-48da-f7b7-b17640d862b5"
      },
      "execution_count": null,
      "outputs": [
        {
          "output_type": "execute_result",
          "data": {
            "text/plain": [
              "[25, 'abc', 'anand', 12, 13, 114, 155, 200, 'xyz', 345, True, 200]"
            ]
          },
          "metadata": {},
          "execution_count": 68
        }
      ]
    },
    {
      "cell_type": "code",
      "source": [
        "a.append(25)"
      ],
      "metadata": {
        "id": "GjIR5LE5MiDA"
      },
      "execution_count": null,
      "outputs": []
    },
    {
      "cell_type": "code",
      "source": [
        "a"
      ],
      "metadata": {
        "colab": {
          "base_uri": "https://localhost:8080/"
        },
        "id": "m2qRxVpGNHGG",
        "outputId": "dae22ebc-5ba7-472d-ffb1-a24ef38cea46"
      },
      "execution_count": null,
      "outputs": [
        {
          "output_type": "execute_result",
          "data": {
            "text/plain": [
              "[25, 'abc', 'anand', 12, 13, 114, 155, 200, 'xyz', 345, True, 200, 25]"
            ]
          },
          "metadata": {},
          "execution_count": 70
        }
      ]
    },
    {
      "cell_type": "markdown",
      "source": [
        "remove--remove duplicate element ko delete krta hai first wale ko"
      ],
      "metadata": {
        "id": "ZZsCT6a-4K9F"
      }
    },
    {
      "cell_type": "code",
      "source": [
        "a.remove(25)  # remove duplicate element ko delete krta hai first wale ko"
      ],
      "metadata": {
        "id": "LS0ZkyX8NHo4"
      },
      "execution_count": null,
      "outputs": []
    },
    {
      "cell_type": "code",
      "source": [
        "a"
      ],
      "metadata": {
        "colab": {
          "base_uri": "https://localhost:8080/"
        },
        "id": "klpa5IkKNP7J",
        "outputId": "b5822a6d-c0e6-426d-fb20-91a616b2c686"
      },
      "execution_count": null,
      "outputs": [
        {
          "output_type": "execute_result",
          "data": {
            "text/plain": [
              "['abc', 'anand', 12, 13, 114, 155, 200, 'xyz', 345, True, 200, 25]"
            ]
          },
          "metadata": {},
          "execution_count": 72
        }
      ]
    },
    {
      "cell_type": "code",
      "source": [
        "#clear"
      ],
      "metadata": {
        "id": "b2H1d1SBNQiS"
      },
      "execution_count": null,
      "outputs": []
    },
    {
      "cell_type": "markdown",
      "source": [
        "  clear--it's clear all the element in the bracket"
      ],
      "metadata": {
        "id": "L6Cpb4os4iWM"
      }
    },
    {
      "cell_type": "code",
      "source": [
        "a.clear() #it's clear all the element in the bracket"
      ],
      "metadata": {
        "id": "JVLbrKsfPc8f"
      },
      "execution_count": null,
      "outputs": []
    },
    {
      "cell_type": "code",
      "source": [
        "a"
      ],
      "metadata": {
        "colab": {
          "base_uri": "https://localhost:8080/"
        },
        "id": "ICfv2jbsPgNf",
        "outputId": "82955636-9723-457e-e835-e41ecec60a0a"
      },
      "execution_count": null,
      "outputs": [
        {
          "output_type": "execute_result",
          "data": {
            "text/plain": [
              "[]"
            ]
          },
          "metadata": {},
          "execution_count": 75
        }
      ]
    },
    {
      "cell_type": "markdown",
      "source": [
        "extent--it merge two element"
      ],
      "metadata": {
        "id": "95WyB6WC4xWA"
      }
    },
    {
      "cell_type": "code",
      "source": [
        "# extend"
      ],
      "metadata": {
        "id": "jwzbdL3jPgp-"
      },
      "execution_count": null,
      "outputs": []
    },
    {
      "cell_type": "code",
      "source": [
        "a=[1,2,3,4,5]"
      ],
      "metadata": {
        "id": "OuP3GET0PySR"
      },
      "execution_count": null,
      "outputs": []
    },
    {
      "cell_type": "code",
      "source": [
        "b=[6,7,8,9,10]"
      ],
      "metadata": {
        "id": "-kLGhKRSP3_F"
      },
      "execution_count": null,
      "outputs": []
    },
    {
      "cell_type": "code",
      "source": [
        "a.extend(b)   # it merge two element"
      ],
      "metadata": {
        "id": "C1ebnFYLQIUI"
      },
      "execution_count": null,
      "outputs": []
    },
    {
      "cell_type": "code",
      "source": [
        "a"
      ],
      "metadata": {
        "colab": {
          "base_uri": "https://localhost:8080/"
        },
        "id": "GBSfMJt4QLYM",
        "outputId": "cc1f2a23-9427-4595-f282-9f0831de9924"
      },
      "execution_count": null,
      "outputs": [
        {
          "output_type": "execute_result",
          "data": {
            "text/plain": [
              "[1, 2, 3, 4, 5, 6, 7, 8, 9, 10]"
            ]
          },
          "metadata": {},
          "execution_count": 9
        }
      ]
    },
    {
      "cell_type": "code",
      "source": [
        "b.extend(a)"
      ],
      "metadata": {
        "id": "Z1DbSv9PQPCv"
      },
      "execution_count": null,
      "outputs": []
    },
    {
      "cell_type": "code",
      "source": [
        "b"
      ],
      "metadata": {
        "colab": {
          "base_uri": "https://localhost:8080/"
        },
        "id": "3FcLCd8ZQfDf",
        "outputId": "c7f04bc4-25fe-48cc-8a43-d87a777b2eef"
      },
      "execution_count": null,
      "outputs": [
        {
          "output_type": "execute_result",
          "data": {
            "text/plain": [
              "[6, 7, 8, 9, 10, 1, 2, 3, 4, 5, 6, 7, 8, 9, 10]"
            ]
          },
          "metadata": {},
          "execution_count": 11
        }
      ]
    },
    {
      "cell_type": "markdown",
      "source": [
        " index--it count the element"
      ],
      "metadata": {
        "id": "wzsb5_Al4_k7"
      }
    },
    {
      "cell_type": "code",
      "source": [
        "#index         # it count the element"
      ],
      "metadata": {
        "id": "M02Y5QEoQflb"
      },
      "execution_count": null,
      "outputs": []
    },
    {
      "cell_type": "code",
      "source": [
        "b.index(8)"
      ],
      "metadata": {
        "colab": {
          "base_uri": "https://localhost:8080/"
        },
        "id": "Wu5iZYgaQnDm",
        "outputId": "5cf49891-d166-4ba3-e1c3-12aee4dea3ee"
      },
      "execution_count": null,
      "outputs": [
        {
          "output_type": "execute_result",
          "data": {
            "text/plain": [
              "2"
            ]
          },
          "metadata": {},
          "execution_count": 86
        }
      ]
    },
    {
      "cell_type": "markdown",
      "source": [
        "count--it count the repation in the element"
      ],
      "metadata": {
        "id": "OvxBqKux5qrW"
      }
    },
    {
      "cell_type": "code",
      "source": [
        "#count   # it count the repation in the element"
      ],
      "metadata": {
        "id": "-7VqALveQtMq"
      },
      "execution_count": null,
      "outputs": []
    },
    {
      "cell_type": "code",
      "source": [
        "b.count(8)"
      ],
      "metadata": {
        "colab": {
          "base_uri": "https://localhost:8080/"
        },
        "id": "6bB7qXZERXtP",
        "outputId": "e857ac97-1c81-4d6c-9693-4bbfc4b58c78"
      },
      "execution_count": null,
      "outputs": [
        {
          "output_type": "execute_result",
          "data": {
            "text/plain": [
              "2"
            ]
          },
          "metadata": {},
          "execution_count": 88
        }
      ]
    },
    {
      "cell_type": "code",
      "source": [
        "b.count(1)"
      ],
      "metadata": {
        "colab": {
          "base_uri": "https://localhost:8080/"
        },
        "id": "rrVMHKKcRbIN",
        "outputId": "f4ecfda8-4531-4c5c-b7f6-b793f63b2eb1"
      },
      "execution_count": null,
      "outputs": [
        {
          "output_type": "execute_result",
          "data": {
            "text/plain": [
              "1"
            ]
          },
          "metadata": {},
          "execution_count": 89
        }
      ]
    },
    {
      "cell_type": "markdown",
      "source": [
        "sort--it convert into as to ds"
      ],
      "metadata": {
        "id": "T72rT89c50WU"
      }
    },
    {
      "cell_type": "code",
      "source": [
        "# sort # it convert into as to ds"
      ],
      "metadata": {
        "id": "UnM3JwHeR8dD"
      },
      "execution_count": null,
      "outputs": []
    },
    {
      "cell_type": "code",
      "source": [
        "b.sort() #it do in as"
      ],
      "metadata": {
        "id": "6YZpqkTYSMXG"
      },
      "execution_count": null,
      "outputs": []
    },
    {
      "cell_type": "code",
      "source": [
        "b"
      ],
      "metadata": {
        "colab": {
          "base_uri": "https://localhost:8080/"
        },
        "id": "NgagE2tbSZll",
        "outputId": "1c87d5c2-ea19-4808-baae-cf396f51d0a3"
      },
      "execution_count": null,
      "outputs": [
        {
          "output_type": "execute_result",
          "data": {
            "text/plain": [
              "[1, 2, 3, 4, 6, 6, 7, 7, 8, 8, 9, 9, 10, 10]"
            ]
          },
          "metadata": {},
          "execution_count": 92
        }
      ]
    },
    {
      "cell_type": "code",
      "source": [
        "b.sort(reverse=True)   # it do in ds"
      ],
      "metadata": {
        "id": "ejO1oqhUSavW"
      },
      "execution_count": null,
      "outputs": []
    },
    {
      "cell_type": "code",
      "source": [
        "b"
      ],
      "metadata": {
        "colab": {
          "base_uri": "https://localhost:8080/"
        },
        "id": "nhVp41-PSioQ",
        "outputId": "92ddb94d-df75-413a-e462-9f3beb193af4"
      },
      "execution_count": null,
      "outputs": [
        {
          "output_type": "execute_result",
          "data": {
            "text/plain": [
              "[10, 10, 9, 9, 8, 8, 7, 7, 6, 6, 4, 3, 2, 1]"
            ]
          },
          "metadata": {},
          "execution_count": 94
        }
      ]
    },
    {
      "cell_type": "code",
      "source": [
        "b.reverse()"
      ],
      "metadata": {
        "id": "qz7kGwgNSjo0"
      },
      "execution_count": null,
      "outputs": []
    },
    {
      "cell_type": "code",
      "source": [
        "b"
      ],
      "metadata": {
        "colab": {
          "base_uri": "https://localhost:8080/"
        },
        "id": "IyysbGxjTJqp",
        "outputId": "709c8e2c-805a-4c40-ce75-20c081477021"
      },
      "execution_count": null,
      "outputs": [
        {
          "output_type": "execute_result",
          "data": {
            "text/plain": [
              "[1, 2, 3, 4, 6, 6, 7, 7, 8, 8, 9, 9, 10, 10]"
            ]
          },
          "metadata": {},
          "execution_count": 96
        }
      ]
    },
    {
      "cell_type": "code",
      "source": [
        "print(\"Welcome to my store\")\n",
        "print(\"enter 1 to Add items\")\n",
        "print('enter 2 to remove items')\n",
        "print('enter 3 to check items in your grocery_list')\n",
        "print(\"enter 4 to complete your shopping\")\n",
        "grocery_list=[]\n",
        "while True:\n",
        "  num=int(input(\"enter any number b/w 1/2/3/4:-\"))\n",
        "  if num==1:\n",
        "    item=input('enter item to add in grocery_list:-')\n",
        "    grocery_list.append(item)\n",
        "    print(grocery_list)\n",
        "  elif num==2:\n",
        "    item=input('enter item to remove from your grocery_list:-')\n",
        "    grocery_list.remove(item)\n",
        "    print(grocery_list)\n",
        "  elif num==3:\n",
        "    for i in grocery_list:\n",
        "      print(i)\n",
        "  elif num==4:\n",
        "    print(\"thanks for shopping\")\n",
        "    break\n",
        "  else:\n",
        "    print(\"Not a valid input ! please choose b/w 1/2/3/4\")"
      ],
      "metadata": {
        "colab": {
          "base_uri": "https://localhost:8080/"
        },
        "id": "P0ZqyIJTJe1d",
        "outputId": "0df94368-fcb0-45db-ddfe-a9930211ee25"
      },
      "execution_count": null,
      "outputs": [
        {
          "output_type": "stream",
          "name": "stdout",
          "text": [
            "Welcome to my store\n",
            "enter 1 to Add items\n",
            "enter 2 to remove items\n",
            "enter 3 to check items in your grocery_list\n",
            "enter 4 to complete your shopping\n",
            "enter any number b/w 1/2/3/4:-1\n",
            "enter item to add in grocery_list:-oats\n",
            "['oats']\n",
            "enter any number b/w 1/2/3/4:-2\n",
            "enter item to remove from your grocery_list:-oats\n",
            "[]\n",
            "enter any number b/w 1/2/3/4:-3\n",
            "enter any number b/w 1/2/3/4:-3\n",
            "enter any number b/w 1/2/3/4:-4\n",
            "thanks for shopping\n"
          ]
        }
      ]
    },
    {
      "cell_type": "markdown",
      "source": [
        "---copy"
      ],
      "metadata": {
        "id": "k9SHt-ea9SSs"
      }
    },
    {
      "cell_type": "code",
      "source": [
        "# copy"
      ],
      "metadata": {
        "id": "QvceSXu0OPfA"
      },
      "execution_count": null,
      "outputs": []
    },
    {
      "cell_type": "code",
      "source": [
        "a=[1,2,3,4,5,6]"
      ],
      "metadata": {
        "id": "n2Jit9uaQ6gf"
      },
      "execution_count": null,
      "outputs": []
    },
    {
      "cell_type": "code",
      "source": [
        "a"
      ],
      "metadata": {
        "colab": {
          "base_uri": "https://localhost:8080/"
        },
        "id": "5SLjJ4bVRLJs",
        "outputId": "cbd82634-064b-496a-b752-d4e6ea212415"
      },
      "execution_count": null,
      "outputs": [
        {
          "output_type": "execute_result",
          "data": {
            "text/plain": [
              "[1, 2, 3, 4, 5, 6]"
            ]
          },
          "metadata": {},
          "execution_count": 14
        }
      ]
    },
    {
      "cell_type": "code",
      "source": [
        "b=a.copy()"
      ],
      "metadata": {
        "id": "n8cQI0CORP02"
      },
      "execution_count": null,
      "outputs": []
    },
    {
      "cell_type": "code",
      "source": [
        "a"
      ],
      "metadata": {
        "colab": {
          "base_uri": "https://localhost:8080/"
        },
        "id": "wRnue7DFSoU-",
        "outputId": "c3f14bd5-a5ea-464f-efec-5a8c85063d1c"
      },
      "execution_count": null,
      "outputs": [
        {
          "output_type": "execute_result",
          "data": {
            "text/plain": [
              "[1, 2, 3, 4, 5, 6]"
            ]
          },
          "metadata": {},
          "execution_count": 21
        }
      ]
    },
    {
      "cell_type": "code",
      "source": [
        "b"
      ],
      "metadata": {
        "colab": {
          "base_uri": "https://localhost:8080/"
        },
        "id": "zqWZcWNmUrU_",
        "outputId": "a5c9f29b-4122-4649-d2c8-5a29558809e5"
      },
      "execution_count": null,
      "outputs": [
        {
          "output_type": "execute_result",
          "data": {
            "text/plain": [
              "[1, 2, 3, 4, 5, 6]"
            ]
          },
          "metadata": {},
          "execution_count": 22
        }
      ]
    },
    {
      "cell_type": "code",
      "source": [
        "id(a)"
      ],
      "metadata": {
        "colab": {
          "base_uri": "https://localhost:8080/"
        },
        "id": "leqauYPwSpqJ",
        "outputId": "c8f4f95c-5046-465d-b0ae-cf55b7b90a4b"
      },
      "execution_count": null,
      "outputs": [
        {
          "output_type": "execute_result",
          "data": {
            "text/plain": [
              "134699261686592"
            ]
          },
          "metadata": {},
          "execution_count": 18
        }
      ]
    },
    {
      "cell_type": "code",
      "source": [
        "id(b)"
      ],
      "metadata": {
        "colab": {
          "base_uri": "https://localhost:8080/"
        },
        "id": "ONEObCv6SqwL",
        "outputId": "5724d039-e2c3-4179-ca11-c3615fe74c96"
      },
      "execution_count": null,
      "outputs": [
        {
          "output_type": "execute_result",
          "data": {
            "text/plain": [
              "134698259453312"
            ]
          },
          "metadata": {},
          "execution_count": 19
        }
      ]
    },
    {
      "cell_type": "code",
      "source": [
        "a=[1,2,3,4,\"Anand\"]"
      ],
      "metadata": {
        "id": "m6UsvBvGSwsN"
      },
      "execution_count": null,
      "outputs": []
    },
    {
      "cell_type": "code",
      "source": [
        "a"
      ],
      "metadata": {
        "colab": {
          "base_uri": "https://localhost:8080/"
        },
        "id": "YTjDqWHJV9k4",
        "outputId": "df53f057-de9b-45e7-dccf-f19cb3e12654"
      },
      "execution_count": null,
      "outputs": [
        {
          "output_type": "execute_result",
          "data": {
            "text/plain": [
              "[1, 2, 3, 4, 'Anand']"
            ]
          },
          "metadata": {},
          "execution_count": 24
        }
      ]
    },
    {
      "cell_type": "code",
      "source": [
        "x='Anand'"
      ],
      "metadata": {
        "id": "J1mImztHV-Si"
      },
      "execution_count": null,
      "outputs": []
    },
    {
      "cell_type": "code",
      "source": [
        "x[0]"
      ],
      "metadata": {
        "colab": {
          "base_uri": "https://localhost:8080/",
          "height": 36
        },
        "id": "kDKmaNCVWBht",
        "outputId": "bd0c6caa-22bf-40c5-d8f2-1b881e097c32"
      },
      "execution_count": null,
      "outputs": [
        {
          "output_type": "execute_result",
          "data": {
            "text/plain": [
              "'A'"
            ],
            "application/vnd.google.colaboratory.intrinsic+json": {
              "type": "string"
            }
          },
          "metadata": {},
          "execution_count": 26
        }
      ]
    },
    {
      "cell_type": "code",
      "source": [
        "a[4]"
      ],
      "metadata": {
        "colab": {
          "base_uri": "https://localhost:8080/",
          "height": 36
        },
        "id": "Hblp_DGWWNTZ",
        "outputId": "ad3b0984-6be4-44a4-f48d-fbe77c20399b"
      },
      "execution_count": null,
      "outputs": [
        {
          "output_type": "execute_result",
          "data": {
            "text/plain": [
              "'Anand'"
            ],
            "application/vnd.google.colaboratory.intrinsic+json": {
              "type": "string"
            }
          },
          "metadata": {},
          "execution_count": 27
        }
      ]
    },
    {
      "cell_type": "code",
      "source": [
        "a[4][0:3]"
      ],
      "metadata": {
        "colab": {
          "base_uri": "https://localhost:8080/",
          "height": 36
        },
        "id": "8rUwLq6UWfcM",
        "outputId": "c6bbb7d0-61cd-4b62-e695-28fc7b5e46dc"
      },
      "execution_count": null,
      "outputs": [
        {
          "output_type": "execute_result",
          "data": {
            "text/plain": [
              "'Ana'"
            ],
            "application/vnd.google.colaboratory.intrinsic+json": {
              "type": "string"
            }
          },
          "metadata": {},
          "execution_count": 28
        }
      ]
    },
    {
      "cell_type": "code",
      "source": [
        "x=[1,2,3,4,[5,6,7,8,[9,10,11,12,['anand',\"abc\"]]]]"
      ],
      "metadata": {
        "id": "seAhHZmVWoqF"
      },
      "execution_count": null,
      "outputs": []
    },
    {
      "cell_type": "code",
      "source": [
        "x[-1][-1][-1][1][1]"
      ],
      "metadata": {
        "colab": {
          "base_uri": "https://localhost:8080/",
          "height": 36
        },
        "id": "aHq2S-SnXW0r",
        "outputId": "f270aab0-825d-4722-b443-f8bd3a8b9866"
      },
      "execution_count": null,
      "outputs": [
        {
          "output_type": "execute_result",
          "data": {
            "text/plain": [
              "'b'"
            ],
            "application/vnd.google.colaboratory.intrinsic+json": {
              "type": "string"
            }
          },
          "metadata": {},
          "execution_count": 39
        }
      ]
    },
    {
      "cell_type": "code",
      "source": [
        "x=[1,2,3,4,[5,6,7,8,[9,10,11,12,['anand',\"abc\"]]]]"
      ],
      "metadata": {
        "id": "TA55Aj9sXlKi"
      },
      "execution_count": null,
      "outputs": []
    },
    {
      "cell_type": "code",
      "source": [
        "x[4][4][4][1][1]"
      ],
      "metadata": {
        "colab": {
          "base_uri": "https://localhost:8080/",
          "height": 36
        },
        "id": "1iDPmk5eZkNV",
        "outputId": "00fbfcb7-1c6d-4d26-c0b6-2068ab4c6429"
      },
      "execution_count": null,
      "outputs": [
        {
          "output_type": "execute_result",
          "data": {
            "text/plain": [
              "'b'"
            ],
            "application/vnd.google.colaboratory.intrinsic+json": {
              "type": "string"
            }
          },
          "metadata": {},
          "execution_count": 41
        }
      ]
    },
    {
      "cell_type": "code",
      "source": [
        "y=[121,\"1,2,3\",\"4,5\",[456,90,\"56\",[89,\"9990\"],[\"hello\"]]]"
      ],
      "metadata": {
        "id": "NC6dNxERZrCE"
      },
      "execution_count": null,
      "outputs": []
    },
    {
      "cell_type": "code",
      "source": [
        "y[3][3][1][3]"
      ],
      "metadata": {
        "colab": {
          "base_uri": "https://localhost:8080/",
          "height": 36
        },
        "id": "063x6XDbapot",
        "outputId": "79b75c2e-abe3-4012-c7de-2dc33a7b9ddd"
      },
      "execution_count": null,
      "outputs": [
        {
          "output_type": "execute_result",
          "data": {
            "text/plain": [
              "'0'"
            ],
            "application/vnd.google.colaboratory.intrinsic+json": {
              "type": "string"
            }
          },
          "metadata": {},
          "execution_count": 52
        }
      ]
    },
    {
      "cell_type": "code",
      "source": [
        "z=[11,12,13,14,[15,16,17],[19,20,[21,22,[23,24,25,[26,27,28,[\"python\"]]]]]]"
      ],
      "metadata": {
        "id": "q0qA_0Xea3-j"
      },
      "execution_count": null,
      "outputs": []
    },
    {
      "cell_type": "code",
      "source": [
        "z[-1][-1][-1][-1][-1][-1][-4:-6:-1]"
      ],
      "metadata": {
        "colab": {
          "base_uri": "https://localhost:8080/",
          "height": 36
        },
        "id": "YR47k1n8bi_N",
        "outputId": "6c506eaa-f730-4ce5-9421-63b8fba7b93a"
      },
      "execution_count": null,
      "outputs": [
        {
          "output_type": "execute_result",
          "data": {
            "text/plain": [
              "'ty'"
            ],
            "application/vnd.google.colaboratory.intrinsic+json": {
              "type": "string"
            }
          },
          "metadata": {},
          "execution_count": 96
        }
      ]
    },
    {
      "cell_type": "code",
      "source": [
        "z=[11,12,13,14,[15,16,17],[19,20,[21,22,[23,24,25,[26,27,28,[\"python\"]]]]]]"
      ],
      "metadata": {
        "id": "5jlbnLTtbnUz"
      },
      "execution_count": null,
      "outputs": []
    },
    {
      "cell_type": "code",
      "source": [
        "z[5][2][2][3][3][0][0:2]"
      ],
      "metadata": {
        "colab": {
          "base_uri": "https://localhost:8080/",
          "height": 36
        },
        "id": "VN2C2cz3ctAL",
        "outputId": "1d8d01c1-d94c-43e1-bcd7-fa0f9549672d"
      },
      "execution_count": null,
      "outputs": [
        {
          "output_type": "execute_result",
          "data": {
            "text/plain": [
              "'py'"
            ],
            "application/vnd.google.colaboratory.intrinsic+json": {
              "type": "string"
            }
          },
          "metadata": {},
          "execution_count": 6
        }
      ]
    },
    {
      "cell_type": "code",
      "source": [
        "a=[1,2,3,5,[9,10],12,13,[14,15]]"
      ],
      "metadata": {
        "id": "Ke-h42I9tOGn"
      },
      "execution_count": null,
      "outputs": []
    },
    {
      "cell_type": "code",
      "source": [
        "[a[4][0],a[7][0]]"
      ],
      "metadata": {
        "colab": {
          "base_uri": "https://localhost:8080/"
        },
        "id": "6N6xjoXix5Tx",
        "outputId": "8a702ec5-ae24-4910-d98b-75bb69020a1f"
      },
      "execution_count": null,
      "outputs": [
        {
          "output_type": "execute_result",
          "data": {
            "text/plain": [
              "[9, 14]"
            ]
          },
          "metadata": {},
          "execution_count": 22
        }
      ]
    },
    {
      "cell_type": "code",
      "source": [
        "a=[1,2,3,5,[9,10],12,13,[14,15]]"
      ],
      "metadata": {
        "id": "R69vWuBryc5N"
      },
      "execution_count": null,
      "outputs": []
    },
    {
      "cell_type": "code",
      "source": [
        "[a[4][0],a[4][1],a[7][0],a[7][1]]"
      ],
      "metadata": {
        "colab": {
          "base_uri": "https://localhost:8080/"
        },
        "id": "oX0xKopG0lhM",
        "outputId": "19074dc0-dcfc-48a8-fbc3-1d6a4c3c0753"
      },
      "execution_count": null,
      "outputs": [
        {
          "output_type": "execute_result",
          "data": {
            "text/plain": [
              "[9, 10, 14, 15]"
            ]
          },
          "metadata": {},
          "execution_count": 28
        }
      ]
    },
    {
      "cell_type": "code",
      "source": [
        "# tuple    it is immutable,in tuple the braket is used()"
      ],
      "metadata": {
        "id": "5X7DHjmh05ge"
      },
      "execution_count": null,
      "outputs": []
    },
    {
      "cell_type": "code",
      "source": [
        "a=(121,1.3,\"anand\",True,6+2j)"
      ],
      "metadata": {
        "id": "T_NnhPxf1-CX"
      },
      "execution_count": null,
      "outputs": []
    },
    {
      "cell_type": "code",
      "source": [
        "type(a)"
      ],
      "metadata": {
        "colab": {
          "base_uri": "https://localhost:8080/"
        },
        "id": "zOYJKtIe3EjJ",
        "outputId": "85b695b1-c6a1-494f-b401-14b5cd481be3"
      },
      "execution_count": null,
      "outputs": [
        {
          "output_type": "execute_result",
          "data": {
            "text/plain": [
              "tuple"
            ]
          },
          "metadata": {},
          "execution_count": 31
        }
      ]
    },
    {
      "cell_type": "code",
      "source": [
        "a=(1,21,34,'89,87',31,(121,146,999,1111))"
      ],
      "metadata": {
        "id": "qojULEH93HuH"
      },
      "execution_count": null,
      "outputs": []
    },
    {
      "cell_type": "code",
      "source": [
        "a[-1][2]"
      ],
      "metadata": {
        "colab": {
          "base_uri": "https://localhost:8080/"
        },
        "id": "4z5s5tfI324Q",
        "outputId": "6c4cce00-aab5-4d93-c6c3-2f8ebf650bab"
      },
      "execution_count": null,
      "outputs": [
        {
          "output_type": "execute_result",
          "data": {
            "text/plain": [
              "999"
            ]
          },
          "metadata": {},
          "execution_count": 37
        }
      ]
    },
    {
      "cell_type": "code",
      "source": [
        "a=(\"a\",\"b\",\"c\",\"d\",\"e\",\"f\")"
      ],
      "metadata": {
        "id": "VcBFy1P036eF"
      },
      "execution_count": null,
      "outputs": []
    },
    {
      "cell_type": "code",
      "source": [
        "a[::-1]  #reverse form"
      ],
      "metadata": {
        "colab": {
          "base_uri": "https://localhost:8080/"
        },
        "id": "U08fvfmo4hZC",
        "outputId": "af55c985-0827-45e8-9944-a04164eee67e"
      },
      "execution_count": null,
      "outputs": [
        {
          "output_type": "execute_result",
          "data": {
            "text/plain": [
              "('f', 'e', 'd', 'c', 'b', 'a')"
            ]
          },
          "metadata": {},
          "execution_count": 41
        }
      ]
    },
    {
      "cell_type": "code",
      "source": [
        "a[0:4]"
      ],
      "metadata": {
        "colab": {
          "base_uri": "https://localhost:8080/"
        },
        "id": "qdkkmBw14u21",
        "outputId": "bdb52358-fda2-4edb-b502-92958d4f5a17"
      },
      "execution_count": null,
      "outputs": [
        {
          "output_type": "execute_result",
          "data": {
            "text/plain": [
              "('a', 'b', 'c', 'd')"
            ]
          },
          "metadata": {},
          "execution_count": 42
        }
      ]
    },
    {
      "cell_type": "code",
      "source": [
        "a=((1,2,3),(4,5,6),(7,8,9,),(10,11,12,13))"
      ],
      "metadata": {
        "id": "_EzX7YB85DNP"
      },
      "execution_count": null,
      "outputs": []
    },
    {
      "cell_type": "code",
      "source": [
        "a[0][0],a[1][0],a[2][0],a[3][0]"
      ],
      "metadata": {
        "colab": {
          "base_uri": "https://localhost:8080/"
        },
        "id": "mYEfS4_T6ZHD",
        "outputId": "66235259-5ff9-4658-f0e2-34c08caa0960"
      },
      "execution_count": null,
      "outputs": [
        {
          "output_type": "execute_result",
          "data": {
            "text/plain": [
              "(1, 4, 7, 10)"
            ]
          },
          "metadata": {},
          "execution_count": 44
        }
      ]
    },
    {
      "cell_type": "code",
      "source": [
        "a=tuple(range(1,11,3))"
      ],
      "metadata": {
        "id": "Db45fsNN6pe3"
      },
      "execution_count": null,
      "outputs": []
    },
    {
      "cell_type": "code",
      "source": [
        "a"
      ],
      "metadata": {
        "colab": {
          "base_uri": "https://localhost:8080/"
        },
        "id": "81wAlW0j8k_W",
        "outputId": "8e07a077-5d99-42f2-c6a2-4e4770b6ea7d"
      },
      "execution_count": null,
      "outputs": [
        {
          "output_type": "execute_result",
          "data": {
            "text/plain": [
              "(1, 4, 7, 10)"
            ]
          },
          "metadata": {},
          "execution_count": 64
        }
      ]
    },
    {
      "cell_type": "code",
      "source": [
        "a=[((1,2,3),(4,5,6),(7,8,[121,234,'xyz'],9),(10,11,12))]"
      ],
      "metadata": {
        "id": "goojEeDn67V6"
      },
      "execution_count": null,
      "outputs": []
    },
    {
      "cell_type": "code",
      "source": [
        "a[0][2][2][2][0:1:]"
      ],
      "metadata": {
        "colab": {
          "base_uri": "https://localhost:8080/",
          "height": 36
        },
        "id": "NuNbSSW-7JDO",
        "outputId": "a4b3bc7e-b6ba-4e66-98c6-8a9a918bda24"
      },
      "execution_count": null,
      "outputs": [
        {
          "output_type": "execute_result",
          "data": {
            "text/plain": [
              "'x'"
            ],
            "application/vnd.google.colaboratory.intrinsic+json": {
              "type": "string"
            }
          },
          "metadata": {},
          "execution_count": 62
        }
      ]
    },
    {
      "cell_type": "markdown",
      "source": [
        "# tuple methods"
      ],
      "metadata": {
        "id": "C-y7ZpuR9h0y"
      }
    },
    {
      "cell_type": "code",
      "source": [
        "a=(1,2,3,4)"
      ],
      "metadata": {
        "id": "K6SVKrKi9FRF"
      },
      "execution_count": null,
      "outputs": []
    },
    {
      "cell_type": "code",
      "source": [
        "b=(5,6,7,8)"
      ],
      "metadata": {
        "id": "YBa9BnbX9j2s"
      },
      "execution_count": null,
      "outputs": []
    },
    {
      "cell_type": "code",
      "source": [
        "c=a+b"
      ],
      "metadata": {
        "id": "QerqVzYZ9l8e"
      },
      "execution_count": null,
      "outputs": []
    },
    {
      "cell_type": "code",
      "source": [
        "c"
      ],
      "metadata": {
        "colab": {
          "base_uri": "https://localhost:8080/"
        },
        "id": "ICoJeTKs-FND",
        "outputId": "ba6e7c5f-b1ed-42aa-e71b-7e5ea874b172"
      },
      "execution_count": null,
      "outputs": [
        {
          "output_type": "execute_result",
          "data": {
            "text/plain": [
              "(1, 2, 3, 4, 5, 6, 7, 8)"
            ]
          },
          "metadata": {},
          "execution_count": 72
        }
      ]
    },
    {
      "cell_type": "markdown",
      "source": [
        "#1.count"
      ],
      "metadata": {
        "id": "fdToimwe9oin"
      }
    },
    {
      "cell_type": "code",
      "source": [
        "c.count(6)"
      ],
      "metadata": {
        "colab": {
          "base_uri": "https://localhost:8080/"
        },
        "id": "HIzYC0EB93y1",
        "outputId": "f0921b25-c2d8-4587-9d93-41464c37c0de"
      },
      "execution_count": null,
      "outputs": [
        {
          "output_type": "execute_result",
          "data": {
            "text/plain": [
              "1"
            ]
          },
          "metadata": {},
          "execution_count": 84
        }
      ]
    },
    {
      "cell_type": "markdown",
      "source": [
        "#2.index"
      ],
      "metadata": {
        "id": "0kv_kzAW9tjs"
      }
    },
    {
      "cell_type": "code",
      "source": [
        "c.index(6)"
      ],
      "metadata": {
        "colab": {
          "base_uri": "https://localhost:8080/"
        },
        "id": "QltU2Y1h-Pv5",
        "outputId": "16cb96ab-3915-4ac8-96d4-b5764f7f9509"
      },
      "execution_count": null,
      "outputs": [
        {
          "output_type": "execute_result",
          "data": {
            "text/plain": [
              "5"
            ]
          },
          "metadata": {},
          "execution_count": 79
        }
      ]
    },
    {
      "cell_type": "markdown",
      "source": [
        "# different functions of tuple"
      ],
      "metadata": {
        "id": "9KJgoBuf9yGt"
      }
    },
    {
      "cell_type": "markdown",
      "source": [
        "#1.len"
      ],
      "metadata": {
        "id": "cuLo5djc91oo"
      }
    },
    {
      "cell_type": "code",
      "source": [
        "a=(1,2,3,4,5)"
      ],
      "metadata": {
        "id": "nJgK-MayAaCG"
      },
      "execution_count": null,
      "outputs": []
    },
    {
      "cell_type": "code",
      "source": [
        "len(a)"
      ],
      "metadata": {
        "colab": {
          "base_uri": "https://localhost:8080/"
        },
        "id": "BAo9DuvWAoOu",
        "outputId": "74f07513-d926-433e-a5d3-e13bb3287b47"
      },
      "execution_count": null,
      "outputs": [
        {
          "output_type": "execute_result",
          "data": {
            "text/plain": [
              "5"
            ]
          },
          "metadata": {},
          "execution_count": 83
        }
      ]
    },
    {
      "cell_type": "code",
      "source": [
        "b=[1,2,3,4,5]"
      ],
      "metadata": {
        "id": "bqtMo_wzJGrc"
      },
      "execution_count": null,
      "outputs": []
    },
    {
      "cell_type": "code",
      "source": [
        "len(b)"
      ],
      "metadata": {
        "colab": {
          "base_uri": "https://localhost:8080/"
        },
        "id": "nvgsmDsbJLQo",
        "outputId": "40ed4f4f-0637-41e6-d580-34612024bd3a"
      },
      "execution_count": null,
      "outputs": [
        {
          "output_type": "execute_result",
          "data": {
            "text/plain": [
              "5"
            ]
          },
          "metadata": {},
          "execution_count": 3
        }
      ]
    },
    {
      "cell_type": "code",
      "source": [
        "a=[\"apple\",\"banana\",\"orange\",\"strawberry\",\"apple\",\"orange\",\"strawberry\",\"banana\",\"apple\",\"strawberry\",\"pineapple\"]\n",
        "b=len(a)\n",
        "app_count = 0\n",
        "orange_count = 0\n",
        "strawberry_count= 0\n",
        "banana_count = 0\n",
        "pineapple_count = 0\n",
        "\n",
        "for i in range(0,b,1):\n",
        "  if a[i] == \"apple\":\n",
        "     app_count=app_count+1\n",
        "  elif a[i] == \"orange\":\n",
        "     orange_count=orange_count+1\n",
        "  elif a[i] == \"strawberry\":\n",
        "     strawberry_count=strawberry_count+1\n",
        "  elif a[i] == \"banana\":\n",
        "     banana_count=banana_count+1\n",
        "  elif a[i] == \"pineapple\":\n",
        "     pineapple_count=pineapple_count+1\n",
        "print(\"Apple Count: \", app_count)\n",
        "print(\"Orange Count: \", orange_count)\n",
        "print(\"Strawberry Count: \", strawberry_count)\n",
        "print(\"Banana Count: \", banana_count)\n",
        "print(\"Pineapple Count: \", pineapple_count)\n",
        "\n"
      ],
      "metadata": {
        "colab": {
          "base_uri": "https://localhost:8080/"
        },
        "id": "6NKDTMbrBmHq",
        "outputId": "6f09f0c8-6bc4-4383-cad6-dd2608ac61f1"
      },
      "execution_count": null,
      "outputs": [
        {
          "output_type": "stream",
          "name": "stdout",
          "text": [
            "Apple Count:  3\n",
            "Orange Count:  2\n",
            "Strawberry Count:  3\n",
            "Banana Count:  2\n",
            "Pineapple Count:  1\n"
          ]
        }
      ]
    },
    {
      "cell_type": "code",
      "source": [
        "a=(1,2,3,4,5)"
      ],
      "metadata": {
        "id": "tqMQiFOwKgTD"
      },
      "execution_count": null,
      "outputs": []
    },
    {
      "cell_type": "code",
      "source": [
        "b=[6,7,8,9,10]"
      ],
      "metadata": {
        "id": "_Xx1CyALKk1U"
      },
      "execution_count": null,
      "outputs": []
    },
    {
      "cell_type": "markdown",
      "source": [
        "# max"
      ],
      "metadata": {
        "id": "3Ey-fh7E9-6g"
      }
    },
    {
      "cell_type": "code",
      "source": [
        "max(a)"
      ],
      "metadata": {
        "colab": {
          "base_uri": "https://localhost:8080/"
        },
        "id": "9Sc8SPU-K1ac",
        "outputId": "4c9aaeb9-5ab7-457e-da8c-84079369a2f4"
      },
      "execution_count": null,
      "outputs": [
        {
          "output_type": "execute_result",
          "data": {
            "text/plain": [
              "5"
            ]
          },
          "metadata": {},
          "execution_count": 17
        }
      ]
    },
    {
      "cell_type": "markdown",
      "source": [
        "# min"
      ],
      "metadata": {
        "id": "13URI4yf98Y2"
      }
    },
    {
      "cell_type": "code",
      "source": [
        "min(a)"
      ],
      "metadata": {
        "colab": {
          "base_uri": "https://localhost:8080/"
        },
        "id": "6ev15udLKzvy",
        "outputId": "798bb70b-878f-4074-9842-41c81e0069d7"
      },
      "execution_count": null,
      "outputs": [
        {
          "output_type": "execute_result",
          "data": {
            "text/plain": [
              "1"
            ]
          },
          "metadata": {},
          "execution_count": 16
        }
      ]
    },
    {
      "cell_type": "markdown",
      "source": [
        "# sum"
      ],
      "metadata": {
        "id": "fNpzrdxP-Diz"
      }
    },
    {
      "cell_type": "code",
      "source": [
        "sum(a)"
      ],
      "metadata": {
        "colab": {
          "base_uri": "https://localhost:8080/"
        },
        "id": "wvwbAtAXKxSb",
        "outputId": "e4c83ce4-b482-41e7-e1ce-ce4435c0d44e"
      },
      "execution_count": null,
      "outputs": [
        {
          "output_type": "execute_result",
          "data": {
            "text/plain": [
              "15"
            ]
          },
          "metadata": {},
          "execution_count": 15
        }
      ]
    },
    {
      "cell_type": "code",
      "source": [
        "# sorted it sort in asec"
      ],
      "metadata": {
        "id": "8aRrQ1DlJqi-"
      },
      "execution_count": null,
      "outputs": []
    },
    {
      "cell_type": "code",
      "source": [
        "sorted(a)"
      ],
      "metadata": {
        "colab": {
          "base_uri": "https://localhost:8080/"
        },
        "id": "x7dSDGNJKtt4",
        "outputId": "9556778e-e98c-44ad-8784-12284f1325a3"
      },
      "execution_count": null,
      "outputs": [
        {
          "output_type": "execute_result",
          "data": {
            "text/plain": [
              "[1, 2, 3, 4, 5]"
            ]
          },
          "metadata": {},
          "execution_count": 14
        }
      ]
    },
    {
      "cell_type": "code",
      "source": [
        "sorted(a,reverse=True)"
      ],
      "metadata": {
        "colab": {
          "base_uri": "https://localhost:8080/"
        },
        "id": "qilg7kMYJtpS",
        "outputId": "649921eb-b62c-4179-e4f2-fb17849ea9e7"
      },
      "execution_count": null,
      "outputs": [
        {
          "output_type": "execute_result",
          "data": {
            "text/plain": [
              "[5, 4, 3, 2, 1]"
            ]
          },
          "metadata": {},
          "execution_count": 13
        }
      ]
    },
    {
      "cell_type": "markdown",
      "source": [
        "#Sets-#sets it is unorder elements, set doesn't support indexing and slicing \"{}\""
      ],
      "metadata": {
        "id": "lWTjK9Cz-LrY"
      }
    },
    {
      "cell_type": "code",
      "source": [
        "a={2,3,4,\"xyz\",True,4+2j}"
      ],
      "metadata": {
        "id": "lrf_bCJeLFYi"
      },
      "execution_count": null,
      "outputs": []
    },
    {
      "cell_type": "code",
      "source": [
        "set(a)"
      ],
      "metadata": {
        "colab": {
          "base_uri": "https://localhost:8080/"
        },
        "id": "XsDAYwnzLOSG",
        "outputId": "84fa3928-68a3-4569-a7f5-a73a7fadd90a"
      },
      "execution_count": null,
      "outputs": [
        {
          "output_type": "execute_result",
          "data": {
            "text/plain": [
              "{(4+2j), 2, 3, 4, True, 'xyz'}"
            ]
          },
          "metadata": {},
          "execution_count": 29
        }
      ]
    },
    {
      "cell_type": "code",
      "source": [
        "x={1,1,2,3,4,2,4,5} # set drop duplicate\n",
        "set(x)"
      ],
      "metadata": {
        "colab": {
          "base_uri": "https://localhost:8080/"
        },
        "id": "bQtzpiVhLUBI",
        "outputId": "0fa3e1eb-342f-41ae-a09c-ad4b8726879a"
      },
      "execution_count": null,
      "outputs": [
        {
          "output_type": "execute_result",
          "data": {
            "text/plain": [
              "{1, 2, 3, 4, 5}"
            ]
          },
          "metadata": {},
          "execution_count": 31
        }
      ]
    },
    {
      "cell_type": "code",
      "source": [
        "z=set(x)\n",
        "print(z)"
      ],
      "metadata": {
        "colab": {
          "base_uri": "https://localhost:8080/"
        },
        "id": "RaFp1h3ILsRx",
        "outputId": "5f025ac1-9fa4-4aca-d275-bbd94b9f06f1"
      },
      "execution_count": null,
      "outputs": [
        {
          "output_type": "stream",
          "name": "stdout",
          "text": [
            "{1, 2, 3, 4, 5}\n"
          ]
        }
      ]
    },
    {
      "cell_type": "code",
      "source": [
        "a=list(z)\n",
        "print(a)"
      ],
      "metadata": {
        "colab": {
          "base_uri": "https://localhost:8080/"
        },
        "id": "ReuWuQaSMKk6",
        "outputId": "23e6107d-0608-4bde-9389-d458eb1cd31c"
      },
      "execution_count": null,
      "outputs": [
        {
          "output_type": "stream",
          "name": "stdout",
          "text": [
            "[1, 2, 3, 4, 5]\n"
          ]
        }
      ]
    },
    {
      "cell_type": "markdown",
      "source": [
        "#add - it add alphabetical order , it is type of sets"
      ],
      "metadata": {
        "id": "BNFmma5t-VZb"
      }
    },
    {
      "cell_type": "code",
      "source": [
        "a={\"apple\",\"banana\",\"guava\",\"orange\"}"
      ],
      "metadata": {
        "id": "m4U38Xl6N1vT"
      },
      "execution_count": null,
      "outputs": []
    },
    {
      "cell_type": "code",
      "source": [
        "a.add(\"papaya\")"
      ],
      "metadata": {
        "id": "LuaDILM6MKx2"
      },
      "execution_count": null,
      "outputs": []
    },
    {
      "cell_type": "code",
      "source": [
        "a"
      ],
      "metadata": {
        "colab": {
          "base_uri": "https://localhost:8080/"
        },
        "id": "A-ZSjnz9MR-u",
        "outputId": "783947a4-9309-4c1a-e680-dcc652b40cf2"
      },
      "execution_count": null,
      "outputs": [
        {
          "output_type": "execute_result",
          "data": {
            "text/plain": [
              "{'apple', 'banana', 'guava', 'orange', 'papaya'}"
            ]
          },
          "metadata": {},
          "execution_count": 3
        }
      ]
    },
    {
      "cell_type": "code",
      "source": [
        "a.add(\"cherry\")"
      ],
      "metadata": {
        "id": "zWRYTTRUMePq"
      },
      "execution_count": null,
      "outputs": []
    },
    {
      "cell_type": "code",
      "source": [
        "a"
      ],
      "metadata": {
        "colab": {
          "base_uri": "https://localhost:8080/"
        },
        "id": "FJgHKO2tMj-8",
        "outputId": "abaab2b5-1a48-4095-e1bc-40ce8159925f"
      },
      "execution_count": null,
      "outputs": [
        {
          "output_type": "execute_result",
          "data": {
            "text/plain": [
              "{'apple', 'banana', 'cherry', 'guava', 'orange', 'papaya'}"
            ]
          },
          "metadata": {},
          "execution_count": 5
        }
      ]
    },
    {
      "cell_type": "code",
      "source": [
        "b={1,2,3,4,6,7,8,9}\n",
        "b.add(5)\n",
        "b"
      ],
      "metadata": {
        "colab": {
          "base_uri": "https://localhost:8080/"
        },
        "id": "XCKGzLQ0MlJy",
        "outputId": "2d286f72-c826-4cd6-b20e-0e9380aa96f8"
      },
      "execution_count": null,
      "outputs": [
        {
          "output_type": "execute_result",
          "data": {
            "text/plain": [
              "{1, 2, 3, 4, 5, 6, 7, 8, 9}"
            ]
          },
          "metadata": {},
          "execution_count": 7
        }
      ]
    },
    {
      "cell_type": "markdown",
      "source": [
        "# remove element ko remove krta hai and if the element is not present it show error, it is type of remove"
      ],
      "metadata": {
        "id": "bMiQFkSB-cij"
      }
    },
    {
      "cell_type": "code",
      "source": [
        "b={1,2,3,4,5,6,7,8,9}"
      ],
      "metadata": {
        "id": "vDDd9JvENJZF"
      },
      "execution_count": null,
      "outputs": []
    },
    {
      "cell_type": "code",
      "source": [
        "b.remove(5)"
      ],
      "metadata": {
        "id": "ZRk7dXtZNP4-"
      },
      "execution_count": null,
      "outputs": []
    },
    {
      "cell_type": "code",
      "source": [
        "b"
      ],
      "metadata": {
        "colab": {
          "base_uri": "https://localhost:8080/"
        },
        "id": "sS75dIkhNTKW",
        "outputId": "bef4f326-eeed-43d2-d0ca-d68ac8d7b676"
      },
      "execution_count": null,
      "outputs": [
        {
          "output_type": "execute_result",
          "data": {
            "text/plain": [
              "{1, 2, 3, 4, 6, 7, 8, 9}"
            ]
          },
          "metadata": {},
          "execution_count": 11
        }
      ]
    },
    {
      "cell_type": "markdown",
      "source": [
        "#discard  it remove the element if the element is not present then also is doesn't show error"
      ],
      "metadata": {
        "id": "s0vqwDcS-i3d"
      }
    },
    {
      "cell_type": "code",
      "source": [
        "b={1,2,3,4,5,6,7,8,9}"
      ],
      "metadata": {
        "id": "R9UdKmBnNbDO"
      },
      "execution_count": null,
      "outputs": []
    },
    {
      "cell_type": "code",
      "source": [
        "b.discard(5)"
      ],
      "metadata": {
        "id": "OzFPaXuZNn-9"
      },
      "execution_count": null,
      "outputs": []
    },
    {
      "cell_type": "code",
      "source": [
        "b"
      ],
      "metadata": {
        "colab": {
          "base_uri": "https://localhost:8080/"
        },
        "id": "69xGmIguNrF8",
        "outputId": "9d34140e-7972-4ee5-b4d1-2323d478a786"
      },
      "execution_count": null,
      "outputs": [
        {
          "output_type": "execute_result",
          "data": {
            "text/plain": [
              "{1, 2, 3, 4, 6, 7, 8, 9}"
            ]
          },
          "metadata": {},
          "execution_count": 15
        }
      ]
    },
    {
      "cell_type": "markdown",
      "source": [
        "#pop it remove the element in random order or in number it remove the ascending order"
      ],
      "metadata": {
        "id": "0tHm1MnD-nHl"
      }
    },
    {
      "cell_type": "code",
      "source": [
        "b={1,2,3,4,5,6,7,8,9}"
      ],
      "metadata": {
        "id": "4LPEgMrVN83r"
      },
      "execution_count": null,
      "outputs": []
    },
    {
      "cell_type": "code",
      "source": [
        "b.pop()"
      ],
      "metadata": {
        "colab": {
          "base_uri": "https://localhost:8080/"
        },
        "id": "ciRfEaZuOAxt",
        "outputId": "6ef8580a-22a6-43e9-ac2b-9984f2eb1eb3"
      },
      "execution_count": null,
      "outputs": [
        {
          "output_type": "execute_result",
          "data": {
            "text/plain": [
              "1"
            ]
          },
          "metadata": {},
          "execution_count": 18
        }
      ]
    },
    {
      "cell_type": "markdown",
      "source": [
        "#clear it remove hole element in the sets"
      ],
      "metadata": {
        "id": "IG_kflM--54K"
      }
    },
    {
      "cell_type": "code",
      "source": [
        "b.clear()"
      ],
      "metadata": {
        "id": "2iQ6Sc2RPmCH"
      },
      "execution_count": null,
      "outputs": []
    },
    {
      "cell_type": "code",
      "source": [
        "b"
      ],
      "metadata": {
        "colab": {
          "base_uri": "https://localhost:8080/"
        },
        "id": "yGYSyzQePzpJ",
        "outputId": "edbabdb9-f822-4db4-eca0-f5f93f398bcf"
      },
      "execution_count": null,
      "outputs": [
        {
          "output_type": "execute_result",
          "data": {
            "text/plain": [
              "set()"
            ]
          },
          "metadata": {},
          "execution_count": 22
        }
      ]
    },
    {
      "cell_type": "markdown",
      "source": [
        "# copy # shallowcopy  in shallow copy if we change the nested list the other will be change because the memory is store in same so the id will be the same"
      ],
      "metadata": {
        "id": "hgwoZXy0_AU8"
      }
    },
    {
      "cell_type": "code",
      "source": [
        "a={1,2,3,4,(6,7,8),9,10}"
      ],
      "metadata": {
        "id": "LhKA0UzCQClR"
      },
      "execution_count": null,
      "outputs": []
    },
    {
      "cell_type": "code",
      "source": [
        "a"
      ],
      "metadata": {
        "colab": {
          "base_uri": "https://localhost:8080/"
        },
        "id": "ZJWS-wuFQHAe",
        "outputId": "ca5604cc-ad6c-4ba5-e527-94d97dc40a59"
      },
      "execution_count": null,
      "outputs": [
        {
          "output_type": "execute_result",
          "data": {
            "text/plain": [
              "{(6, 7, 8), 1, 10, 2, 3, 4, 9}"
            ]
          },
          "metadata": {},
          "execution_count": 29
        }
      ]
    },
    {
      "cell_type": "code",
      "source": [
        "b=a.copy()"
      ],
      "metadata": {
        "id": "P3EL9UPsQcSJ"
      },
      "execution_count": null,
      "outputs": []
    },
    {
      "cell_type": "code",
      "source": [
        "b"
      ],
      "metadata": {
        "colab": {
          "base_uri": "https://localhost:8080/"
        },
        "id": "EWlulcVPT9io",
        "outputId": "0c3746bd-7ae3-4c80-da47-4db101d90394"
      },
      "execution_count": null,
      "outputs": [
        {
          "output_type": "execute_result",
          "data": {
            "text/plain": [
              "{(6, 7, 8), 1, 10, 2, 3, 4, 9}"
            ]
          },
          "metadata": {},
          "execution_count": 31
        }
      ]
    },
    {
      "cell_type": "code",
      "source": [
        "print(id(a))\n",
        "print(id(b))"
      ],
      "metadata": {
        "colab": {
          "base_uri": "https://localhost:8080/"
        },
        "id": "qHnxBreNWzv4",
        "outputId": "e8d8050a-1db0-461e-8393-3578a3b643a6"
      },
      "execution_count": null,
      "outputs": [
        {
          "output_type": "stream",
          "name": "stdout",
          "text": [
            "139538873437696\n",
            "139539940411840\n"
          ]
        }
      ]
    },
    {
      "cell_type": "markdown",
      "source": [
        "# deepcopy  in deepcopy"
      ],
      "metadata": {
        "id": "_kDQCWj6_F1K"
      }
    },
    {
      "cell_type": "code",
      "source": [
        "import copy\n",
        "a=[1,2,3,4,5,[8,9],11]"
      ],
      "metadata": {
        "id": "7A4mDkMrUaJH"
      },
      "execution_count": null,
      "outputs": []
    },
    {
      "cell_type": "code",
      "source": [
        "b=copy.deepcopy(a)"
      ],
      "metadata": {
        "id": "cf-OKhw-Uht7"
      },
      "execution_count": null,
      "outputs": []
    },
    {
      "cell_type": "code",
      "source": [
        "b"
      ],
      "metadata": {
        "colab": {
          "base_uri": "https://localhost:8080/"
        },
        "id": "_dbttAmYUk_2",
        "outputId": "56a7e6ac-02bb-4288-cbeb-c352ad7db7ec"
      },
      "execution_count": null,
      "outputs": [
        {
          "output_type": "execute_result",
          "data": {
            "text/plain": [
              "[1, 2, 3, 4, 5, [8, 9], 11]"
            ]
          },
          "metadata": {},
          "execution_count": 39
        }
      ]
    },
    {
      "cell_type": "code",
      "source": [
        "print(id(a[5]))\n",
        "print(id(b[5]))"
      ],
      "metadata": {
        "colab": {
          "base_uri": "https://localhost:8080/"
        },
        "id": "cXfWu95_Vk-w",
        "outputId": "515bffdf-06f7-41d3-c97c-9fc6c9068160"
      },
      "execution_count": null,
      "outputs": [
        {
          "output_type": "stream",
          "name": "stdout",
          "text": [
            "139538873292096\n",
            "139538873357888\n"
          ]
        }
      ]
    },
    {
      "cell_type": "markdown",
      "source": [
        "# differernce between shallowcopy and deercopy :\n",
        "# in shallowcopy the nestedlist can be change the element because the memoery id is same\n",
        "# / in deepcopy the nestedlist will not be change because the memory id is different"
      ],
      "metadata": {
        "id": "dzu7n2uL_MGH"
      }
    },
    {
      "cell_type": "code",
      "source": [
        "x=[1,2,3,4,(5,6),7]"
      ],
      "metadata": {
        "id": "fkJO18hYaxAc"
      },
      "execution_count": null,
      "outputs": []
    },
    {
      "cell_type": "markdown",
      "source": [
        "# union  it combine two different elements and it will drop two elements same"
      ],
      "metadata": {
        "id": "8mx_qceT_UyS"
      }
    },
    {
      "cell_type": "code",
      "source": [
        "# union  it combine two different elements and it will drop two elements same"
      ],
      "metadata": {
        "id": "j6rs7bv6bYoV"
      },
      "execution_count": null,
      "outputs": []
    },
    {
      "cell_type": "code",
      "source": [
        "x=y.copy()"
      ],
      "metadata": {
        "colab": {
          "base_uri": "https://localhost:8080/",
          "height": 141
        },
        "id": "yLZHPFQMa1QH",
        "outputId": "ecff9f47-3325-4d79-eef5-2105141e5f7e"
      },
      "execution_count": null,
      "outputs": [
        {
          "output_type": "error",
          "ename": "NameError",
          "evalue": "name 'y' is not defined",
          "traceback": [
            "\u001b[0;31m---------------------------------------------------------------------------\u001b[0m",
            "\u001b[0;31mNameError\u001b[0m                                 Traceback (most recent call last)",
            "\u001b[0;32m<ipython-input-57-9af6065c3dc0>\u001b[0m in \u001b[0;36m<cell line: 1>\u001b[0;34m()\u001b[0m\n\u001b[0;32m----> 1\u001b[0;31m \u001b[0mx\u001b[0m\u001b[0;34m=\u001b[0m\u001b[0my\u001b[0m\u001b[0;34m.\u001b[0m\u001b[0mcopy\u001b[0m\u001b[0;34m(\u001b[0m\u001b[0;34m)\u001b[0m\u001b[0;34m\u001b[0m\u001b[0;34m\u001b[0m\u001b[0m\n\u001b[0m",
            "\u001b[0;31mNameError\u001b[0m: name 'y' is not defined"
          ]
        }
      ]
    },
    {
      "cell_type": "code",
      "source": [
        "y"
      ],
      "metadata": {
        "colab": {
          "base_uri": "https://localhost:8080/",
          "height": 141
        },
        "id": "93jhvwGSz3_6",
        "outputId": "0a4877a0-13d7-46a1-c988-b865514a99c8"
      },
      "execution_count": null,
      "outputs": [
        {
          "output_type": "error",
          "ename": "NameError",
          "evalue": "name 'y' is not defined",
          "traceback": [
            "\u001b[0;31m---------------------------------------------------------------------------\u001b[0m",
            "\u001b[0;31mNameError\u001b[0m                                 Traceback (most recent call last)",
            "\u001b[0;32m<ipython-input-1-9063a9f0e032>\u001b[0m in \u001b[0;36m<cell line: 1>\u001b[0;34m()\u001b[0m\n\u001b[0;32m----> 1\u001b[0;31m \u001b[0my\u001b[0m\u001b[0;34m\u001b[0m\u001b[0;34m\u001b[0m\u001b[0m\n\u001b[0m",
            "\u001b[0;31mNameError\u001b[0m: name 'y' is not defined"
          ]
        }
      ]
    },
    {
      "cell_type": "code",
      "source": [
        "a={1,2,3}"
      ],
      "metadata": {
        "id": "xJgTYHYPcSVz"
      },
      "execution_count": null,
      "outputs": []
    },
    {
      "cell_type": "code",
      "source": [
        "b={4,5,6}"
      ],
      "metadata": {
        "id": "lhrt85-CcXl4"
      },
      "execution_count": null,
      "outputs": []
    },
    {
      "cell_type": "code",
      "source": [
        "a.union(b)"
      ],
      "metadata": {
        "colab": {
          "base_uri": "https://localhost:8080/"
        },
        "id": "S9XGRY9Gckj7",
        "outputId": "bce5cd9b-5ac5-4927-e72f-5eddeb3438e6"
      },
      "execution_count": null,
      "outputs": [
        {
          "output_type": "execute_result",
          "data": {
            "text/plain": [
              "{1, 2, 3, 4, 5, 6}"
            ]
          },
          "metadata": {},
          "execution_count": 62
        }
      ]
    },
    {
      "cell_type": "markdown",
      "source": [
        "# intersection it find the common in the elements"
      ],
      "metadata": {
        "id": "Th06Y0Up_ZLM"
      }
    },
    {
      "cell_type": "code",
      "source": [
        "a={1,2,3,4,5}"
      ],
      "metadata": {
        "id": "MarVmQFEc6gs"
      },
      "execution_count": null,
      "outputs": []
    },
    {
      "cell_type": "code",
      "source": [
        "b={1,2,3,4,5}"
      ],
      "metadata": {
        "id": "H9qlj3fXc-85"
      },
      "execution_count": null,
      "outputs": []
    },
    {
      "cell_type": "code",
      "source": [
        "a.intersection(b)"
      ],
      "metadata": {
        "colab": {
          "base_uri": "https://localhost:8080/"
        },
        "id": "G5acr8hZdPxg",
        "outputId": "bb606f97-bd2d-4b33-be9e-307a989e89ea"
      },
      "execution_count": null,
      "outputs": [
        {
          "output_type": "execute_result",
          "data": {
            "text/plain": [
              "{1, 2, 3, 4, 5}"
            ]
          },
          "metadata": {},
          "execution_count": 68
        }
      ]
    },
    {
      "cell_type": "markdown",
      "source": [
        "#difference"
      ],
      "metadata": {
        "id": "U_KKt-fh_c02"
      }
    },
    {
      "cell_type": "code",
      "source": [
        "a"
      ],
      "metadata": {
        "colab": {
          "base_uri": "https://localhost:8080/"
        },
        "id": "as-hPNwtdWha",
        "outputId": "f42e7550-2940-4656-98b6-9ebd525bf4f5"
      },
      "execution_count": null,
      "outputs": [
        {
          "output_type": "execute_result",
          "data": {
            "text/plain": [
              "{1, 2, 3, 4, 5}"
            ]
          },
          "metadata": {},
          "execution_count": 71
        }
      ]
    },
    {
      "cell_type": "code",
      "source": [
        "b"
      ],
      "metadata": {
        "colab": {
          "base_uri": "https://localhost:8080/"
        },
        "id": "e341YTP0dZNC",
        "outputId": "0fd058be-bffb-48b4-fe0b-b22b0e2ee856"
      },
      "execution_count": null,
      "outputs": [
        {
          "output_type": "execute_result",
          "data": {
            "text/plain": [
              "{1, 2, 3, 4, 5}"
            ]
          },
          "metadata": {},
          "execution_count": 72
        }
      ]
    },
    {
      "cell_type": "code",
      "source": [
        "a.difference(b)"
      ],
      "metadata": {
        "colab": {
          "base_uri": "https://localhost:8080/"
        },
        "id": "NUbDuHBidlht",
        "outputId": "8cded6e7-ef5f-4edf-bb5f-6e81e29bf9ba"
      },
      "execution_count": null,
      "outputs": [
        {
          "output_type": "execute_result",
          "data": {
            "text/plain": [
              "set()"
            ]
          },
          "metadata": {},
          "execution_count": 75
        }
      ]
    },
    {
      "cell_type": "markdown",
      "source": [
        "# dictionaries"
      ],
      "metadata": {
        "id": "WzexEiob_gvX"
      }
    },
    {
      "cell_type": "code",
      "source": [
        "a={\"name\":\"anand\",\n",
        "   \"id\":23,\n",
        "   'city':'pune'}"
      ],
      "metadata": {
        "id": "yM_jZFobd5LL"
      },
      "execution_count": null,
      "outputs": []
    },
    {
      "cell_type": "code",
      "source": [
        "type(a)"
      ],
      "metadata": {
        "colab": {
          "base_uri": "https://localhost:8080/"
        },
        "id": "0WJH_uwieuNl",
        "outputId": "08589ad4-4b82-40f4-ce38-6ad3544debb9"
      },
      "execution_count": null,
      "outputs": [
        {
          "output_type": "execute_result",
          "data": {
            "text/plain": [
              "dict"
            ]
          },
          "metadata": {},
          "execution_count": 81
        }
      ]
    },
    {
      "cell_type": "code",
      "source": [
        "a={\"name\":\"anand\",\n",
        "   \"age\":24,\n",
        "   \"city\":\"pune\",\n",
        "   \"course\":\"pythonfullstack\",\n",
        "   \"mobile.no\":9767546362,\n",
        "   \"CGPA\":7.73,\n",
        "   \"bool\":True}"
      ],
      "metadata": {
        "id": "oBUJlD0HeyFb"
      },
      "execution_count": null,
      "outputs": []
    },
    {
      "cell_type": "code",
      "source": [
        "type(a)"
      ],
      "metadata": {
        "colab": {
          "base_uri": "https://localhost:8080/"
        },
        "id": "0_xC3SRWgeMM",
        "outputId": "947cbfa6-b7c4-4e33-b3a7-43931cc2e5df"
      },
      "execution_count": null,
      "outputs": [
        {
          "output_type": "execute_result",
          "data": {
            "text/plain": [
              "dict"
            ]
          },
          "metadata": {},
          "execution_count": 84
        }
      ]
    },
    {
      "cell_type": "code",
      "source": [
        "a"
      ],
      "metadata": {
        "colab": {
          "base_uri": "https://localhost:8080/"
        },
        "id": "VszWHdpvgjpA",
        "outputId": "2db0b3a8-c4e0-4ad6-c719-c14735dbd81f"
      },
      "execution_count": null,
      "outputs": [
        {
          "output_type": "execute_result",
          "data": {
            "text/plain": [
              "{'name': 'anand',\n",
              " 'age': 24,\n",
              " 'city': 'pune',\n",
              " 'course': 'pythonfullstack',\n",
              " 'mobile.no': 9767546362,\n",
              " 'CGPA': 7.73,\n",
              " 'bool': True}"
            ]
          },
          "metadata": {},
          "execution_count": 87
        }
      ]
    },
    {
      "cell_type": "code",
      "source": [
        "a={\"name\":\"a\",\n",
        "   \"age\":24,\n",
        "   \"course\":\"PFS\"}"
      ],
      "metadata": {
        "id": "5ibV2lKcgowY"
      },
      "execution_count": null,
      "outputs": []
    },
    {
      "cell_type": "code",
      "source": [
        "type(a)"
      ],
      "metadata": {
        "colab": {
          "base_uri": "https://localhost:8080/"
        },
        "id": "PjWHd5_r_8uq",
        "outputId": "bff20e21-465a-4553-bf01-02e8eab2b5ec"
      },
      "execution_count": null,
      "outputs": [
        {
          "output_type": "execute_result",
          "data": {
            "text/plain": [
              "dict"
            ]
          },
          "metadata": {},
          "execution_count": 6
        }
      ]
    },
    {
      "cell_type": "code",
      "source": [
        "a.clear()   # dict clear is to clear hole things"
      ],
      "metadata": {
        "id": "7Z50hRebAAX_"
      },
      "execution_count": null,
      "outputs": []
    },
    {
      "cell_type": "code",
      "source": [
        "origninal_dict ={ \"emp01\": {\"name\": \"anand\",\n",
        "                  \"age\":24,\n",
        "                  \"profession\":\"student\"},\n",
        "                 \"emp02\": {\"name\":\"ravi\",\n",
        "                   \"age\":42,\n",
        "                   \"profession\":\"teacher\"}\n",
        "                  }"
      ],
      "metadata": {
        "id": "9SbSusH9AGMe"
      },
      "execution_count": null,
      "outputs": []
    },
    {
      "cell_type": "code",
      "source": [
        "c=origninal_dict.copy()  # dict copy is to copy hole elments"
      ],
      "metadata": {
        "id": "BgM7Q8C0BL1S"
      },
      "execution_count": null,
      "outputs": []
    },
    {
      "cell_type": "code",
      "source": [
        "c"
      ],
      "metadata": {
        "colab": {
          "base_uri": "https://localhost:8080/"
        },
        "id": "M9SZcWEBCIkG",
        "outputId": "eec7007b-e90c-47e6-9473-89eff5f15b89"
      },
      "execution_count": null,
      "outputs": [
        {
          "output_type": "execute_result",
          "data": {
            "text/plain": [
              "{'emp01': {'name': 'anand', 'age': 24, 'profession': 'student'},\n",
              " 'emp02': {'name': 'ravi', 'age': 42, 'profession': 'teacher'}}"
            ]
          },
          "metadata": {},
          "execution_count": 14
        }
      ]
    },
    {
      "cell_type": "code",
      "source": [
        "a={\"emp_id\":1,\n",
        "   \"emp_name\":\"anand\",\n",
        "   \"emp_salary\":\"42Lpa\",\n",
        "   \"emp_add\":\"pune\"}"
      ],
      "metadata": {
        "id": "_5l0QU7XDLxF"
      },
      "execution_count": null,
      "outputs": []
    },
    {
      "cell_type": "code",
      "source": [
        "a"
      ],
      "metadata": {
        "colab": {
          "base_uri": "https://localhost:8080/"
        },
        "id": "VoodW2-TDqsf",
        "outputId": "cfbebaf1-362f-4b3e-8227-cd9435fe57c5"
      },
      "execution_count": null,
      "outputs": [
        {
          "output_type": "execute_result",
          "data": {
            "text/plain": [
              "{'emp_id': 1, 'emp_name': 'anand', 'emp_salary': '42Lpa', 'emp_add': 'pune'}"
            ]
          },
          "metadata": {},
          "execution_count": 24
        }
      ]
    },
    {
      "cell_type": "code",
      "source": [
        "a.keys() # keys methods to get the keys only"
      ],
      "metadata": {
        "colab": {
          "base_uri": "https://localhost:8080/"
        },
        "id": "Y9w-UMqyDsPv",
        "outputId": "8c5c8f4d-cf3d-4bd3-f696-3da9c0f8eb2b"
      },
      "execution_count": null,
      "outputs": [
        {
          "output_type": "execute_result",
          "data": {
            "text/plain": [
              "dict_keys(['emp_id', 'emp_name', 'emp_salary', 'emp_add'])"
            ]
          },
          "metadata": {},
          "execution_count": 25
        }
      ]
    },
    {
      "cell_type": "code",
      "source": [
        "a.values() # value methods to get the values inside the elments"
      ],
      "metadata": {
        "colab": {
          "base_uri": "https://localhost:8080/"
        },
        "id": "yyDayubPDxVA",
        "outputId": "eede5227-11dd-4865-b322-fef6add2e1c8"
      },
      "execution_count": null,
      "outputs": [
        {
          "output_type": "execute_result",
          "data": {
            "text/plain": [
              "dict_values([1, 'anand', '42Lpa', 'pune'])"
            ]
          },
          "metadata": {},
          "execution_count": 26
        }
      ]
    },
    {
      "cell_type": "code",
      "source": [
        "# dict items   it converts into tuple and combine all the elements"
      ],
      "metadata": {
        "id": "zsImaKGzDzm_"
      },
      "execution_count": null,
      "outputs": []
    },
    {
      "cell_type": "code",
      "source": [
        "a.items()"
      ],
      "metadata": {
        "colab": {
          "base_uri": "https://localhost:8080/"
        },
        "id": "iYYIpDXrEHel",
        "outputId": "46a87f72-ee0d-4cc4-9f8b-06f312fad323"
      },
      "execution_count": null,
      "outputs": [
        {
          "output_type": "execute_result",
          "data": {
            "text/plain": [
              "dict_items([('emp_id', 1), ('emp_name', 'anand'), ('emp_salary', '42Lpa'), ('emp_add', 'pune')])"
            ]
          },
          "metadata": {},
          "execution_count": 32
        }
      ]
    },
    {
      "cell_type": "code",
      "source": [
        "for i in a:\n",
        "  print(i)"
      ],
      "metadata": {
        "colab": {
          "base_uri": "https://localhost:8080/"
        },
        "id": "iwXbweEIEJ6_",
        "outputId": "02f26d21-01a8-4bb4-c609-86f69cff4c03"
      },
      "execution_count": null,
      "outputs": [
        {
          "output_type": "stream",
          "name": "stdout",
          "text": [
            "emp_id\n",
            "emp_name\n",
            "emp_salary\n",
            "emp_add\n"
          ]
        }
      ]
    },
    {
      "cell_type": "code",
      "source": [
        "a"
      ],
      "metadata": {
        "colab": {
          "base_uri": "https://localhost:8080/"
        },
        "id": "l17CoKV-ElyX",
        "outputId": "cb108172-1a00-45c3-bb9b-cbec7c3a01a0"
      },
      "execution_count": null,
      "outputs": [
        {
          "output_type": "execute_result",
          "data": {
            "text/plain": [
              "{'emp_id': 1, 'emp_name': 'anand', 'emp_salary': '42Lpa', 'emp_add': 'pune'}"
            ]
          },
          "metadata": {},
          "execution_count": 35
        }
      ]
    },
    {
      "cell_type": "code",
      "source": [
        "a.get(\"emp_id\")  # get is to take the elements only"
      ],
      "metadata": {
        "colab": {
          "base_uri": "https://localhost:8080/"
        },
        "id": "dbF_EzAEE909",
        "outputId": "c3057482-bacf-4886-fa04-51fbb7d58a2e"
      },
      "execution_count": null,
      "outputs": [
        {
          "output_type": "execute_result",
          "data": {
            "text/plain": [
              "1"
            ]
          },
          "metadata": {},
          "execution_count": 36
        }
      ]
    },
    {
      "cell_type": "code",
      "source": [
        "a.pop(\"emp_id\")  # pop is to delete the one element"
      ],
      "metadata": {
        "colab": {
          "base_uri": "https://localhost:8080/"
        },
        "id": "n-0_LUkMFD6d",
        "outputId": "ce03ae5a-f134-4228-db09-7e9706e6f38d"
      },
      "execution_count": null,
      "outputs": [
        {
          "output_type": "execute_result",
          "data": {
            "text/plain": [
              "1"
            ]
          },
          "metadata": {},
          "execution_count": 37
        }
      ]
    },
    {
      "cell_type": "code",
      "source": [
        "a"
      ],
      "metadata": {
        "colab": {
          "base_uri": "https://localhost:8080/"
        },
        "id": "ZWHuJ0feFYhX",
        "outputId": "abc00625-ffb8-4107-b9d1-c1b82a16d157"
      },
      "execution_count": null,
      "outputs": [
        {
          "output_type": "execute_result",
          "data": {
            "text/plain": [
              "{'emp_name': 'anand', 'emp_salary': '42Lpa', 'emp_add': 'pune'}"
            ]
          },
          "metadata": {},
          "execution_count": 38
        }
      ]
    },
    {
      "cell_type": "code",
      "source": [
        "a.popitem() # popitem is delete the last element in the element"
      ],
      "metadata": {
        "colab": {
          "base_uri": "https://localhost:8080/"
        },
        "id": "4jxJ5IuNFbzb",
        "outputId": "9a1403d6-eee3-40fa-d1bb-2ee06a0e74bd"
      },
      "execution_count": null,
      "outputs": [
        {
          "output_type": "execute_result",
          "data": {
            "text/plain": [
              "('emp_salary', '42Lpa')"
            ]
          },
          "metadata": {},
          "execution_count": 41
        }
      ]
    },
    {
      "cell_type": "code",
      "source": [
        "a"
      ],
      "metadata": {
        "colab": {
          "base_uri": "https://localhost:8080/"
        },
        "id": "p-Q692SuFolV",
        "outputId": "d201ccaa-ad84-44b0-d378-3a0116ee1e87"
      },
      "execution_count": null,
      "outputs": [
        {
          "output_type": "execute_result",
          "data": {
            "text/plain": [
              "{'emp_name': 'anand', 'emp_salary': '42Lpa'}"
            ]
          },
          "metadata": {},
          "execution_count": 40
        }
      ]
    },
    {
      "cell_type": "code",
      "source": [
        "a.update({\"emp_weight\":90})  # update is to upload or add krta the element in the element"
      ],
      "metadata": {
        "id": "XMaGjdd_FrtG"
      },
      "execution_count": null,
      "outputs": []
    },
    {
      "cell_type": "code",
      "source": [
        "a"
      ],
      "metadata": {
        "colab": {
          "base_uri": "https://localhost:8080/"
        },
        "id": "G3YSJ113GTiA",
        "outputId": "2d9d6e37-88b3-4263-c7eb-277dc666fdde"
      },
      "execution_count": null,
      "outputs": [
        {
          "output_type": "execute_result",
          "data": {
            "text/plain": [
              "{'emp_name': 'anand', 'emp_weight': 90}"
            ]
          },
          "metadata": {},
          "execution_count": 44
        }
      ]
    },
    {
      "cell_type": "code",
      "source": [
        "a.update({\"emp_id\":2})"
      ],
      "metadata": {
        "id": "Kv-hk1HkGbMc"
      },
      "execution_count": null,
      "outputs": []
    },
    {
      "cell_type": "code",
      "source": [
        "a"
      ],
      "metadata": {
        "colab": {
          "base_uri": "https://localhost:8080/"
        },
        "id": "7r1v8KuMGy9R",
        "outputId": "fe075a05-c780-495e-bdca-d790fda6db9f"
      },
      "execution_count": null,
      "outputs": [
        {
          "output_type": "execute_result",
          "data": {
            "text/plain": [
              "{'emp_name': 'anand', 'emp_weight': 90, 'emp_id': 2}"
            ]
          },
          "metadata": {},
          "execution_count": 46
        }
      ]
    },
    {
      "cell_type": "code",
      "source": [
        "c"
      ],
      "metadata": {
        "colab": {
          "base_uri": "https://localhost:8080/"
        },
        "id": "aDH_rAjUG0Ky",
        "outputId": "dbb45ae3-b08e-4777-a914-8ecf7ca3e042"
      },
      "execution_count": null,
      "outputs": [
        {
          "output_type": "execute_result",
          "data": {
            "text/plain": [
              "{'emp01': {'name': 'anand', 'age': 24, 'profession': 'student'},\n",
              " 'emp02': {'name': 'ravi', 'age': 42, 'profession': 'teacher'}}"
            ]
          },
          "metadata": {},
          "execution_count": 47
        }
      ]
    },
    {
      "cell_type": "code",
      "source": [
        "print(c[\"emp01\"][\"name\"])   # it is nested"
      ],
      "metadata": {
        "colab": {
          "base_uri": "https://localhost:8080/"
        },
        "id": "tYxx7LZXHPSW",
        "outputId": "9673ff73-5de0-48d1-958c-824c85e1e4a5"
      },
      "execution_count": null,
      "outputs": [
        {
          "output_type": "stream",
          "name": "stdout",
          "text": [
            "anand\n"
          ]
        }
      ]
    },
    {
      "cell_type": "code",
      "source": [
        "#Q1.fint the list in string,float,int.\n",
        "a=[1,2,3,4,7.8,9.1,9.7,\"x\",\"u\",\"z\"]"
      ],
      "metadata": {
        "id": "dtCKNzAKHcmw",
        "colab": {
          "base_uri": "https://localhost:8080/",
          "height": 106
        },
        "outputId": "f3d4c98c-1b9a-4212-dc2b-f072b0688287"
      },
      "execution_count": null,
      "outputs": [
        {
          "output_type": "error",
          "ename": "SyntaxError",
          "evalue": "invalid syntax (<ipython-input-1-832fa6c2f7ba>, line 1)",
          "traceback": [
            "\u001b[0;36m  File \u001b[0;32m\"<ipython-input-1-832fa6c2f7ba>\"\u001b[0;36m, line \u001b[0;32m1\u001b[0m\n\u001b[0;31m    in string,float,int.\u001b[0m\n\u001b[0m    ^\u001b[0m\n\u001b[0;31mSyntaxError\u001b[0m\u001b[0;31m:\u001b[0m invalid syntax\n"
          ]
        }
      ]
    },
    {
      "cell_type": "code",
      "source": [
        "string_list=[]\n",
        "int_list=[]\n",
        "float_list=[]\n",
        "for i in a:\n",
        "  if type(i)==int:\n",
        "    int_list.append(i)\n",
        "  elif type(i)==str:\n",
        "    string_list.append(i)\n",
        "  else:\n",
        "    float_list.append(i)\n",
        "print(int_list)\n",
        "print(string_list)\n",
        "print(float_list)"
      ],
      "metadata": {
        "id": "4hdL4fIW_JWC"
      },
      "execution_count": null,
      "outputs": []
    },
    {
      "cell_type": "code",
      "source": [
        "#Q2.count even and odd\n",
        "st=[1,2,3,4,5,7,8,9,17,15,22]\n",
        "evens=0\n",
        "odds=0\n",
        "\n",
        "for i in lst:\n",
        "    if i%2==0:\n",
        "        evens+=1\n",
        "    else:\n",
        "        odds+=1\n",
        "\n",
        "print(evens,odds,sep=\"\\n\")"
      ],
      "metadata": {
        "id": "8AFKiO3HA4gL",
        "colab": {
          "base_uri": "https://localhost:8080/"
        },
        "outputId": "8b4f9d9f-e1f4-4b32-9cd5-aab120d655ce"
      },
      "execution_count": null,
      "outputs": [
        {
          "output_type": "stream",
          "name": "stdout",
          "text": [
            "4\n",
            "7\n"
          ]
        }
      ]
    },
    {
      "cell_type": "code",
      "source": [
        "#Q3.find the common elements in the list x and y and create a new list z with common elements\n",
        "x=[1,2,3,4,5,6,7,9]\n",
        "y=[2,4,6,7,8,9]\n",
        "z=[]\n",
        "for i in x:\n",
        "  for j in y:"
      ],
      "metadata": {
        "colab": {
          "base_uri": "https://localhost:8080/",
          "height": 106
        },
        "id": "_jOuCgIXCVtv",
        "outputId": "00bc230d-d65c-4054-a706-5e96c15e0832"
      },
      "execution_count": null,
      "outputs": [
        {
          "output_type": "error",
          "ename": "SyntaxError",
          "evalue": "incomplete input (<ipython-input-34-39963e445fc4>, line 6)",
          "traceback": [
            "\u001b[0;36m  File \u001b[0;32m\"<ipython-input-34-39963e445fc4>\"\u001b[0;36m, line \u001b[0;32m6\u001b[0m\n\u001b[0;31m    for j in y:\u001b[0m\n\u001b[0m               ^\u001b[0m\n\u001b[0;31mSyntaxError\u001b[0m\u001b[0;31m:\u001b[0m incomplete input\n"
          ]
        }
      ]
    },
    {
      "cell_type": "code",
      "source": [
        "#Q4.tuple index of maximum elements.\n",
        "s=(1,56,23,45,67,89,12,1,20,47,2)\n",
        "max_num=max(s)\n",
        "max_num_index=s.index(max_num)\n",
        "max_num_index"
      ],
      "metadata": {
        "colab": {
          "base_uri": "https://localhost:8080/"
        },
        "id": "blhGO8a-FV75",
        "outputId": "6f483124-ed99-4a69-b38c-5c6925bf3245"
      },
      "execution_count": null,
      "outputs": [
        {
          "output_type": "execute_result",
          "data": {
            "text/plain": [
              "5"
            ]
          },
          "metadata": {},
          "execution_count": 33
        }
      ]
    },
    {
      "cell_type": "code",
      "source": [
        "4#Q5.\n",
        "j=[1,2,3,4,5,6,7,8,9,10]\n",
        "num=int(input(\"enter any number\"))\n",
        "if num in j:\n",
        "  pass\n",
        "else:\n",
        "  j.append(num)\n",
        "print(j)\n"
      ],
      "metadata": {
        "id": "32FS6uRSFeJJ",
        "colab": {
          "base_uri": "https://localhost:8080/"
        },
        "outputId": "e798aea8-22ae-4e9c-f31c-d851fb5f4f77"
      },
      "execution_count": null,
      "outputs": [
        {
          "output_type": "stream",
          "name": "stdout",
          "text": [
            "enter any number8\n",
            "[1, 2, 3, 4, 5, 6, 7, 8, 9, 10]\n"
          ]
        }
      ]
    },
    {
      "cell_type": "code",
      "source": [
        "#Q6.convert the list of tuple to dictionary\n",
        "student_score=[(\"alice\",85),(\"bob\",90),(\"charlie\",78),(\"david\",92)]\n",
        "dict1=dict(student_score)\n",
        "dict1"
      ],
      "metadata": {
        "id": "xWB29K1LGdzL",
        "colab": {
          "base_uri": "https://localhost:8080/"
        },
        "outputId": "9c7d1b4b-4316-4965-b566-ea2f173bea4c"
      },
      "execution_count": null,
      "outputs": [
        {
          "output_type": "execute_result",
          "data": {
            "text/plain": [
              "{'alice': 85, 'bob': 90, 'charlie': 78, 'david': 92}"
            ]
          },
          "metadata": {},
          "execution_count": 32
        }
      ]
    },
    {
      "cell_type": "code",
      "source": [
        "j=[1,2,3,4,5,8,9,10]\n",
        "num=int(input())\n",
        "for i in j:\n",
        "  if i==num:\n",
        "\n",
        "    break\n",
        "  else:\n",
        "    j.append(num)\n",
        "    break\n",
        "\n",
        "print(j)"
      ],
      "metadata": {
        "colab": {
          "base_uri": "https://localhost:8080/"
        },
        "id": "Hg5SMQwAKtl6",
        "outputId": "bec1190f-34fb-45ea-e86e-31e066013707"
      },
      "execution_count": null,
      "outputs": [
        {
          "output_type": "stream",
          "name": "stdout",
          "text": [
            "4\n",
            "[1, 2, 3, 4, 5, 8, 9, 10, 4]\n"
          ]
        }
      ]
    },
    {
      "cell_type": "markdown",
      "source": [
        "# string methods"
      ],
      "metadata": {
        "id": "hvFqWv2x_5aP"
      }
    },
    {
      "cell_type": "markdown",
      "source": [
        "# string capitalize"
      ],
      "metadata": {
        "id": "gNmb3elD_7oE"
      }
    },
    {
      "cell_type": "code",
      "source": [
        "x=\"hello my name is anand\""
      ],
      "metadata": {
        "id": "f4ljBEawTDHE"
      },
      "execution_count": null,
      "outputs": []
    },
    {
      "cell_type": "code",
      "source": [
        "x.capitalize()"
      ],
      "metadata": {
        "colab": {
          "base_uri": "https://localhost:8080/",
          "height": 36
        },
        "id": "d_xRJC8xTI1C",
        "outputId": "d29e8ae9-8c90-4c88-b4a3-db26721bb89f"
      },
      "execution_count": null,
      "outputs": [
        {
          "output_type": "execute_result",
          "data": {
            "text/plain": [
              "'Hello my name is anand'"
            ],
            "application/vnd.google.colaboratory.intrinsic+json": {
              "type": "string"
            }
          },
          "metadata": {},
          "execution_count": 3
        }
      ]
    },
    {
      "cell_type": "markdown",
      "source": [
        "# upper"
      ],
      "metadata": {
        "id": "odyRkQPe__lr"
      }
    },
    {
      "cell_type": "code",
      "source": [
        "x.upper()"
      ],
      "metadata": {
        "colab": {
          "base_uri": "https://localhost:8080/",
          "height": 36
        },
        "id": "sTLRL_KHTX-H",
        "outputId": "024ff010-5bd0-480c-beaa-d50e7f987bc0"
      },
      "execution_count": null,
      "outputs": [
        {
          "output_type": "execute_result",
          "data": {
            "text/plain": [
              "'HELLO MY NAME IS ANAND'"
            ],
            "application/vnd.google.colaboratory.intrinsic+json": {
              "type": "string"
            }
          },
          "metadata": {},
          "execution_count": 5
        }
      ]
    },
    {
      "cell_type": "markdown",
      "source": [
        "#lower   it convert hole element"
      ],
      "metadata": {
        "id": "V2u-TtdHACNg"
      }
    },
    {
      "cell_type": "code",
      "source": [
        "x.lower()"
      ],
      "metadata": {
        "colab": {
          "base_uri": "https://localhost:8080/",
          "height": 36
        },
        "id": "_ofSHhLOTdMs",
        "outputId": "a466e2fa-b759-49a9-823b-31d030987ea2"
      },
      "execution_count": null,
      "outputs": [
        {
          "output_type": "execute_result",
          "data": {
            "text/plain": [
              "'hello my name is anand'"
            ],
            "application/vnd.google.colaboratory.intrinsic+json": {
              "type": "string"
            }
          },
          "metadata": {},
          "execution_count": 7
        }
      ]
    },
    {
      "cell_type": "markdown",
      "source": [
        "# title  ==it convert every first letter capital"
      ],
      "metadata": {
        "id": "elLdKXjzAEpZ"
      }
    },
    {
      "cell_type": "code",
      "source": [
        "x.title()"
      ],
      "metadata": {
        "colab": {
          "base_uri": "https://localhost:8080/",
          "height": 36
        },
        "id": "NQ22seVqTnbd",
        "outputId": "25a3c5c5-f10b-4163-f4b9-c88e42afeb38"
      },
      "execution_count": null,
      "outputs": [
        {
          "output_type": "execute_result",
          "data": {
            "text/plain": [
              "'Hello My Name Is Anand'"
            ],
            "application/vnd.google.colaboratory.intrinsic+json": {
              "type": "string"
            }
          },
          "metadata": {},
          "execution_count": 9
        }
      ]
    },
    {
      "cell_type": "markdown",
      "source": [
        "# strip   == it remove the space"
      ],
      "metadata": {
        "id": "GRFiD9R_AR8q"
      }
    },
    {
      "cell_type": "code",
      "source": [
        "x.strip()"
      ],
      "metadata": {
        "colab": {
          "base_uri": "https://localhost:8080/",
          "height": 36
        },
        "id": "S4R-816QT77L",
        "outputId": "7fefa7c4-dcb3-469a-d5ed-6bfdccf28ea5"
      },
      "execution_count": null,
      "outputs": [
        {
          "output_type": "execute_result",
          "data": {
            "text/plain": [
              "'hello my name is anand'"
            ],
            "application/vnd.google.colaboratory.intrinsic+json": {
              "type": "string"
            }
          },
          "metadata": {},
          "execution_count": 11
        }
      ]
    },
    {
      "cell_type": "code",
      "source": [
        "x.lstrip()    # lstrip is left space"
      ],
      "metadata": {
        "colab": {
          "base_uri": "https://localhost:8080/",
          "height": 36
        },
        "id": "zuA7r5fZT9w9",
        "outputId": "e76b41d1-c157-424f-8c77-99f1e3eee154"
      },
      "execution_count": null,
      "outputs": [
        {
          "output_type": "execute_result",
          "data": {
            "text/plain": [
              "'hello my name is anand'"
            ],
            "application/vnd.google.colaboratory.intrinsic+json": {
              "type": "string"
            }
          },
          "metadata": {},
          "execution_count": 13
        }
      ]
    },
    {
      "cell_type": "code",
      "source": [
        "x.rstrip()    # rstip is right space element"
      ],
      "metadata": {
        "colab": {
          "base_uri": "https://localhost:8080/",
          "height": 36
        },
        "id": "bzcVqjh3UIyP",
        "outputId": "44f7c4bd-e3d0-4700-dfab-7d130c02a6c4"
      },
      "execution_count": null,
      "outputs": [
        {
          "output_type": "execute_result",
          "data": {
            "text/plain": [
              "'hello my name is anand'"
            ],
            "application/vnd.google.colaboratory.intrinsic+json": {
              "type": "string"
            }
          },
          "metadata": {},
          "execution_count": 14
        }
      ]
    },
    {
      "cell_type": "markdown",
      "source": [
        "# replace == we can replace the element"
      ],
      "metadata": {
        "id": "_3Xih3lEAZi_"
      }
    },
    {
      "cell_type": "code",
      "source": [
        "x"
      ],
      "metadata": {
        "colab": {
          "base_uri": "https://localhost:8080/",
          "height": 36
        },
        "id": "8NKftd1VUXnl",
        "outputId": "877d4087-b546-4fa7-c25c-23ce887eb2f4"
      },
      "execution_count": null,
      "outputs": [
        {
          "output_type": "execute_result",
          "data": {
            "text/plain": [
              "'hello my name is anand'"
            ],
            "application/vnd.google.colaboratory.intrinsic+json": {
              "type": "string"
            }
          },
          "metadata": {},
          "execution_count": 16
        }
      ]
    },
    {
      "cell_type": "code",
      "source": [
        "x.replace(\"anand\",\"jaiswal\")"
      ],
      "metadata": {
        "colab": {
          "base_uri": "https://localhost:8080/",
          "height": 36
        },
        "id": "BMlkzEURUYsM",
        "outputId": "f210c910-6ccb-4a80-fc80-72fbb3977199"
      },
      "execution_count": null,
      "outputs": [
        {
          "output_type": "execute_result",
          "data": {
            "text/plain": [
              "'hello my name is jaiswal'"
            ],
            "application/vnd.google.colaboratory.intrinsic+json": {
              "type": "string"
            }
          },
          "metadata": {},
          "execution_count": 17
        }
      ]
    },
    {
      "cell_type": "markdown",
      "source": [
        "#split  ==  it change every element in new element"
      ],
      "metadata": {
        "id": "mSlRuco5AeDA"
      }
    },
    {
      "cell_type": "code",
      "source": [
        "x.split()"
      ],
      "metadata": {
        "colab": {
          "base_uri": "https://localhost:8080/"
        },
        "id": "PBbINF3tUvLp",
        "outputId": "e85db813-e491-4f58-eb8a-d0673dc5e978"
      },
      "execution_count": null,
      "outputs": [
        {
          "output_type": "execute_result",
          "data": {
            "text/plain": [
              "['hello', 'my', 'name', 'is', 'anand']"
            ]
          },
          "metadata": {},
          "execution_count": 19
        }
      ]
    },
    {
      "cell_type": "code",
      "source": [
        "x.split(sep=\"a\")    # sep is to remove the letter in the element"
      ],
      "metadata": {
        "colab": {
          "base_uri": "https://localhost:8080/"
        },
        "id": "OwgAZDPJUyZZ",
        "outputId": "8bad65b5-8fcd-4975-d612-a381c75cf971"
      },
      "execution_count": null,
      "outputs": [
        {
          "output_type": "execute_result",
          "data": {
            "text/plain": [
              "['hello my n', 'me is ', 'n', 'nd']"
            ]
          },
          "metadata": {},
          "execution_count": 20
        }
      ]
    },
    {
      "cell_type": "code",
      "source": [
        "y=x.split()"
      ],
      "metadata": {
        "id": "8qQJf6nyVoL_"
      },
      "execution_count": null,
      "outputs": []
    },
    {
      "cell_type": "code",
      "source": [
        "y"
      ],
      "metadata": {
        "colab": {
          "base_uri": "https://localhost:8080/"
        },
        "id": "gJy9WIZgWsss",
        "outputId": "0699580d-bb25-4889-b3f1-dc18b86973af"
      },
      "execution_count": null,
      "outputs": [
        {
          "output_type": "execute_result",
          "data": {
            "text/plain": [
              "['hello', 'my', 'name', 'is', 'anand']"
            ]
          },
          "metadata": {},
          "execution_count": 22
        }
      ]
    },
    {
      "cell_type": "code",
      "source": [
        "\"  \".join(y)  # join sab element ko join kr deta hai"
      ],
      "metadata": {
        "colab": {
          "base_uri": "https://localhost:8080/",
          "height": 36
        },
        "id": "VBEB7cquWtoy",
        "outputId": "ef8c0c67-9ab0-4ebd-a63a-514946ed4b6a"
      },
      "execution_count": null,
      "outputs": [
        {
          "output_type": "execute_result",
          "data": {
            "text/plain": [
              "'hello  my  name  is  anand'"
            ],
            "application/vnd.google.colaboratory.intrinsic+json": {
              "type": "string"
            }
          },
          "metadata": {},
          "execution_count": 27
        }
      ]
    },
    {
      "cell_type": "code",
      "source": [
        "x.count(\"a\")   # count means it count the string how many it comes"
      ],
      "metadata": {
        "colab": {
          "base_uri": "https://localhost:8080/"
        },
        "id": "3RwQenc6W5qa",
        "outputId": "78e81cdd-acb8-453c-9216-003e2bbe5007"
      },
      "execution_count": null,
      "outputs": [
        {
          "output_type": "execute_result",
          "data": {
            "text/plain": [
              "3"
            ]
          },
          "metadata": {},
          "execution_count": 29
        }
      ]
    },
    {
      "cell_type": "code",
      "source": [
        "y=\"123456789\""
      ],
      "metadata": {
        "id": "AmM8-AdDXycN"
      },
      "execution_count": null,
      "outputs": []
    },
    {
      "cell_type": "code",
      "source": [
        "y.isdigit()  # digit check the element is a number or not if it is then it gives true if not it gives false"
      ],
      "metadata": {
        "colab": {
          "base_uri": "https://localhost:8080/"
        },
        "id": "cXQDT7GFYDkS",
        "outputId": "f6255a4d-087f-47e6-9636-3b76db14bf06"
      },
      "execution_count": null,
      "outputs": [
        {
          "output_type": "execute_result",
          "data": {
            "text/plain": [
              "True"
            ]
          },
          "metadata": {},
          "execution_count": 31
        }
      ]
    },
    {
      "cell_type": "code",
      "source": [
        "x.isalpha()  # alpha check the element is a alphebetical or not"
      ],
      "metadata": {
        "colab": {
          "base_uri": "https://localhost:8080/"
        },
        "id": "a9IpKJXDYGhT",
        "outputId": "54e35ff7-aa79-4f89-d91a-e60edf425269"
      },
      "execution_count": null,
      "outputs": [
        {
          "output_type": "execute_result",
          "data": {
            "text/plain": [
              "False"
            ]
          },
          "metadata": {},
          "execution_count": 32
        }
      ]
    },
    {
      "cell_type": "code",
      "source": [
        "f=\"myname\""
      ],
      "metadata": {
        "id": "q46PckbpYaWt"
      },
      "execution_count": null,
      "outputs": []
    },
    {
      "cell_type": "code",
      "source": [
        "f.isalpha()"
      ],
      "metadata": {
        "colab": {
          "base_uri": "https://localhost:8080/"
        },
        "id": "oPzPjOV8YeWe",
        "outputId": "5f231760-8118-41cd-b024-f44f86b665a9"
      },
      "execution_count": null,
      "outputs": [
        {
          "output_type": "execute_result",
          "data": {
            "text/plain": [
              "True"
            ]
          },
          "metadata": {},
          "execution_count": 34
        }
      ]
    },
    {
      "cell_type": "code",
      "source": [
        "z=\"1234hello\""
      ],
      "metadata": {
        "id": "9zA-DiV6YgyA"
      },
      "execution_count": null,
      "outputs": []
    },
    {
      "cell_type": "code",
      "source": [
        "z.isalnum()   # alnum it check both number and alphebate or not"
      ],
      "metadata": {
        "colab": {
          "base_uri": "https://localhost:8080/"
        },
        "id": "Tn4EqUzaYsC4",
        "outputId": "088988e0-4ebc-4a8d-de93-caf8e82ecfbf"
      },
      "execution_count": null,
      "outputs": [
        {
          "output_type": "execute_result",
          "data": {
            "text/plain": [
              "True"
            ]
          },
          "metadata": {},
          "execution_count": 37
        }
      ]
    },
    {
      "cell_type": "markdown",
      "source": [
        "# enumerate"
      ],
      "metadata": {
        "id": "eQcZchMTAt6m"
      }
    },
    {
      "cell_type": "code",
      "source": [
        "for i, j in enumerate(x):\n",
        "  print(i,j)"
      ],
      "metadata": {
        "colab": {
          "base_uri": "https://localhost:8080/"
        },
        "id": "kbO_aqD5ZHsp",
        "outputId": "9e947da7-4492-4b40-a3d9-a6e074d17615"
      },
      "execution_count": null,
      "outputs": [
        {
          "output_type": "stream",
          "name": "stdout",
          "text": [
            "0 h\n",
            "1 e\n",
            "2 l\n",
            "3 l\n",
            "4 o\n",
            "5  \n",
            "6 m\n",
            "7 y\n",
            "8  \n",
            "9 n\n",
            "10 a\n",
            "11 m\n",
            "12 e\n",
            "13  \n",
            "14 i\n",
            "15 s\n",
            "16  \n",
            "17 a\n",
            "18 n\n",
            "19 a\n",
            "20 n\n",
            "21 d\n"
          ]
        }
      ]
    },
    {
      "cell_type": "code",
      "source": [
        "x"
      ],
      "metadata": {
        "colab": {
          "base_uri": "https://localhost:8080/",
          "height": 36
        },
        "id": "2h7FMe98Zi1Y",
        "outputId": "5c618809-c7a0-4f9b-8333-76136cb85ded"
      },
      "execution_count": null,
      "outputs": [
        {
          "output_type": "execute_result",
          "data": {
            "text/plain": [
              "'hello my name is anand'"
            ],
            "application/vnd.google.colaboratory.intrinsic+json": {
              "type": "string"
            }
          },
          "metadata": {},
          "execution_count": 40
        }
      ]
    },
    {
      "cell_type": "code",
      "source": [
        "for i,j in enumerate(x):\n",
        "  print(i,j)"
      ],
      "metadata": {
        "colab": {
          "base_uri": "https://localhost:8080/"
        },
        "id": "zoWztG8mZ1Gg",
        "outputId": "e9b2eec9-4520-4123-af3a-71eef9311ea2"
      },
      "execution_count": null,
      "outputs": [
        {
          "output_type": "stream",
          "name": "stdout",
          "text": [
            "0 h\n",
            "1 e\n",
            "2 l\n",
            "3 l\n",
            "4 o\n",
            "5  \n",
            "6 m\n",
            "7 y\n",
            "8  \n",
            "9 n\n",
            "10 a\n",
            "11 m\n",
            "12 e\n",
            "13  \n",
            "14 i\n",
            "15 s\n",
            "16  \n",
            "17 a\n",
            "18 n\n",
            "19 a\n",
            "20 n\n",
            "21 d\n"
          ]
        }
      ]
    },
    {
      "cell_type": "code",
      "source": [
        "for i in range(len(x)):\n",
        "  print(i,x[i])"
      ],
      "metadata": {
        "colab": {
          "base_uri": "https://localhost:8080/"
        },
        "id": "tZ1KNCDYaAB9",
        "outputId": "5a409586-c667-478f-ad1f-5198deea3ea6"
      },
      "execution_count": null,
      "outputs": [
        {
          "output_type": "stream",
          "name": "stdout",
          "text": [
            "0 h\n",
            "1 e\n",
            "2 l\n",
            "3 l\n",
            "4 o\n",
            "5  \n",
            "6 m\n",
            "7 y\n",
            "8  \n",
            "9 n\n",
            "10 a\n",
            "11 m\n",
            "12 e\n",
            "13  \n",
            "14 i\n",
            "15 s\n",
            "16  \n",
            "17 a\n",
            "18 n\n",
            "19 a\n",
            "20 n\n",
            "21 d\n"
          ]
        }
      ]
    },
    {
      "cell_type": "markdown",
      "source": [
        "# zip  means two strings join in tuple form in list"
      ],
      "metadata": {
        "id": "5jywcX2hA0uX"
      }
    },
    {
      "cell_type": "code",
      "source": [
        "x"
      ],
      "metadata": {
        "colab": {
          "base_uri": "https://localhost:8080/",
          "height": 36
        },
        "id": "adtDt-4xdJB7",
        "outputId": "617fa9c7-95a0-4e86-aec6-14fcda4959e5"
      },
      "execution_count": null,
      "outputs": [
        {
          "output_type": "execute_result",
          "data": {
            "text/plain": [
              "'hello my name is anand'"
            ],
            "application/vnd.google.colaboratory.intrinsic+json": {
              "type": "string"
            }
          },
          "metadata": {},
          "execution_count": 44
        }
      ]
    },
    {
      "cell_type": "code",
      "source": [
        "y=\"wlocome to my class\""
      ],
      "metadata": {
        "id": "-vVGOC_Bdj2R"
      },
      "execution_count": null,
      "outputs": []
    },
    {
      "cell_type": "code",
      "source": [
        "y"
      ],
      "metadata": {
        "colab": {
          "base_uri": "https://localhost:8080/",
          "height": 36
        },
        "id": "zexidCpLdp1K",
        "outputId": "2605534f-25a2-4456-feaf-1dcf9e25bec3"
      },
      "execution_count": null,
      "outputs": [
        {
          "output_type": "execute_result",
          "data": {
            "text/plain": [
              "'wlocome to my class'"
            ],
            "application/vnd.google.colaboratory.intrinsic+json": {
              "type": "string"
            }
          },
          "metadata": {},
          "execution_count": 46
        }
      ]
    },
    {
      "cell_type": "code",
      "source": [
        "for i in zip(x,y):\n",
        "  print(x,y)"
      ],
      "metadata": {
        "colab": {
          "base_uri": "https://localhost:8080/"
        },
        "id": "5dx2LULedqUu",
        "outputId": "46d91969-5b86-493a-848f-e9402150d901"
      },
      "execution_count": null,
      "outputs": [
        {
          "output_type": "stream",
          "name": "stdout",
          "text": [
            "hello my name is anand wlocome to my class\n",
            "hello my name is anand wlocome to my class\n",
            "hello my name is anand wlocome to my class\n",
            "hello my name is anand wlocome to my class\n",
            "hello my name is anand wlocome to my class\n",
            "hello my name is anand wlocome to my class\n",
            "hello my name is anand wlocome to my class\n",
            "hello my name is anand wlocome to my class\n",
            "hello my name is anand wlocome to my class\n",
            "hello my name is anand wlocome to my class\n",
            "hello my name is anand wlocome to my class\n",
            "hello my name is anand wlocome to my class\n",
            "hello my name is anand wlocome to my class\n",
            "hello my name is anand wlocome to my class\n",
            "hello my name is anand wlocome to my class\n",
            "hello my name is anand wlocome to my class\n",
            "hello my name is anand wlocome to my class\n",
            "hello my name is anand wlocome to my class\n",
            "hello my name is anand wlocome to my class\n"
          ]
        }
      ]
    },
    {
      "cell_type": "code",
      "source": [
        "list(zip(x,y))"
      ],
      "metadata": {
        "colab": {
          "base_uri": "https://localhost:8080/"
        },
        "id": "Xg3cWHNqd_Bt",
        "outputId": "3b53dabc-2663-4efd-8710-9e08afadd36c"
      },
      "execution_count": null,
      "outputs": [
        {
          "output_type": "execute_result",
          "data": {
            "text/plain": [
              "[('h', 'w'),\n",
              " ('e', 'l'),\n",
              " ('l', 'o'),\n",
              " ('l', 'c'),\n",
              " ('o', 'o'),\n",
              " (' ', 'm'),\n",
              " ('m', 'e'),\n",
              " ('y', ' '),\n",
              " (' ', 't'),\n",
              " ('n', 'o'),\n",
              " ('a', ' '),\n",
              " ('m', 'm'),\n",
              " ('e', 'y'),\n",
              " (' ', ' '),\n",
              " ('i', 'c'),\n",
              " ('s', 'l'),\n",
              " (' ', 'a'),\n",
              " ('a', 's'),\n",
              " ('n', 's')]"
            ]
          },
          "metadata": {},
          "execution_count": 49
        }
      ]
    },
    {
      "cell_type": "code",
      "source": [
        "x"
      ],
      "metadata": {
        "colab": {
          "base_uri": "https://localhost:8080/",
          "height": 36
        },
        "id": "gSLPBEGIeywN",
        "outputId": "8818de0b-1db5-4c52-cb18-2036d8e348e1"
      },
      "execution_count": null,
      "outputs": [
        {
          "output_type": "execute_result",
          "data": {
            "text/plain": [
              "'hello my name is anand'"
            ],
            "application/vnd.google.colaboratory.intrinsic+json": {
              "type": "string"
            }
          },
          "metadata": {},
          "execution_count": 50
        }
      ]
    },
    {
      "cell_type": "code",
      "source": [
        "y"
      ],
      "metadata": {
        "colab": {
          "base_uri": "https://localhost:8080/",
          "height": 36
        },
        "id": "gi_8pHJIf_BW",
        "outputId": "1e38aa5f-29eb-4790-f3a1-1c6ce6207a0a"
      },
      "execution_count": null,
      "outputs": [
        {
          "output_type": "execute_result",
          "data": {
            "text/plain": [
              "'wlocome to my class'"
            ],
            "application/vnd.google.colaboratory.intrinsic+json": {
              "type": "string"
            }
          },
          "metadata": {},
          "execution_count": 51
        }
      ]
    },
    {
      "cell_type": "code",
      "source": [
        "dict(zip(x,y))"
      ],
      "metadata": {
        "colab": {
          "base_uri": "https://localhost:8080/"
        },
        "id": "J4pdGS9df_pY",
        "outputId": "07ddb3f1-6bfb-4afe-acd3-ef1561aed98c"
      },
      "execution_count": null,
      "outputs": [
        {
          "output_type": "execute_result",
          "data": {
            "text/plain": [
              "{'h': 'w',\n",
              " 'e': 'y',\n",
              " 'l': 'c',\n",
              " 'o': 'o',\n",
              " ' ': 'a',\n",
              " 'm': 'm',\n",
              " 'y': ' ',\n",
              " 'n': 's',\n",
              " 'a': 's',\n",
              " 'i': 'c',\n",
              " 's': 'l'}"
            ]
          },
          "metadata": {},
          "execution_count": 52
        }
      ]
    },
    {
      "cell_type": "markdown",
      "source": [
        "# formatting"
      ],
      "metadata": {
        "id": "2qW-CydnA5V0"
      }
    },
    {
      "cell_type": "code",
      "source": [
        "a=23\n",
        "b=45"
      ],
      "metadata": {
        "id": "5doVeOnpgERa"
      },
      "execution_count": null,
      "outputs": []
    },
    {
      "cell_type": "code",
      "source": [
        "print(f\"my marks is {a+b}\")"
      ],
      "metadata": {
        "colab": {
          "base_uri": "https://localhost:8080/"
        },
        "id": "vqJWCjMLg-wC",
        "outputId": "3152b8f3-397e-4012-e5ab-d5bb27fa0f70"
      },
      "execution_count": null,
      "outputs": [
        {
          "output_type": "stream",
          "name": "stdout",
          "text": [
            "my marks is 68\n"
          ]
        }
      ]
    },
    {
      "cell_type": "code",
      "source": [
        "num=34\n",
        "print(f\"you have enter a {num} that is correct number\")"
      ],
      "metadata": {
        "colab": {
          "base_uri": "https://localhost:8080/"
        },
        "id": "vA2HL1lthDlm",
        "outputId": "8592ac3e-8027-42aa-98af-5b4e63932b78"
      },
      "execution_count": null,
      "outputs": [
        {
          "output_type": "stream",
          "name": "stdout",
          "text": [
            "you have enter a 34 that is correct number\n"
          ]
        }
      ]
    },
    {
      "cell_type": "markdown",
      "source": [
        "# functions"
      ],
      "metadata": {
        "id": "miUVsuOCBGCF"
      }
    },
    {
      "cell_type": "markdown",
      "source": [
        "# print()     -- multiple comma"
      ],
      "metadata": {
        "id": "G0pGV0TdBJyK"
      }
    },
    {
      "cell_type": "code",
      "source": [
        "print(1,2,3,4,5,9.6,)\n",
        "print(\"hello\")"
      ],
      "metadata": {
        "colab": {
          "base_uri": "https://localhost:8080/"
        },
        "id": "Wr4rFu-1rFyU",
        "outputId": "bd1ee51a-dc65-42a7-bef5-4646b97e5afd"
      },
      "execution_count": null,
      "outputs": [
        {
          "output_type": "stream",
          "name": "stdout",
          "text": [
            "1 2 3 4 5 9.6\n",
            "hello\n"
          ]
        }
      ]
    },
    {
      "cell_type": "markdown",
      "source": [
        "# sorted   -- element ko asec me convert krta pr list me"
      ],
      "metadata": {
        "id": "l5btnZPPBNLG"
      }
    },
    {
      "cell_type": "code",
      "source": [
        "a=(265,1,2,3,6,7,99,56)"
      ],
      "metadata": {
        "id": "6uskHOWKr124"
      },
      "execution_count": null,
      "outputs": []
    },
    {
      "cell_type": "code",
      "source": [
        "sorted(a)"
      ],
      "metadata": {
        "colab": {
          "base_uri": "https://localhost:8080/"
        },
        "id": "8mJ587lir7KA",
        "outputId": "5cddf85e-fa22-4626-ac27-fd3af509f415"
      },
      "execution_count": null,
      "outputs": [
        {
          "output_type": "execute_result",
          "data": {
            "text/plain": [
              "[1, 2, 3, 6, 7, 56, 99, 265]"
            ]
          },
          "metadata": {},
          "execution_count": 7
        }
      ]
    },
    {
      "cell_type": "code",
      "source": [
        "sorted(a,reverse=True)    # reverse method for sorted"
      ],
      "metadata": {
        "colab": {
          "base_uri": "https://localhost:8080/"
        },
        "id": "PORWOZDvr-Rt",
        "outputId": "d0898cf5-1066-4ddd-d2c9-ff5bbe788be3"
      },
      "execution_count": null,
      "outputs": [
        {
          "output_type": "execute_result",
          "data": {
            "text/plain": [
              "[265, 99, 56, 7, 6, 3, 2, 1]"
            ]
          },
          "metadata": {},
          "execution_count": 8
        }
      ]
    },
    {
      "cell_type": "code",
      "source": [
        "# type   --- it show all data type"
      ],
      "metadata": {
        "id": "XyBjTPKgsU-1"
      },
      "execution_count": null,
      "outputs": []
    },
    {
      "cell_type": "code",
      "source": [
        "type(a)"
      ],
      "metadata": {
        "colab": {
          "base_uri": "https://localhost:8080/"
        },
        "id": "fcalZGJWsdAm",
        "outputId": "1ff5f63b-08e1-4ebd-abef-051c18bf16c9"
      },
      "execution_count": null,
      "outputs": [
        {
          "output_type": "execute_result",
          "data": {
            "text/plain": [
              "tuple"
            ]
          },
          "metadata": {},
          "execution_count": 10
        }
      ]
    },
    {
      "cell_type": "code",
      "source": [
        "#range"
      ],
      "metadata": {
        "id": "AhgxUBbOsw1F"
      },
      "execution_count": null,
      "outputs": []
    },
    {
      "cell_type": "code",
      "source": [
        "list(range(1,11,2))"
      ],
      "metadata": {
        "colab": {
          "base_uri": "https://localhost:8080/"
        },
        "id": "av1QUulfs1V3",
        "outputId": "38dc9801-4d34-4e57-b7c0-d98ce70fac1e"
      },
      "execution_count": null,
      "outputs": [
        {
          "output_type": "execute_result",
          "data": {
            "text/plain": [
              "[1, 3, 5, 7, 9]"
            ]
          },
          "metadata": {},
          "execution_count": 13
        }
      ]
    },
    {
      "cell_type": "code",
      "source": [
        "tuple(range(1,11,2))"
      ],
      "metadata": {
        "colab": {
          "base_uri": "https://localhost:8080/"
        },
        "id": "FvISXbJGtD58",
        "outputId": "db329f99-73ae-418b-f24e-a01743dc6030"
      },
      "execution_count": null,
      "outputs": [
        {
          "output_type": "execute_result",
          "data": {
            "text/plain": [
              "(1, 3, 5, 7, 9)"
            ]
          },
          "metadata": {},
          "execution_count": 14
        }
      ]
    },
    {
      "cell_type": "markdown",
      "source": [
        "#input   --- user input lene ke liye and by deafault it convert into strings"
      ],
      "metadata": {
        "id": "mcFtB21QBUmD"
      }
    },
    {
      "cell_type": "code",
      "source": [
        "int(input())"
      ],
      "metadata": {
        "colab": {
          "base_uri": "https://localhost:8080/"
        },
        "id": "Zz_pbiRutPEp",
        "outputId": "5d412a64-0ca4-48f2-e1f4-95b50c4f0721"
      },
      "execution_count": null,
      "outputs": [
        {
          "name": "stdout",
          "output_type": "stream",
          "text": [
            "5\n"
          ]
        },
        {
          "output_type": "execute_result",
          "data": {
            "text/plain": [
              "5"
            ]
          },
          "metadata": {},
          "execution_count": 18
        }
      ]
    },
    {
      "cell_type": "code",
      "source": [
        "x=int(input(\"enter the first number\"))\n",
        "y=int(input(\"enter the second number\"))\n",
        "z=x\n",
        "x=y\n",
        "y=z"
      ],
      "metadata": {
        "colab": {
          "base_uri": "https://localhost:8080/"
        },
        "id": "HTXWlPo6to4N",
        "outputId": "1117008d-d7ad-4f23-f321-8b405060f40c"
      },
      "execution_count": null,
      "outputs": [
        {
          "name": "stdout",
          "output_type": "stream",
          "text": [
            "enter the first number2\n",
            "enter the second number3\n"
          ]
        }
      ]
    },
    {
      "cell_type": "code",
      "source": [
        "x"
      ],
      "metadata": {
        "colab": {
          "base_uri": "https://localhost:8080/"
        },
        "id": "M3or7QzBt549",
        "outputId": "f7cd5c2d-64a1-4333-805e-7e8496e8543b"
      },
      "execution_count": null,
      "outputs": [
        {
          "output_type": "execute_result",
          "data": {
            "text/plain": [
              "3"
            ]
          },
          "metadata": {},
          "execution_count": 21
        }
      ]
    },
    {
      "cell_type": "code",
      "source": [
        "y"
      ],
      "metadata": {
        "colab": {
          "base_uri": "https://localhost:8080/"
        },
        "id": "oLTwMpGEudKI",
        "outputId": "7fec8bd1-75d9-4bd5-f457-279bfc451a93"
      },
      "execution_count": null,
      "outputs": [
        {
          "output_type": "execute_result",
          "data": {
            "text/plain": [
              "2"
            ]
          },
          "metadata": {},
          "execution_count": 22
        }
      ]
    },
    {
      "cell_type": "code",
      "source": [
        "z"
      ],
      "metadata": {
        "colab": {
          "base_uri": "https://localhost:8080/"
        },
        "id": "6eDyLv1FudqS",
        "outputId": "d450a119-ae67-44ce-9048-2e76c2f827e8"
      },
      "execution_count": null,
      "outputs": [
        {
          "output_type": "execute_result",
          "data": {
            "text/plain": [
              "2"
            ]
          },
          "metadata": {},
          "execution_count": 23
        }
      ]
    },
    {
      "cell_type": "code",
      "source": [
        "x,y=y,x"
      ],
      "metadata": {
        "id": "tDWgUIoougAE"
      },
      "execution_count": null,
      "outputs": []
    },
    {
      "cell_type": "code",
      "source": [
        "x"
      ],
      "metadata": {
        "colab": {
          "base_uri": "https://localhost:8080/"
        },
        "id": "bx2oOVf5u3r3",
        "outputId": "404e6b9d-bb28-4c59-9d42-3141edaf4c5c"
      },
      "execution_count": null,
      "outputs": [
        {
          "output_type": "execute_result",
          "data": {
            "text/plain": [
              "2"
            ]
          },
          "metadata": {},
          "execution_count": 28
        }
      ]
    },
    {
      "cell_type": "code",
      "source": [
        "y"
      ],
      "metadata": {
        "colab": {
          "base_uri": "https://localhost:8080/"
        },
        "id": "z8tTJW1ku-eA",
        "outputId": "cf0be817-140b-44b6-83be-4f3d937d3d54"
      },
      "execution_count": null,
      "outputs": [
        {
          "output_type": "execute_result",
          "data": {
            "text/plain": [
              "3"
            ]
          },
          "metadata": {},
          "execution_count": 29
        }
      ]
    },
    {
      "cell_type": "code",
      "source": [
        "min(a)\n"
      ],
      "metadata": {
        "colab": {
          "base_uri": "https://localhost:8080/"
        },
        "id": "Lg7P85Orvqxj",
        "outputId": "832d40e2-42a2-4868-db63-3153c3a18980"
      },
      "execution_count": null,
      "outputs": [
        {
          "output_type": "execute_result",
          "data": {
            "text/plain": [
              "1"
            ]
          },
          "metadata": {},
          "execution_count": 40
        }
      ]
    },
    {
      "cell_type": "code",
      "source": [
        "max(a)"
      ],
      "metadata": {
        "colab": {
          "base_uri": "https://localhost:8080/"
        },
        "id": "bOsZS9tHwBr1",
        "outputId": "0de5e997-b9a6-4515-e91a-a66b788fde20"
      },
      "execution_count": null,
      "outputs": [
        {
          "output_type": "execute_result",
          "data": {
            "text/plain": [
              "265"
            ]
          },
          "metadata": {},
          "execution_count": 39
        }
      ]
    },
    {
      "cell_type": "code",
      "source": [
        "sum(a)"
      ],
      "metadata": {
        "colab": {
          "base_uri": "https://localhost:8080/"
        },
        "id": "s1XamXfKwa_d",
        "outputId": "aeda5552-4ba5-4134-8587-1c58e1245d2d"
      },
      "execution_count": null,
      "outputs": [
        {
          "output_type": "execute_result",
          "data": {
            "text/plain": [
              "439"
            ]
          },
          "metadata": {},
          "execution_count": 38
        }
      ]
    },
    {
      "cell_type": "code",
      "source": [
        "id(a)"
      ],
      "metadata": {
        "colab": {
          "base_uri": "https://localhost:8080/"
        },
        "id": "RbAktdtSwdxm",
        "outputId": "637c41f2-1278-4f9c-f1f4-d2b20c1e0f96"
      },
      "execution_count": null,
      "outputs": [
        {
          "output_type": "execute_result",
          "data": {
            "text/plain": [
              "134136482358192"
            ]
          },
          "metadata": {},
          "execution_count": 37
        }
      ]
    },
    {
      "cell_type": "code",
      "source": [
        "len(a)"
      ],
      "metadata": {
        "colab": {
          "base_uri": "https://localhost:8080/"
        },
        "id": "4vCfoRStwgGD",
        "outputId": "40aa2bb6-f2ff-406a-8081-a8f46122dae2"
      },
      "execution_count": null,
      "outputs": [
        {
          "output_type": "execute_result",
          "data": {
            "text/plain": [
              "8"
            ]
          },
          "metadata": {},
          "execution_count": 41
        }
      ]
    },
    {
      "cell_type": "markdown",
      "source": [
        "\n",
        "# type casting    -- it convert all type into other data type or data structure"
      ],
      "metadata": {
        "id": "L5YZXxrIBdkd"
      }
    },
    {
      "cell_type": "code",
      "source": [
        "tuple(a)"
      ],
      "metadata": {
        "colab": {
          "base_uri": "https://localhost:8080/"
        },
        "id": "bQLfq3MnxJNw",
        "outputId": "72db7077-f104-43b3-c9f1-64670a67be91"
      },
      "execution_count": null,
      "outputs": [
        {
          "output_type": "execute_result",
          "data": {
            "text/plain": [
              "(265, 1, 2, 3, 6, 7, 99, 56)"
            ]
          },
          "metadata": {},
          "execution_count": 43
        }
      ]
    },
    {
      "cell_type": "code",
      "source": [
        "x"
      ],
      "metadata": {
        "colab": {
          "base_uri": "https://localhost:8080/"
        },
        "id": "q6jQHv0hxNKs",
        "outputId": "da4aa1c6-4180-44bb-9ab0-05809c4b459d"
      },
      "execution_count": null,
      "outputs": [
        {
          "output_type": "execute_result",
          "data": {
            "text/plain": [
              "3"
            ]
          },
          "metadata": {},
          "execution_count": 44
        }
      ]
    },
    {
      "cell_type": "code",
      "source": [
        "float(x)"
      ],
      "metadata": {
        "colab": {
          "base_uri": "https://localhost:8080/"
        },
        "id": "0a__PFFnxPD2",
        "outputId": "d004a616-5dc9-44a7-a69b-8dfc40021860"
      },
      "execution_count": null,
      "outputs": [
        {
          "output_type": "execute_result",
          "data": {
            "text/plain": [
              "3.0"
            ]
          },
          "metadata": {},
          "execution_count": 46
        }
      ]
    },
    {
      "cell_type": "code",
      "source": [
        "list()\n",
        "tuple()\n",
        "set()\n",
        "dict()"
      ],
      "metadata": {
        "colab": {
          "base_uri": "https://localhost:8080/"
        },
        "id": "mPJJgnX6xRs6",
        "outputId": "93d267ac-ba49-41cf-d852-aef99b02f170"
      },
      "execution_count": null,
      "outputs": [
        {
          "output_type": "execute_result",
          "data": {
            "text/plain": [
              "{}"
            ]
          },
          "metadata": {},
          "execution_count": 48
        }
      ]
    },
    {
      "cell_type": "markdown",
      "source": [
        "# user defined function  --- we can reuse the function"
      ],
      "metadata": {
        "id": "HpcIwVRgBlld"
      }
    },
    {
      "cell_type": "code",
      "source": [
        "def addition(a,b):    # def is to define the function\n",
        "  c=a+b\n",
        "  return c"
      ],
      "metadata": {
        "id": "1V0-XOL_yFyf"
      },
      "execution_count": null,
      "outputs": []
    },
    {
      "cell_type": "code",
      "source": [
        "addition(5,3)"
      ],
      "metadata": {
        "colab": {
          "base_uri": "https://localhost:8080/"
        },
        "id": "OBEFkyMDyf46",
        "outputId": "4e69c79e-b084-4d41-f338-77fea396e9b3"
      },
      "execution_count": null,
      "outputs": [
        {
          "output_type": "execute_result",
          "data": {
            "text/plain": [
              "8"
            ]
          },
          "metadata": {},
          "execution_count": 54
        }
      ]
    },
    {
      "cell_type": "code",
      "source": [
        "def is_even(n):\n",
        "  if n%2==0:\n",
        "    return \"even\"\n",
        "  else:\n",
        "    return \"odd\""
      ],
      "metadata": {
        "id": "acrU8ujiytdw"
      },
      "execution_count": null,
      "outputs": []
    },
    {
      "cell_type": "code",
      "source": [
        "is_even(5)"
      ],
      "metadata": {
        "colab": {
          "base_uri": "https://localhost:8080/",
          "height": 36
        },
        "id": "-XyGZlB10vFx",
        "outputId": "c57eaa49-248d-49db-e8b4-cbb17f882f65"
      },
      "execution_count": null,
      "outputs": [
        {
          "output_type": "execute_result",
          "data": {
            "text/plain": [
              "'odd'"
            ],
            "application/vnd.google.colaboratory.intrinsic+json": {
              "type": "string"
            }
          },
          "metadata": {},
          "execution_count": 107
        }
      ]
    },
    {
      "cell_type": "code",
      "source": [
        "def checker1(n):\n",
        "  2"
      ],
      "metadata": {
        "id": "vZIys9rv-tp_"
      },
      "execution_count": null,
      "outputs": []
    },
    {
      "cell_type": "code",
      "source": [
        "x=list(range(1,11))"
      ],
      "metadata": {
        "id": "lTiydlmS13Sn"
      },
      "execution_count": null,
      "outputs": []
    },
    {
      "cell_type": "code",
      "source": [
        "x"
      ],
      "metadata": {
        "colab": {
          "base_uri": "https://localhost:8080/"
        },
        "id": "8tp2kdXx3ybP",
        "outputId": "5340b70c-24dd-4e0b-c5fb-a29ff4614e83"
      },
      "execution_count": null,
      "outputs": [
        {
          "output_type": "execute_result",
          "data": {
            "text/plain": [
              "[1, 2, 3, 4, 5, 6, 7, 8, 9, 10]"
            ]
          },
          "metadata": {},
          "execution_count": 79
        }
      ]
    },
    {
      "cell_type": "code",
      "source": [
        "def checker2(x):\n",
        "  for i in range(len(x)):\n",
        "    if i%2==0:\n",
        "      return (\"even\")  # print(i,\"even\")\n",
        "    else:\n",
        "      return (\"odd\")   # print(i,\"odd\")"
      ],
      "metadata": {
        "id": "RDaOuAGG4aFf"
      },
      "execution_count": null,
      "outputs": []
    },
    {
      "cell_type": "code",
      "source": [
        "checker2(x)"
      ],
      "metadata": {
        "colab": {
          "base_uri": "https://localhost:8080/",
          "height": 36
        },
        "id": "vBPweBgY5MSW",
        "outputId": "e1063db9-fd53-4d70-d1e7-d04be5047386"
      },
      "execution_count": null,
      "outputs": [
        {
          "output_type": "execute_result",
          "data": {
            "text/plain": [
              "'even'"
            ],
            "application/vnd.google.colaboratory.intrinsic+json": {
              "type": "string"
            }
          },
          "metadata": {},
          "execution_count": 98
        }
      ]
    },
    {
      "cell_type": "code",
      "source": [
        "def cal_len(strA):\n",
        "  print(len(strA))\n",
        "\n",
        "inpStr = input(\"Enter your String: \")\n",
        "cal_len(inpStr)"
      ],
      "metadata": {
        "colab": {
          "base_uri": "https://localhost:8080/"
        },
        "id": "8zt1e95d7pPb",
        "outputId": "03e0a520-18d5-4ece-ee42-ec733e3fd1fd"
      },
      "execution_count": null,
      "outputs": [
        {
          "output_type": "stream",
          "name": "stdout",
          "text": [
            "Enter your String: anand\n",
            "5\n"
          ]
        }
      ]
    },
    {
      "cell_type": "code",
      "source": [
        "def isstr(n):\n",
        "    count = 0\n",
        "    for i in n:\n",
        "        count+=1\n",
        "    return count\n",
        "a = input(\"Enter string \")\n",
        "\n",
        "isstr(a)"
      ],
      "metadata": {
        "colab": {
          "base_uri": "https://localhost:8080/"
        },
        "id": "0onDrmHK7w9F",
        "outputId": "d4579e46-ca96-4eb6-d270-cc531b564033"
      },
      "execution_count": null,
      "outputs": [
        {
          "name": "stdout",
          "output_type": "stream",
          "text": [
            "Enter string anand'\n"
          ]
        },
        {
          "output_type": "execute_result",
          "data": {
            "text/plain": [
              "6"
            ]
          },
          "metadata": {},
          "execution_count": 100
        }
      ]
    },
    {
      "cell_type": "code",
      "source": [
        "def str(n):\n",
        "  count=0\n",
        "  for i in n:\n",
        "    count+=1"
      ],
      "metadata": {
        "id": "76QGzMQQ746V"
      },
      "execution_count": null,
      "outputs": []
    },
    {
      "cell_type": "markdown",
      "source": [
        "# argument functions"
      ],
      "metadata": {
        "id": "RabeeAiJBtEw"
      }
    },
    {
      "cell_type": "markdown",
      "source": [
        "# 1. position arguments"
      ],
      "metadata": {
        "id": "cIaxgMkXBvHq"
      }
    },
    {
      "cell_type": "code",
      "source": [
        "def price(original_price,discount_percentage):\n",
        "  discount_amount=original_price*discount_percentage/100\n",
        "  offer_price=original_price-discount_amount\n",
        "  return offer_price"
      ],
      "metadata": {
        "id": "J61GAA0j8mSS"
      },
      "execution_count": null,
      "outputs": []
    },
    {
      "cell_type": "code",
      "source": [
        "200*20/100"
      ],
      "metadata": {
        "colab": {
          "base_uri": "https://localhost:8080/"
        },
        "id": "aq0OIo5X9mNK",
        "outputId": "37b52d2d-f3b5-476c-c456-4f6a6718edfc"
      },
      "execution_count": null,
      "outputs": [
        {
          "output_type": "execute_result",
          "data": {
            "text/plain": [
              "40.0"
            ]
          },
          "metadata": {},
          "execution_count": 105
        }
      ]
    },
    {
      "cell_type": "code",
      "source": [
        "price(10000,20)"
      ],
      "metadata": {
        "colab": {
          "base_uri": "https://localhost:8080/"
        },
        "id": "U4_jSqzi9qJ3",
        "outputId": "edb4b45c-4b57-49a0-917b-cd7e371a3613"
      },
      "execution_count": null,
      "outputs": [
        {
          "output_type": "execute_result",
          "data": {
            "text/plain": [
              "8000.0"
            ]
          },
          "metadata": {},
          "execution_count": 106
        }
      ]
    },
    {
      "cell_type": "code",
      "source": [
        "# key argument"
      ],
      "metadata": {
        "id": "AG5e4DbT9u-5"
      },
      "execution_count": null,
      "outputs": []
    },
    {
      "cell_type": "code",
      "source": [],
      "metadata": {
        "id": "Ysbhh1AQ_APe"
      },
      "execution_count": null,
      "outputs": []
    },
    {
      "cell_type": "code",
      "source": [],
      "metadata": {
        "id": "jQsgGGt0Ysga"
      },
      "execution_count": null,
      "outputs": []
    }
  ]
}